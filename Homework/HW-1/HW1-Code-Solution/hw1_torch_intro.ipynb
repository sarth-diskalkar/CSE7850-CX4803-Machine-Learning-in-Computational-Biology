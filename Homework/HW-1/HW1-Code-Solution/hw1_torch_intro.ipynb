{
  "cells": [
    {
      "cell_type": "markdown",
      "metadata": {
        "id": "61BplcNKILDe"
      },
      "source": [
        "# Brief Introduction to PyTorch\n",
        "\n",
        "In this notebook, we will introduce some basical usage of PyTorch. You can get familiar with PyTorch by reading from start. In the end you have to complete some codes and submit them."
      ]
    },
    {
      "cell_type": "markdown",
      "metadata": {
        "id": "iz0DFyLpILDg"
      },
      "source": [
        "## Environment\n",
        "To running this code, you have to prepare a python environment. We recommend python version >= 3.8. You will need to install `torch`, `numpy` and `jupyter` packages. And in order to run the tests locally, you also need to install `scikit-learn` and `matplotlib`."
      ]
    },
    {
      "cell_type": "code",
      "execution_count": 27,
      "metadata": {
        "id": "r2iaEOetILDg"
      },
      "outputs": [],
      "source": [
        "import torch\n",
        "import numpy as np"
      ]
    },
    {
      "cell_type": "markdown",
      "metadata": {
        "id": "qhJx-X1zILDh"
      },
      "source": [
        "## Data Type (Tensor)\n",
        "The math operations in PyTorch is based on Tensors, just like most of the operations in numpy is based on numpy arrays. In practical usage, tensors are similar to arrays in numpy, which can represent matrics of high dimensions. For example, a tensor can be used to represent not only a one-bit array, but also a two-dimensional matrix and an image with rgb3 channels.\n",
        "\n",
        "### Tensor Creation\n",
        "\n",
        "There are a few ways to create tensors in PyTorch, the easiest way is to create from a Python List."
      ]
    },
    {
      "cell_type": "code",
      "execution_count": 28,
      "metadata": {
        "id": "C_6tAXZRILDi",
        "colab": {
          "base_uri": "https://localhost:8080/"
        },
        "outputId": "f83786b2-a78f-4964-d4b1-58dffc71206e"
      },
      "outputs": [
        {
          "output_type": "stream",
          "name": "stdout",
          "text": [
            "tensor([[1, 2, 3],\n",
            "        [4, 5, 6]])\n"
          ]
        }
      ],
      "source": [
        "a = torch.tensor([[1,2,3], [4,5,6]])\n",
        "print(a)"
      ]
    },
    {
      "cell_type": "markdown",
      "metadata": {
        "id": "4kdEyYcIILDi"
      },
      "source": [
        "We can also create a tensor from a numpy array."
      ]
    },
    {
      "cell_type": "code",
      "execution_count": 29,
      "metadata": {
        "id": "dH3bK62sILDi",
        "colab": {
          "base_uri": "https://localhost:8080/"
        },
        "outputId": "54fe6bae-f604-4593-f4e6-76d261580f8a"
      },
      "outputs": [
        {
          "output_type": "stream",
          "name": "stdout",
          "text": [
            "tensor([[6, 5, 4],\n",
            "        [3, 2, 1]])\n"
          ]
        }
      ],
      "source": [
        "b_array = np.array([[6,5,4], [3,2,1]])\n",
        "b = torch.from_numpy(b_array)\n",
        "print(b)"
      ]
    },
    {
      "cell_type": "markdown",
      "metadata": {
        "id": "swECqb1rILDi"
      },
      "source": [
        "Similar to numpy, we can create some special values directly."
      ]
    },
    {
      "cell_type": "code",
      "execution_count": 30,
      "metadata": {
        "id": "P054uIrTILDj",
        "colab": {
          "base_uri": "https://localhost:8080/"
        },
        "outputId": "2f1d6865-141c-4250-eec4-fdb1af155418"
      },
      "outputs": [
        {
          "output_type": "stream",
          "name": "stdout",
          "text": [
            "tensor([[0.2168, 0.3827, 0.5714],\n",
            "        [0.3131, 0.5749, 0.1092]])\n",
            "tensor([[1., 1., 1.],\n",
            "        [1., 1., 1.]])\n",
            "tensor([[0., 0., 0.],\n",
            "        [0., 0., 0.]])\n",
            "tensor([[1., 0., 0.],\n",
            "        [0., 1., 0.],\n",
            "        [0., 0., 1.]])\n"
          ]
        }
      ],
      "source": [
        "rand_v = torch.rand(size=(2, 3), dtype=torch.float32)\n",
        "ones_v = torch.ones(size=(2, 3), dtype=torch.float32)\n",
        "zeros_v = torch.zeros(size=(2,3), dtype=torch.float32)\n",
        "diag_v = torch.eye(3, dtype=torch.float32)\n",
        "\n",
        "print(rand_v)\n",
        "print(ones_v)\n",
        "print(zeros_v)\n",
        "print(diag_v)"
      ]
    },
    {
      "cell_type": "markdown",
      "metadata": {
        "id": "ajvnofhMILDj"
      },
      "source": [
        "### Tensor Operation\n",
        "\n",
        "We can index tensors in a similar way to numpy."
      ]
    },
    {
      "cell_type": "code",
      "execution_count": 31,
      "metadata": {
        "id": "ZdJ7cZB3ILDj",
        "colab": {
          "base_uri": "https://localhost:8080/"
        },
        "outputId": "ff2d9b68-fc70-4d28-a71c-b56e6195ce61"
      },
      "outputs": [
        {
          "output_type": "stream",
          "name": "stdout",
          "text": [
            "tensor([[1, 2, 3],\n",
            "        [4, 5, 6]])\n",
            "tensor([3, 6])\n",
            "tensor(6)\n"
          ]
        }
      ],
      "source": [
        "a = torch.tensor([[1,2,3], [4,5,6]])\n",
        "\n",
        "print(a)\n",
        "\n",
        "print(a[:, 2])\n",
        "\n",
        "print(a[1, 2])"
      ]
    },
    {
      "cell_type": "markdown",
      "metadata": {
        "id": "KRsIu-q8ILDj"
      },
      "source": [
        "Tensors also support many arithmetic operations similar to numpy."
      ]
    },
    {
      "cell_type": "code",
      "execution_count": 32,
      "metadata": {
        "id": "r7mIYZNzILDk",
        "colab": {
          "base_uri": "https://localhost:8080/"
        },
        "outputId": "edf0ff45-6344-440f-890a-f16d7eaa8910"
      },
      "outputs": [
        {
          "output_type": "execute_result",
          "data": {
            "text/plain": [
              "tensor([[1, 2, 3],\n",
              "        [4, 5, 6]])"
            ]
          },
          "metadata": {},
          "execution_count": 32
        }
      ],
      "source": [
        "# Create a 2x3 tensor\n",
        "a = torch.tensor([[1,2,3], [4,5,6]])\n",
        "a"
      ]
    },
    {
      "cell_type": "code",
      "execution_count": 33,
      "metadata": {
        "id": "SVileLbTILDk",
        "colab": {
          "base_uri": "https://localhost:8080/"
        },
        "outputId": "86a39ef2-65ea-41ed-9a72-fcc35a443c80"
      },
      "outputs": [
        {
          "output_type": "stream",
          "name": "stdout",
          "text": [
            "tensor([[3, 4, 5],\n",
            "        [6, 7, 8]])\n",
            "tensor([[ 9, 12, 15],\n",
            "        [18, 21, 24]])\n"
          ]
        }
      ],
      "source": [
        "# Elementwise addition and multiplication with a constant number\n",
        "a = a + 2\n",
        "print(a)\n",
        "\n",
        "a = a * 3\n",
        "print(a)"
      ]
    },
    {
      "cell_type": "code",
      "execution_count": 34,
      "metadata": {
        "id": "R3vTGskTILDk",
        "colab": {
          "base_uri": "https://localhost:8080/"
        },
        "outputId": "604badfa-3fe6-4d5b-9799-b5121c45e931"
      },
      "outputs": [
        {
          "output_type": "stream",
          "name": "stdout",
          "text": [
            "tensor([[6., 6., 6.],\n",
            "        [6., 6., 6.],\n",
            "        [6., 6., 6.]])\n"
          ]
        }
      ],
      "source": [
        "# Elementwise multiplication between two tensors\n",
        "a = torch.ones(size=(3, 3)) * 2\n",
        "b = torch.ones(size=(3, 3)) * 3\n",
        "c = a * b\n",
        "print(c)"
      ]
    },
    {
      "cell_type": "code",
      "execution_count": 35,
      "metadata": {
        "id": "nwAFgywbILDk",
        "colab": {
          "base_uri": "https://localhost:8080/"
        },
        "outputId": "4e5554a4-7679-4d86-ec57-48d552fed427"
      },
      "outputs": [
        {
          "output_type": "stream",
          "name": "stdout",
          "text": [
            "tensor([[1, 2],\n",
            "        [3, 4]])\n",
            "tensor([[5, 6],\n",
            "        [7, 8]])\n",
            "tensor([[19, 22],\n",
            "        [43, 50]])\n"
          ]
        }
      ],
      "source": [
        "# Matrix multiplication\n",
        "a = torch.tensor([[1, 2], [3, 4]])\n",
        "print(a)\n",
        "b = torch.tensor([[5, 6], [7, 8]])\n",
        "print(b)\n",
        "c = torch.matmul(a, b)\n",
        "print(c)"
      ]
    },
    {
      "cell_type": "code",
      "execution_count": 36,
      "metadata": {
        "id": "XNCYyKcgILDl",
        "colab": {
          "base_uri": "https://localhost:8080/"
        },
        "outputId": "1095bf64-4b19-40f1-e1ab-005be0b9fb75"
      },
      "outputs": [
        {
          "output_type": "stream",
          "name": "stdout",
          "text": [
            "tensor([[1, 2],\n",
            "        [3, 4]])\n",
            "tensor([6, 7])\n",
            "tensor([20, 46])\n"
          ]
        }
      ],
      "source": [
        "# Matrix multiply vector\n",
        "a = torch.tensor([[1, 2], [3, 4]])\n",
        "print(a)\n",
        "v = torch.tensor([6, 7])\n",
        "print(v)\n",
        "c = torch.matmul(a, v)\n",
        "print(c)"
      ]
    },
    {
      "cell_type": "markdown",
      "metadata": {
        "id": "x7ZLjETbILDl"
      },
      "source": [
        "## Assignment Task 1 (5 points)\n",
        "Complete a function that returns a diagonal matrix of dtype torch.float32, and the values on the diagonal are all the same as the input value x."
      ]
    },
    {
      "cell_type": "code",
      "execution_count": 37,
      "metadata": {
        "id": "UbC7zwVvILDl"
      },
      "outputs": [],
      "source": [
        "#export\n",
        "import torch\n",
        "### DO NOT CHANGE ANY CODE ABOVE THIS LINE IN THIS CELL ###\n",
        "def diag_matrix(n, x):\n",
        "    # TODO: complete this function, return a tensor with the shape n x n, and the values on the diagonal are all x, all other values are zero\n",
        "    matrix = torch.zeros(n, n)\n",
        "    matrix.fill_diagonal_(x)\n",
        "    return matrix"
      ]
    },
    {
      "cell_type": "markdown",
      "metadata": {
        "id": "LRf2wQ4ZILDl"
      },
      "source": [
        "## Matrix Operation\n",
        "In PyTorch, 2D tensors can be viewed as matrices. And torch supports some common operations on matrices.\n",
        "\n",
        "### Inverse Matrix and Pseudoinverse Matrix\n",
        "Pytorch supports operations to find the inverse and pseudoinverse of a matrix."
      ]
    },
    {
      "cell_type": "code",
      "execution_count": 38,
      "metadata": {
        "id": "r3iOrpQvILDl",
        "colab": {
          "base_uri": "https://localhost:8080/"
        },
        "outputId": "09f6d30a-2754-441b-d06c-b936df555a30"
      },
      "outputs": [
        {
          "output_type": "stream",
          "name": "stdout",
          "text": [
            "A x A':\n",
            "tensor([[1., 0.],\n",
            "        [0., 1.]])\n",
            "B x pinv(B)\n",
            "tensor([[ 1.0000e+00, -7.1526e-07],\n",
            "        [ 2.3842e-07,  1.0000e+00]])\n"
          ]
        }
      ],
      "source": [
        "# inverse of a matrix\n",
        "a = torch.tensor([[1, 2], [3, 4]], dtype=torch.float32)\n",
        "a_inv = torch.linalg.inv(a)\n",
        "print(\"A x A':\")\n",
        "print(torch.matmul(a, a_inv))\n",
        "\n",
        "# pseudoinverse of a matrix\n",
        "b = torch.rand(size=(2, 2), dtype=torch.float32)\n",
        "b_pinv = torch.linalg.pinv(b)\n",
        "print(\"B x pinv(B)\")\n",
        "print(torch.matmul(b, b_pinv))"
      ]
    },
    {
      "cell_type": "markdown",
      "metadata": {
        "id": "0Fkk3LxAILDm"
      },
      "source": [
        "### Transpose of a matrix\n",
        "Pytorch supports transpose operation for 2D tensor"
      ]
    },
    {
      "cell_type": "code",
      "execution_count": 39,
      "metadata": {
        "id": "3LhwkHpLILDm",
        "colab": {
          "base_uri": "https://localhost:8080/"
        },
        "outputId": "19b4f369-229f-43b3-97f8-c655bcbb8321"
      },
      "outputs": [
        {
          "output_type": "stream",
          "name": "stdout",
          "text": [
            "tensor([[1., 2.],\n",
            "        [3., 4.]])\n",
            "tensor([[1., 3.],\n",
            "        [2., 4.]])\n"
          ]
        }
      ],
      "source": [
        "# transpose of a matrix\n",
        "a = torch.tensor([[1, 2], [3, 4]], dtype=torch.float32)\n",
        "print(a)\n",
        "a_T = torch.t(a)\n",
        "print(a_T)"
      ]
    },
    {
      "cell_type": "markdown",
      "metadata": {
        "id": "aRcSGHmLILDm"
      },
      "source": [
        "### Concatenate matrices\n",
        "You can concatenate multiple matrices using PyTorch."
      ]
    },
    {
      "cell_type": "code",
      "execution_count": 40,
      "metadata": {
        "id": "ouZSfdirILDm",
        "colab": {
          "base_uri": "https://localhost:8080/"
        },
        "outputId": "87735f1c-543e-4e78-8ae0-a5e3e2f35f9c"
      },
      "outputs": [
        {
          "output_type": "stream",
          "name": "stdout",
          "text": [
            "tensor([[1, 2, 5, 6],\n",
            "        [3, 4, 7, 8]])\n",
            "tensor([[1, 2],\n",
            "        [3, 4],\n",
            "        [5, 6],\n",
            "        [7, 8]])\n"
          ]
        }
      ],
      "source": [
        "a = torch.tensor([[1, 2], [3, 4]])\n",
        "b = torch.tensor([[5, 6], [7, 8]])\n",
        "c = torch.cat((a, b), dim=1)\n",
        "print(c)\n",
        "d = torch.cat((a, b), dim=0)\n",
        "print(d)"
      ]
    },
    {
      "cell_type": "markdown",
      "metadata": {
        "id": "2EqgJ03wILDm"
      },
      "source": [
        "## Assignment Task 2 (13 points)\n",
        "We have learnt about linear regression and ordinary least squares (OLS) in class. Now we can use OLS to do linear regression. Basically you can solve linear regression with any library that supports matrix operations, including PyTorch.\n",
        "\n",
        "The given data will include a 2d matrix X and a 1d tensor Y. Every row of X represents features of one data point and every value in Y represents the target value. For one data point $(x_1, x_2, ..., x_n)$, you can predict the target by $y = \\theta_0 * 1 + \\theta_1  x_1 + \\theta_2  x_2 + ... + \\theta_n  x_n$. It should be noted that you should add a constant term here.\n",
        "\n",
        "In class we have analyzed that gradient $\\nabla_{\\theta} J(\\theta) = (X^T X) \\theta - X^T y$. In order to minimize the cost we have the optimal $\\theta^{*} = (X^T X)^{-1} X^T y$\n",
        "\n",
        "Complete the following class for linear regression. Complete both the `fit()` function and the `predict` function.\n",
        "You can add member variables to this class freedomly. You are not allowed to use any other third-party libraries other than pytorch.\n",
        "\n",
        "Also please note that the data we will use in the online tests are different from the data used in the local test. **Do not** rely on the patterns of the local test data."
      ]
    },
    {
      "cell_type": "code",
      "execution_count": 41,
      "metadata": {
        "id": "-3_4-I3BILDn"
      },
      "outputs": [],
      "source": [
        "#export\n",
        "import torch\n",
        "### DO NOT CHANGE ANY CODE ABOVE THIS LINE IN THIS CELL ###\n",
        "class LinearRegression:\n",
        "    def __init__(self, fit_intercept=True):\n",
        "        \"\"\"\n",
        "        @param fit_intercept: Whether to calculate the intercept for this model.\n",
        "        If set to False, no intercept will be used in calculations (i.e. data is expected to be centered).\n",
        "        \"\"\"\n",
        "        self.fit_intercept = fit_intercept\n",
        "        self.theta = None\n",
        "\n",
        "    def fit(self, X, Y):\n",
        "        \"\"\"\n",
        "        @param X: X is a tensor with shape m x n. Every row of X represents the features of a data point.\n",
        "        @param Y: Y is a 1d tensor with length n. Every value of Y is the target value.\n",
        "        \"\"\"\n",
        "        m = X.shape[0]\n",
        "        assert(m == Y.shape[0])\n",
        "        # Add constant terms if set\n",
        "        if self.fit_intercept:\n",
        "            constants = torch.ones(size=(m, 1), dtype=X.dtype)\n",
        "            new_X = torch.cat((X, constants), dim=1)\n",
        "        else:\n",
        "            new_X = X\n",
        "        new_X_T = torch.t(new_X)\n",
        "        # TODO: Complete the training of the linear regression model.\n",
        "        self.theta = torch.inverse(new_X_T @ new_X) @ new_X_T @ Y\n",
        "\n",
        "    def predict(self, X):\n",
        "        \"\"\"\n",
        "        @param X: X is a tensor with shape k x n\n",
        "        @return: the Y you should return is a 1d tensor with length n\n",
        "        \"\"\"\n",
        "        # TODO: Complete this function to predict Y based on X.\n",
        "        if self.fit_intercept:\n",
        "          constants = torch.ones(X.shape[0], 1, dtype=X.dtype)\n",
        "          X = torch.cat((X, constants), dim=1)\n",
        "        return X @ self.theta\n",
        "\n",
        "######################################################################\n",
        "########## DON'T WRITE ANY CODE OUTSIDE THE CLASS! ###################\n",
        "######## IF YOU WANT TO CALL OR TEST IT CREATE A NEW CELL ############\n",
        "######################################################################"
      ]
    },
    {
      "cell_type": "code",
      "execution_count": 42,
      "metadata": {
        "id": "hpO0Yd1NILDn",
        "colab": {
          "base_uri": "https://localhost:8080/"
        },
        "outputId": "bb989a7b-1cd0-4415-e961-665e84db356c"
      },
      "outputs": [
        {
          "output_type": "stream",
          "name": "stdout",
          "text": [
            "train mse: 3016.705 , test mse: 2292.5107\n",
            "train r2: 0.5119311579313763 , test r2:  0.5353845164645784\n"
          ]
        }
      ],
      "source": [
        "# Local test of the LinearRegression\n",
        "import sklearn\n",
        "from sklearn import datasets\n",
        "from sklearn import metrics\n",
        "\n",
        "# load a toy data set from sklearn\n",
        "X, y = datasets.load_diabetes(return_X_y=True, as_frame=True)\n",
        "\n",
        "data_num = X.shape[0]\n",
        "feature_num = X.shape[1]\n",
        "train_ratio = 0.8\n",
        "train_num = int(data_num * train_ratio)\n",
        "new_index = np.arange(data_num)\n",
        "X_mat = torch.tensor(X.to_numpy().astype(np.float32))\n",
        "y = torch.tensor(y.astype(np.float32))\n",
        "np.random.shuffle(new_index)\n",
        "X_mat = X_mat[new_index]\n",
        "y = y[new_index]\n",
        "train_X = X_mat[:train_num,:]\n",
        "train_Y = y[:train_num]\n",
        "test_X = X_mat[train_num:,:]\n",
        "test_Y = y[train_num:]\n",
        "\n",
        "l_reg = LinearRegression()\n",
        "l_reg.fit(train_X, train_Y)\n",
        "pred_train_y = l_reg.predict(train_X)\n",
        "pred_test_y = l_reg.predict(test_X)\n",
        "\n",
        "train_mse = metrics.mean_squared_error(train_Y, pred_train_y)\n",
        "test_mse = metrics.mean_squared_error(test_Y, pred_test_y)\n",
        "train_r2 = metrics.r2_score(train_Y, pred_train_y)\n",
        "test_r2 = metrics.r2_score(test_Y, pred_test_y)\n",
        "print(\"train mse:\", train_mse, \", test mse:\", test_mse)\n",
        "print(\"train r2:\", train_r2, \", test r2: \", test_r2)"
      ]
    },
    {
      "cell_type": "markdown",
      "metadata": {
        "id": "VJ24PiSHILDn"
      },
      "source": [
        "## Assignment Task 3 (7 points)\n",
        "\n",
        "Now, suppose we are not able to obtain all the features we want from datasets.\n",
        "We are only able to obtain their one feature, for example, \"bmi\" to predict the target.\n",
        "\n",
        "This is an example of how to implement non-linear relationships of bmi and disease progression.\n",
        "Here, we use $ bmi, bmi^2, bmi^3 $ as our new features.\n",
        "\n",
        "We can solve the regression of $ y = \\theta_0 + \\theta_1 x_1 + \\theta_2 x_1^2 + \\theta_3 x_1^3$\n",
        "\n",
        "We will give you a vector $x$. You need to make a matrix $X = [ x^1, x^2, x^3 ]$. Use the matrix $X$\n",
        "as the new features."
      ]
    },
    {
      "cell_type": "code",
      "execution_count": 43,
      "metadata": {
        "id": "IVzu1ioSILDo"
      },
      "outputs": [],
      "source": [
        "#export\n",
        "import torch\n",
        "### DO NOT CHANGE ANY CODE ABOVE THIS LINE IN THIS CELL ###\n",
        "def generate_non_linear_features(x):\n",
        "    \"\"\"\n",
        "    @param x: 1d tensor with length n, every value represents a data point. Every data point has only one feature.\n",
        "    @return: n x 3 tensor, every row of this matrix represents the new features of this data point. A data point x_k in x should have features [x_k, x_k^2, x_k^3]\n",
        "    \"\"\"\n",
        "    # TODO: Complete this function.\n",
        "    if x.ndim == 1:\n",
        "        x = x.unsqueeze(1)\n",
        "    x_squared = x ** 2\n",
        "    x_cubed = x ** 3\n",
        "    X = torch.cat([x, x_squared, x_cubed], dim=1)\n",
        "    return X"
      ]
    },
    {
      "cell_type": "code",
      "execution_count": 44,
      "metadata": {
        "id": "_yk6aatKILDo",
        "colab": {
          "base_uri": "https://localhost:8080/"
        },
        "outputId": "3ee6235f-9145-461f-943d-7346e79ea38e"
      },
      "outputs": [
        {
          "output_type": "stream",
          "name": "stdout",
          "text": [
            "torch.Size([442, 3])\n",
            "train mse: 3797.898 , test mse: 4314.5117\n",
            "train r2: 0.37179493271669395 , test r2:  0.2042954150027797\n"
          ]
        }
      ],
      "source": [
        "X, y = datasets.load_diabetes(return_X_y=True, as_frame=True)\n",
        "\n",
        "data_num = X.shape[0]\n",
        "# feature_num = X.shape[1]\n",
        "train_ratio = 0.8\n",
        "train_num = int(data_num * train_ratio)\n",
        "new_index = np.arange(data_num)\n",
        "\n",
        "X = X['bmi']\n",
        "X_vec = torch.tensor(X.to_numpy().astype(np.float32))\n",
        "y = torch.tensor(y.astype(np.float32))\n",
        "np.random.shuffle(new_index)\n",
        "X_vec = X_vec[new_index]\n",
        "X_mat = generate_non_linear_features(X_vec)\n",
        "print(X_mat.shape)\n",
        "y = y[new_index]\n",
        "train_X = X_mat[:train_num,:]\n",
        "train_Y = y[:train_num]\n",
        "test_X = X_mat[train_num:,:]\n",
        "test_Y = y[train_num:]\n",
        "\n",
        "l_reg = LinearRegression()\n",
        "l_reg.fit(train_X, train_Y)\n",
        "pred_train_y = l_reg.predict(train_X)\n",
        "pred_test_y = l_reg.predict(test_X)\n",
        "\n",
        "train_mse = metrics.mean_squared_error(train_Y, pred_train_y)\n",
        "test_mse = metrics.mean_squared_error(test_Y, pred_test_y)\n",
        "train_r2 = metrics.r2_score(train_Y, pred_train_y)\n",
        "test_r2 = metrics.r2_score(test_Y, pred_test_y)\n",
        "print(\"train mse:\", train_mse, \", test mse:\", test_mse)\n",
        "print(\"train r2:\", train_r2, \", test r2: \", test_r2)"
      ]
    },
    {
      "cell_type": "code",
      "execution_count": 45,
      "metadata": {
        "id": "gyQfhvuiILDo",
        "colab": {
          "base_uri": "https://localhost:8080/",
          "height": 467
        },
        "outputId": "1556fef7-1cbd-4ead-e6f9-576cf19d74bc"
      },
      "outputs": [
        {
          "output_type": "execute_result",
          "data": {
            "text/plain": [
              "[<matplotlib.lines.Line2D at 0x7e75372ef9d0>]"
            ]
          },
          "metadata": {},
          "execution_count": 45
        },
        {
          "output_type": "display_data",
          "data": {
            "text/plain": [
              "<Figure size 640x480 with 1 Axes>"
            ],
            "image/png": "[encoded data removed]"
          },
          "metadata": {}
        }
      ],
      "source": [
        "# Show the learned polynomial curve\n",
        "import matplotlib.pyplot as plt\n",
        "x_line = np.linspace(-0.1, 0.15, 15, dtype=np.float32)\n",
        "x_line_p3 = torch.tensor(np.stack([x_line, x_line**2, x_line**3], axis=1))\n",
        "y_train_pred = l_reg.predict(x_line_p3)\n",
        "\n",
        "plt.xlabel('Body Mass Index (BMI)')\n",
        "plt.ylabel('Diabetes Risk')\n",
        "plt.scatter(X_vec[:train_num], y[:train_num])\n",
        "plt.plot(x_line, y_train_pred)"
      ]
    },
    {
      "cell_type": "markdown",
      "metadata": {
        "id": "oFjIg40VILDp"
      },
      "source": [
        "## Submission\n",
        "Ensure you've thoroughly tested your code locally before submitting it for evaluation. Your submission to Gradescope should be a zip file containing specific files related to your solution and the trained models.\n",
        "\n",
        "### Submission Checklist:\n",
        "\n",
        "Ensure your zip file contains the following items:\n",
        "\n",
        "1. `hw1_torch_intro.ipynb`: The torch jupyter notebook containing all your code and answers.\n",
        "2. `hw1_reg.ipynb`: The regression jupyter notebook, which is the other part of this homework and should include your code.\n",
        "\n",
        "### Submission Instructions:\n",
        "\n",
        "- **File Format**: Submit all your files in a **ZIP** format.\n",
        "- **File Structure**: Avoid including a root directory in the zip file. Ensure all your files are compressed directly without a containing folder.\n",
        "- **Validation**: Before submitting, verify your code runs as expected and all outputs align with anticipated results.\n",
        "\n",
        "**IMPORTANT**: Please **do not** include a root directory in the zip file. The files should be compressed directly."
      ]
    }
  ],
  "metadata": {
    "kernelspec": {
      "display_name": "py3_8_env",
      "language": "python",
      "name": "python3"
    },
    "language_info": {
      "codemirror_mode": {
        "name": "ipython",
        "version": 3
      },
      "file_extension": ".py",
      "mimetype": "text/x-python",
      "name": "python",
      "nbconvert_exporter": "python",
      "pygments_lexer": "ipython3",
      "version": "3.8.9 (default, May 17 2022, 12:55:41) \n[Clang 13.1.6 (clang-1316.0.21.2.5)]"
    },
    "orig_nbformat": 4,
    "vscode": {
      "interpreter": {
        "hash": "62d6956ce3d91f763f1b1cb5000a8130923351a5b73c1bdd976d9a0bfec7bf14"
      }
    },
    "colab": {
      "provenance": []
    }
  },
  "nbformat": 4,
  "nbformat_minor": 0
}