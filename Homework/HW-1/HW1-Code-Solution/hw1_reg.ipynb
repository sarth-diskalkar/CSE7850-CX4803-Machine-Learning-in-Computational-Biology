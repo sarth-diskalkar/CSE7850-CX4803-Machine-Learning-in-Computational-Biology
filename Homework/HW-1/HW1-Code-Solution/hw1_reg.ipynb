{
  "cells": [
    {
      "cell_type": "markdown",
      "metadata": {
        "id": "njurnbxU3ZUl"
      },
      "source": [
        "# Regression Practice Problem: (25 points in total)\n",
        "\n",
        "We are going to work on a regression problem in this notebook. <br>\n",
        "The dataset we are using is the diabetes dataset from sklearn's toy dataset: https://scikit-learn.org/stable/modules/generated/sklearn.datasets.load_diabetes.html#sklearn.datasets.load_diabetes <br>\n",
        "Check out the url above if you would like to know about the meaning of each feature(/measurement). <br>\n",
        "In this dataset, we have 420 samples, and each has 10 features. The goal is to predcit $y$, the quantitative measure of disease progression, using linear regression. <br>\n",
        "The features are already normalized and ready for modeling purposes.\n"
      ]
    },
    {
      "cell_type": "code",
      "execution_count": 26,
      "metadata": {
        "id": "GZuuw3Eb3ZUm"
      },
      "outputs": [],
      "source": [
        "import matplotlib.pyplot as plt\n",
        "import numpy as np\n",
        "import pandas as pd\n",
        "import sklearn\n",
        "from sklearn import datasets\n",
        "from sklearn import feature_selection"
      ]
    },
    {
      "cell_type": "code",
      "execution_count": 27,
      "metadata": {
        "id": "xmiKU55F3ZUm"
      },
      "outputs": [],
      "source": [
        "#load our dataset from sklearn\n",
        "X, y = datasets.load_diabetes(return_X_y=True, as_frame=True)"
      ]
    },
    {
      "cell_type": "code",
      "execution_count": 28,
      "metadata": {
        "id": "7Wg0MCsX3ZUm",
        "colab": {
          "base_uri": "https://localhost:8080/",
          "height": 424
        },
        "outputId": "91d50992-b282-42e8-a6a3-a119987afcec"
      },
      "outputs": [
        {
          "output_type": "execute_result",
          "data": {
            "text/plain": [
              "          age       sex       bmi        bp        s1        s2        s3  \\\n",
              "0    0.038076  0.050680  0.061696  0.021872 -0.044223 -0.034821 -0.043401   \n",
              "1   -0.001882 -0.044642 -0.051474 -0.026328 -0.008449 -0.019163  0.074412   \n",
              "2    0.085299  0.050680  0.044451 -0.005670 -0.045599 -0.034194 -0.032356   \n",
              "3   -0.089063 -0.044642 -0.011595 -0.036656  0.012191  0.024991 -0.036038   \n",
              "4    0.005383 -0.044642 -0.036385  0.021872  0.003935  0.015596  0.008142   \n",
              "..        ...       ...       ...       ...       ...       ...       ...   \n",
              "437  0.041708  0.050680  0.019662  0.059744 -0.005697 -0.002566 -0.028674   \n",
              "438 -0.005515  0.050680 -0.015906 -0.067642  0.049341  0.079165 -0.028674   \n",
              "439  0.041708  0.050680 -0.015906  0.017293 -0.037344 -0.013840 -0.024993   \n",
              "440 -0.045472 -0.044642  0.039062  0.001215  0.016318  0.015283 -0.028674   \n",
              "441 -0.045472 -0.044642 -0.073030 -0.081413  0.083740  0.027809  0.173816   \n",
              "\n",
              "           s4        s5        s6  \n",
              "0   -0.002592  0.019907 -0.017646  \n",
              "1   -0.039493 -0.068332 -0.092204  \n",
              "2   -0.002592  0.002861 -0.025930  \n",
              "3    0.034309  0.022688 -0.009362  \n",
              "4   -0.002592 -0.031988 -0.046641  \n",
              "..        ...       ...       ...  \n",
              "437 -0.002592  0.031193  0.007207  \n",
              "438  0.034309 -0.018114  0.044485  \n",
              "439 -0.011080 -0.046883  0.015491  \n",
              "440  0.026560  0.044529 -0.025930  \n",
              "441 -0.039493 -0.004222  0.003064  \n",
              "\n",
              "[442 rows x 10 columns]"
            ],
            "text/html": [
              "\n",
              "  <div id=\"df-6e88f168-7322-4f2d-9271-e2a106695be0\" class=\"colab-df-container\">\n",
              "    <div>\n",
              "<style scoped>\n",
              "    .dataframe tbody tr th:only-of-type {\n",
              "        vertical-align: middle;\n",
              "    }\n",
              "\n",
              "    .dataframe tbody tr th {\n",
              "        vertical-align: top;\n",
              "    }\n",
              "\n",
              "    .dataframe thead th {\n",
              "        text-align: right;\n",
              "    }\n",
              "</style>\n",
              "<table border=\"1\" class=\"dataframe\">\n",
              "  <thead>\n",
              "    <tr style=\"text-align: right;\">\n",
              "      <th></th>\n",
              "      <th>age</th>\n",
              "      <th>sex</th>\n",
              "      <th>bmi</th>\n",
              "      <th>bp</th>\n",
              "      <th>s1</th>\n",
              "      <th>s2</th>\n",
              "      <th>s3</th>\n",
              "      <th>s4</th>\n",
              "      <th>s5</th>\n",
              "      <th>s6</th>\n",
              "    </tr>\n",
              "  </thead>\n",
              "  <tbody>\n",
              "    <tr>\n",
              "      <th>0</th>\n",
              "      <td>0.038076</td>\n",
              "      <td>0.050680</td>\n",
              "      <td>0.061696</td>\n",
              "      <td>0.021872</td>\n",
              "      <td>-0.044223</td>\n",
              "      <td>-0.034821</td>\n",
              "      <td>-0.043401</td>\n",
              "      <td>-0.002592</td>\n",
              "      <td>0.019907</td>\n",
              "      <td>-0.017646</td>\n",
              "    </tr>\n",
              "    <tr>\n",
              "      <th>1</th>\n",
              "      <td>-0.001882</td>\n",
              "      <td>-0.044642</td>\n",
              "      <td>-0.051474</td>\n",
              "      <td>-0.026328</td>\n",
              "      <td>-0.008449</td>\n",
              "      <td>-0.019163</td>\n",
              "      <td>0.074412</td>\n",
              "      <td>-0.039493</td>\n",
              "      <td>-0.068332</td>\n",
              "      <td>-0.092204</td>\n",
              "    </tr>\n",
              "    <tr>\n",
              "      <th>2</th>\n",
              "      <td>0.085299</td>\n",
              "      <td>0.050680</td>\n",
              "      <td>0.044451</td>\n",
              "      <td>-0.005670</td>\n",
              "      <td>-0.045599</td>\n",
              "      <td>-0.034194</td>\n",
              "      <td>-0.032356</td>\n",
              "      <td>-0.002592</td>\n",
              "      <td>0.002861</td>\n",
              "      <td>-0.025930</td>\n",
              "    </tr>\n",
              "    <tr>\n",
              "      <th>3</th>\n",
              "      <td>-0.089063</td>\n",
              "      <td>-0.044642</td>\n",
              "      <td>-0.011595</td>\n",
              "      <td>-0.036656</td>\n",
              "      <td>0.012191</td>\n",
              "      <td>0.024991</td>\n",
              "      <td>-0.036038</td>\n",
              "      <td>0.034309</td>\n",
              "      <td>0.022688</td>\n",
              "      <td>-0.009362</td>\n",
              "    </tr>\n",
              "    <tr>\n",
              "      <th>4</th>\n",
              "      <td>0.005383</td>\n",
              "      <td>-0.044642</td>\n",
              "      <td>-0.036385</td>\n",
              "      <td>0.021872</td>\n",
              "      <td>0.003935</td>\n",
              "      <td>0.015596</td>\n",
              "      <td>0.008142</td>\n",
              "      <td>-0.002592</td>\n",
              "      <td>-0.031988</td>\n",
              "      <td>-0.046641</td>\n",
              "    </tr>\n",
              "    <tr>\n",
              "      <th>...</th>\n",
              "      <td>...</td>\n",
              "      <td>...</td>\n",
              "      <td>...</td>\n",
              "      <td>...</td>\n",
              "      <td>...</td>\n",
              "      <td>...</td>\n",
              "      <td>...</td>\n",
              "      <td>...</td>\n",
              "      <td>...</td>\n",
              "      <td>...</td>\n",
              "    </tr>\n",
              "    <tr>\n",
              "      <th>437</th>\n",
              "      <td>0.041708</td>\n",
              "      <td>0.050680</td>\n",
              "      <td>0.019662</td>\n",
              "      <td>0.059744</td>\n",
              "      <td>-0.005697</td>\n",
              "      <td>-0.002566</td>\n",
              "      <td>-0.028674</td>\n",
              "      <td>-0.002592</td>\n",
              "      <td>0.031193</td>\n",
              "      <td>0.007207</td>\n",
              "    </tr>\n",
              "    <tr>\n",
              "      <th>438</th>\n",
              "      <td>-0.005515</td>\n",
              "      <td>0.050680</td>\n",
              "      <td>-0.015906</td>\n",
              "      <td>-0.067642</td>\n",
              "      <td>0.049341</td>\n",
              "      <td>0.079165</td>\n",
              "      <td>-0.028674</td>\n",
              "      <td>0.034309</td>\n",
              "      <td>-0.018114</td>\n",
              "      <td>0.044485</td>\n",
              "    </tr>\n",
              "    <tr>\n",
              "      <th>439</th>\n",
              "      <td>0.041708</td>\n",
              "      <td>0.050680</td>\n",
              "      <td>-0.015906</td>\n",
              "      <td>0.017293</td>\n",
              "      <td>-0.037344</td>\n",
              "      <td>-0.013840</td>\n",
              "      <td>-0.024993</td>\n",
              "      <td>-0.011080</td>\n",
              "      <td>-0.046883</td>\n",
              "      <td>0.015491</td>\n",
              "    </tr>\n",
              "    <tr>\n",
              "      <th>440</th>\n",
              "      <td>-0.045472</td>\n",
              "      <td>-0.044642</td>\n",
              "      <td>0.039062</td>\n",
              "      <td>0.001215</td>\n",
              "      <td>0.016318</td>\n",
              "      <td>0.015283</td>\n",
              "      <td>-0.028674</td>\n",
              "      <td>0.026560</td>\n",
              "      <td>0.044529</td>\n",
              "      <td>-0.025930</td>\n",
              "    </tr>\n",
              "    <tr>\n",
              "      <th>441</th>\n",
              "      <td>-0.045472</td>\n",
              "      <td>-0.044642</td>\n",
              "      <td>-0.073030</td>\n",
              "      <td>-0.081413</td>\n",
              "      <td>0.083740</td>\n",
              "      <td>0.027809</td>\n",
              "      <td>0.173816</td>\n",
              "      <td>-0.039493</td>\n",
              "      <td>-0.004222</td>\n",
              "      <td>0.003064</td>\n",
              "    </tr>\n",
              "  </tbody>\n",
              "</table>\n",
              "<p>442 rows × 10 columns</p>\n",
              "</div>\n",
              "    <div class=\"colab-df-buttons\">\n",
              "\n",
              "  <div class=\"colab-df-container\">\n",
              "    <button class=\"colab-df-convert\" onclick=\"convertToInteractive('df-6e88f168-7322-4f2d-9271-e2a106695be0')\"\n",
              "            title=\"Convert this dataframe to an interactive table.\"\n",
              "            style=\"display:none;\">\n",
              "\n",
              "  <svg xmlns=\"http://www.w3.org/2000/svg\" height=\"24px\" viewBox=\"0 -960 960 960\">\n",
              "    <path d=\"M120-120v-720h720v720H120Zm60-500h600v-160H180v160Zm220 220h160v-160H400v160Zm0 220h160v-160H400v160ZM180-400h160v-160H180v160Zm440 0h160v-160H620v160ZM180-180h160v-160H180v160Zm440 0h160v-160H620v160Z\"/>\n",
              "  </svg>\n",
              "    </button>\n",
              "\n",
              "  <style>\n",
              "    .colab-df-container {\n",
              "      display:flex;\n",
              "      gap: 12px;\n",
              "    }\n",
              "\n",
              "    .colab-df-convert {\n",
              "      background-color: #E8F0FE;\n",
              "      border: none;\n",
              "      border-radius: 50%;\n",
              "      cursor: pointer;\n",
              "      display: none;\n",
              "      fill: #1967D2;\n",
              "      height: 32px;\n",
              "      padding: 0 0 0 0;\n",
              "      width: 32px;\n",
              "    }\n",
              "\n",
              "    .colab-df-convert:hover {\n",
              "      background-color: #E2EBFA;\n",
              "      box-shadow: 0px 1px 2px rgba(60, 64, 67, 0.3), 0px 1px 3px 1px rgba(60, 64, 67, 0.15);\n",
              "      fill: #174EA6;\n",
              "    }\n",
              "\n",
              "    .colab-df-buttons div {\n",
              "      margin-bottom: 4px;\n",
              "    }\n",
              "\n",
              "    [theme=dark] .colab-df-convert {\n",
              "      background-color: #3B4455;\n",
              "      fill: #D2E3FC;\n",
              "    }\n",
              "\n",
              "    [theme=dark] .colab-df-convert:hover {\n",
              "      background-color: #434B5C;\n",
              "      box-shadow: 0px 1px 3px 1px rgba(0, 0, 0, 0.15);\n",
              "      filter: drop-shadow(0px 1px 2px rgba(0, 0, 0, 0.3));\n",
              "      fill: #FFFFFF;\n",
              "    }\n",
              "  </style>\n",
              "\n",
              "    <script>\n",
              "      const buttonEl =\n",
              "        document.querySelector('#df-6e88f168-7322-4f2d-9271-e2a106695be0 button.colab-df-convert');\n",
              "      buttonEl.style.display =\n",
              "        google.colab.kernel.accessAllowed ? 'block' : 'none';\n",
              "\n",
              "      async function convertToInteractive(key) {\n",
              "        const element = document.querySelector('#df-6e88f168-7322-4f2d-9271-e2a106695be0');\n",
              "        const dataTable =\n",
              "          await google.colab.kernel.invokeFunction('convertToInteractive',\n",
              "                                                    [key], {});\n",
              "        if (!dataTable) return;\n",
              "\n",
              "        const docLinkHtml = 'Like what you see? Visit the ' +\n",
              "          '<a target=\"_blank\" href=https://colab.research.google.com/notebooks/data_table.ipynb>data table notebook</a>'\n",
              "          + ' to learn more about interactive tables.';\n",
              "        element.innerHTML = '';\n",
              "        dataTable['output_type'] = 'display_data';\n",
              "        await google.colab.output.renderOutput(dataTable, element);\n",
              "        const docLink = document.createElement('div');\n",
              "        docLink.innerHTML = docLinkHtml;\n",
              "        element.appendChild(docLink);\n",
              "      }\n",
              "    </script>\n",
              "  </div>\n",
              "\n",
              "\n",
              "<div id=\"df-e2ee89bf-e80a-4886-b6a1-a3ef994c8670\">\n",
              "  <button class=\"colab-df-quickchart\" onclick=\"quickchart('df-e2ee89bf-e80a-4886-b6a1-a3ef994c8670')\"\n",
              "            title=\"Suggest charts\"\n",
              "            style=\"display:none;\">\n",
              "\n",
              "<svg xmlns=\"http://www.w3.org/2000/svg\" height=\"24px\"viewBox=\"0 0 24 24\"\n",
              "     width=\"24px\">\n",
              "    <g>\n",
              "        <path d=\"M19 3H5c-1.1 0-2 .9-2 2v14c0 1.1.9 2 2 2h14c1.1 0 2-.9 2-2V5c0-1.1-.9-2-2-2zM9 17H7v-7h2v7zm4 0h-2V7h2v10zm4 0h-2v-4h2v4z\"/>\n",
              "    </g>\n",
              "</svg>\n",
              "  </button>\n",
              "\n",
              "<style>\n",
              "  .colab-df-quickchart {\n",
              "      --bg-color: #E8F0FE;\n",
              "      --fill-color: #1967D2;\n",
              "      --hover-bg-color: #E2EBFA;\n",
              "      --hover-fill-color: #174EA6;\n",
              "      --disabled-fill-color: #AAA;\n",
              "      --disabled-bg-color: #DDD;\n",
              "  }\n",
              "\n",
              "  [theme=dark] .colab-df-quickchart {\n",
              "      --bg-color: #3B4455;\n",
              "      --fill-color: #D2E3FC;\n",
              "      --hover-bg-color: #434B5C;\n",
              "      --hover-fill-color: #FFFFFF;\n",
              "      --disabled-bg-color: #3B4455;\n",
              "      --disabled-fill-color: #666;\n",
              "  }\n",
              "\n",
              "  .colab-df-quickchart {\n",
              "    background-color: var(--bg-color);\n",
              "    border: none;\n",
              "    border-radius: 50%;\n",
              "    cursor: pointer;\n",
              "    display: none;\n",
              "    fill: var(--fill-color);\n",
              "    height: 32px;\n",
              "    padding: 0;\n",
              "    width: 32px;\n",
              "  }\n",
              "\n",
              "  .colab-df-quickchart:hover {\n",
              "    background-color: var(--hover-bg-color);\n",
              "    box-shadow: 0 1px 2px rgba(60, 64, 67, 0.3), 0 1px 3px 1px rgba(60, 64, 67, 0.15);\n",
              "    fill: var(--button-hover-fill-color);\n",
              "  }\n",
              "\n",
              "  .colab-df-quickchart-complete:disabled,\n",
              "  .colab-df-quickchart-complete:disabled:hover {\n",
              "    background-color: var(--disabled-bg-color);\n",
              "    fill: var(--disabled-fill-color);\n",
              "    box-shadow: none;\n",
              "  }\n",
              "\n",
              "  .colab-df-spinner {\n",
              "    border: 2px solid var(--fill-color);\n",
              "    border-color: transparent;\n",
              "    border-bottom-color: var(--fill-color);\n",
              "    animation:\n",
              "      spin 1s steps(1) infinite;\n",
              "  }\n",
              "\n",
              "  @keyframes spin {\n",
              "    0% {\n",
              "      border-color: transparent;\n",
              "      border-bottom-color: var(--fill-color);\n",
              "      border-left-color: var(--fill-color);\n",
              "    }\n",
              "    20% {\n",
              "      border-color: transparent;\n",
              "      border-left-color: var(--fill-color);\n",
              "      border-top-color: var(--fill-color);\n",
              "    }\n",
              "    30% {\n",
              "      border-color: transparent;\n",
              "      border-left-color: var(--fill-color);\n",
              "      border-top-color: var(--fill-color);\n",
              "      border-right-color: var(--fill-color);\n",
              "    }\n",
              "    40% {\n",
              "      border-color: transparent;\n",
              "      border-right-color: var(--fill-color);\n",
              "      border-top-color: var(--fill-color);\n",
              "    }\n",
              "    60% {\n",
              "      border-color: transparent;\n",
              "      border-right-color: var(--fill-color);\n",
              "    }\n",
              "    80% {\n",
              "      border-color: transparent;\n",
              "      border-right-color: var(--fill-color);\n",
              "      border-bottom-color: var(--fill-color);\n",
              "    }\n",
              "    90% {\n",
              "      border-color: transparent;\n",
              "      border-bottom-color: var(--fill-color);\n",
              "    }\n",
              "  }\n",
              "</style>\n",
              "\n",
              "  <script>\n",
              "    async function quickchart(key) {\n",
              "      const quickchartButtonEl =\n",
              "        document.querySelector('#' + key + ' button');\n",
              "      quickchartButtonEl.disabled = true;  // To prevent multiple clicks.\n",
              "      quickchartButtonEl.classList.add('colab-df-spinner');\n",
              "      try {\n",
              "        const charts = await google.colab.kernel.invokeFunction(\n",
              "            'suggestCharts', [key], {});\n",
              "      } catch (error) {\n",
              "        console.error('Error during call to suggestCharts:', error);\n",
              "      }\n",
              "      quickchartButtonEl.classList.remove('colab-df-spinner');\n",
              "      quickchartButtonEl.classList.add('colab-df-quickchart-complete');\n",
              "    }\n",
              "    (() => {\n",
              "      let quickchartButtonEl =\n",
              "        document.querySelector('#df-e2ee89bf-e80a-4886-b6a1-a3ef994c8670 button');\n",
              "      quickchartButtonEl.style.display =\n",
              "        google.colab.kernel.accessAllowed ? 'block' : 'none';\n",
              "    })();\n",
              "  </script>\n",
              "</div>\n",
              "\n",
              "  <div id=\"id_a3c80916-4192-40d3-96fa-9f5b22e78e77\">\n",
              "    <style>\n",
              "      .colab-df-generate {\n",
              "        background-color: #E8F0FE;\n",
              "        border: none;\n",
              "        border-radius: 50%;\n",
              "        cursor: pointer;\n",
              "        display: none;\n",
              "        fill: #1967D2;\n",
              "        height: 32px;\n",
              "        padding: 0 0 0 0;\n",
              "        width: 32px;\n",
              "      }\n",
              "\n",
              "      .colab-df-generate:hover {\n",
              "        background-color: #E2EBFA;\n",
              "        box-shadow: 0px 1px 2px rgba(60, 64, 67, 0.3), 0px 1px 3px 1px rgba(60, 64, 67, 0.15);\n",
              "        fill: #174EA6;\n",
              "      }\n",
              "\n",
              "      [theme=dark] .colab-df-generate {\n",
              "        background-color: #3B4455;\n",
              "        fill: #D2E3FC;\n",
              "      }\n",
              "\n",
              "      [theme=dark] .colab-df-generate:hover {\n",
              "        background-color: #434B5C;\n",
              "        box-shadow: 0px 1px 3px 1px rgba(0, 0, 0, 0.15);\n",
              "        filter: drop-shadow(0px 1px 2px rgba(0, 0, 0, 0.3));\n",
              "        fill: #FFFFFF;\n",
              "      }\n",
              "    </style>\n",
              "    <button class=\"colab-df-generate\" onclick=\"generateWithVariable('X')\"\n",
              "            title=\"Generate code using this dataframe.\"\n",
              "            style=\"display:none;\">\n",
              "\n",
              "  <svg xmlns=\"http://www.w3.org/2000/svg\" height=\"24px\"viewBox=\"0 0 24 24\"\n",
              "       width=\"24px\">\n",
              "    <path d=\"M7,19H8.4L18.45,9,17,7.55,7,17.6ZM5,21V16.75L18.45,3.32a2,2,0,0,1,2.83,0l1.4,1.43a1.91,1.91,0,0,1,.58,1.4,1.91,1.91,0,0,1-.58,1.4L9.25,21ZM18.45,9,17,7.55Zm-12,3A5.31,5.31,0,0,0,4.9,8.1,5.31,5.31,0,0,0,1,6.5,5.31,5.31,0,0,0,4.9,4.9,5.31,5.31,0,0,0,6.5,1,5.31,5.31,0,0,0,8.1,4.9,5.31,5.31,0,0,0,12,6.5,5.46,5.46,0,0,0,6.5,12Z\"/>\n",
              "  </svg>\n",
              "    </button>\n",
              "    <script>\n",
              "      (() => {\n",
              "      const buttonEl =\n",
              "        document.querySelector('#id_a3c80916-4192-40d3-96fa-9f5b22e78e77 button.colab-df-generate');\n",
              "      buttonEl.style.display =\n",
              "        google.colab.kernel.accessAllowed ? 'block' : 'none';\n",
              "\n",
              "      buttonEl.onclick = () => {\n",
              "        google.colab.notebook.generateWithVariable('X');\n",
              "      }\n",
              "      })();\n",
              "    </script>\n",
              "  </div>\n",
              "\n",
              "    </div>\n",
              "  </div>\n"
            ],
            "application/vnd.google.colaboratory.intrinsic+json": {
              "type": "dataframe",
              "variable_name": "X",
              "summary": "{\n  \"name\": \"X\",\n  \"rows\": 442,\n  \"fields\": [\n    {\n      \"column\": \"age\",\n      \"properties\": {\n        \"dtype\": \"number\",\n        \"std\": 0.047619047619047644,\n        \"min\": -0.1072256316073538,\n        \"max\": 0.11072667545381144,\n        \"num_unique_values\": 58,\n        \"samples\": [\n          0.038075906433423026,\n          -0.09269547780327612,\n          0.01991321417832592\n        ],\n        \"semantic_type\": \"\",\n        \"description\": \"\"\n      }\n    },\n    {\n      \"column\": \"sex\",\n      \"properties\": {\n        \"dtype\": \"number\",\n        \"std\": 0.047619047619047665,\n        \"min\": -0.044641636506989144,\n        \"max\": 0.05068011873981862,\n        \"num_unique_values\": 2,\n        \"samples\": [\n          -0.044641636506989144,\n          0.05068011873981862\n        ],\n        \"semantic_type\": \"\",\n        \"description\": \"\"\n      }\n    },\n    {\n      \"column\": \"bmi\",\n      \"properties\": {\n        \"dtype\": \"number\",\n        \"std\": 0.047619047619047616,\n        \"min\": -0.09027529589850945,\n        \"max\": 0.17055522598064407,\n        \"num_unique_values\": 163,\n        \"samples\": [\n          0.008883414898524095,\n          -0.05470749746044306\n        ],\n        \"semantic_type\": \"\",\n        \"description\": \"\"\n      }\n    },\n    {\n      \"column\": \"bp\",\n      \"properties\": {\n        \"dtype\": \"number\",\n        \"std\": 0.047619047619047596,\n        \"min\": -0.11239880254408448,\n        \"max\": 0.13204361674121307,\n        \"num_unique_values\": 100,\n        \"samples\": [\n          0.03333707926361473,\n          0.02531523648988596\n        ],\n        \"semantic_type\": \"\",\n        \"description\": \"\"\n      }\n    },\n    {\n      \"column\": \"s1\",\n      \"properties\": {\n        \"dtype\": \"number\",\n        \"std\": 0.04761904761904759,\n        \"min\": -0.12678066991651324,\n        \"max\": 0.15391371315651542,\n        \"num_unique_values\": 141,\n        \"samples\": [\n          0.041085578784023497,\n          0.08374011738825825\n        ],\n        \"semantic_type\": \"\",\n        \"description\": \"\"\n      }\n    },\n    {\n      \"column\": \"s2\",\n      \"properties\": {\n        \"dtype\": \"number\",\n        \"std\": 0.047619047619047644,\n        \"min\": -0.11561306597939897,\n        \"max\": 0.19878798965729408,\n        \"num_unique_values\": 302,\n        \"samples\": [\n          0.07415490186505921,\n          0.07008397186179521\n        ],\n        \"semantic_type\": \"\",\n        \"description\": \"\"\n      }\n    },\n    {\n      \"column\": \"s3\",\n      \"properties\": {\n        \"dtype\": \"number\",\n        \"std\": 0.047619047619047596,\n        \"min\": -0.10230705051741597,\n        \"max\": 0.18117906039727852,\n        \"num_unique_values\": 63,\n        \"samples\": [\n          0.09281975309919192,\n          0.15908923357275687\n        ],\n        \"semantic_type\": \"\",\n        \"description\": \"\"\n      }\n    },\n    {\n      \"column\": \"s4\",\n      \"properties\": {\n        \"dtype\": \"number\",\n        \"std\": 0.047619047619047616,\n        \"min\": -0.0763945037500033,\n        \"max\": 0.18523444326019867,\n        \"num_unique_values\": 66,\n        \"samples\": [\n          0.08670845052151895,\n          -0.024732934523729287\n        ],\n        \"semantic_type\": \"\",\n        \"description\": \"\"\n      }\n    },\n    {\n      \"column\": \"s5\",\n      \"properties\": {\n        \"dtype\": \"number\",\n        \"std\": 0.047619047619047616,\n        \"min\": -0.12609712083330468,\n        \"max\": 0.13359728192191356,\n        \"num_unique_values\": 184,\n        \"samples\": [\n          -0.07213275338232743,\n          -0.021395309255276825\n        ],\n        \"semantic_type\": \"\",\n        \"description\": \"\"\n      }\n    },\n    {\n      \"column\": \"s6\",\n      \"properties\": {\n        \"dtype\": \"number\",\n        \"std\": 0.047619047619047644,\n        \"min\": -0.13776722569000302,\n        \"max\": 0.13561183068907107,\n        \"num_unique_values\": 56,\n        \"samples\": [\n          -0.01764612515980379,\n          -0.09634615654165846\n        ],\n        \"semantic_type\": \"\",\n        \"description\": \"\"\n      }\n    }\n  ]\n}"
            }
          },
          "metadata": {},
          "execution_count": 28
        }
      ],
      "source": [
        "#take a look at our dataset X\n",
        "X"
      ]
    },
    {
      "cell_type": "code",
      "execution_count": 29,
      "metadata": {
        "id": "K4QBKXLb3ZUm",
        "colab": {
          "base_uri": "https://localhost:8080/"
        },
        "outputId": "150d7f79-7129-475a-a436-cddaa9140085"
      },
      "outputs": [
        {
          "output_type": "execute_result",
          "data": {
            "text/plain": [
              "0      151.0\n",
              "1       75.0\n",
              "2      141.0\n",
              "3      206.0\n",
              "4      135.0\n",
              "       ...  \n",
              "437    178.0\n",
              "438    104.0\n",
              "439    132.0\n",
              "440    220.0\n",
              "441     57.0\n",
              "Name: target, Length: 442, dtype: float64"
            ]
          },
          "metadata": {},
          "execution_count": 29
        }
      ],
      "source": [
        "# take a look at the ground truth/target for each patient\n",
        "y"
      ]
    },
    {
      "cell_type": "markdown",
      "metadata": {
        "id": "PithrS8P3ZUn"
      },
      "source": [
        "### Task 1: Exploring the features:\n",
        "\n",
        "Execute the code below <br>\n",
        "Answer the questions below and report it in your assignment PDF file. <br>\n",
        "(1) What are the three features you will want to keep if you can only use three features to predict disease progression? <br>\n",
        "Explain the reason in one sentence. (Hint: look at the output from pearson's r) <5 points> <br>\n",
        "(2) Use the function, `PlotDataset`, to visualize the relationship between your chosen features and the disease progression (Include your plots in your assignment PDF). <5 points>"
      ]
    },
    {
      "cell_type": "code",
      "execution_count": 30,
      "metadata": {
        "id": "zd-QG2Dg3ZUn",
        "colab": {
          "base_uri": "https://localhost:8080/"
        },
        "outputId": "f36b542f-7a64-4cd5-b62f-f7e1fa461348"
      },
      "outputs": [
        {
          "output_type": "execute_result",
          "data": {
            "text/plain": [
              "array([ 0.18788875,  0.043062  ,  0.58645013,  0.44148176,  0.21202248,\n",
              "        0.17405359, -0.39478925,  0.43045288,  0.56588259,  0.38248348])"
            ]
          },
          "metadata": {},
          "execution_count": 30
        }
      ],
      "source": [
        "# Compute Pearson's r for each feature & the target\n",
        "\n",
        "sklearn.feature_selection.r_regression(X, y)"
      ]
    },
    {
      "cell_type": "code",
      "execution_count": 31,
      "metadata": {
        "id": "aCheAyYn3ZUn"
      },
      "outputs": [],
      "source": [
        "#visualize the corelation between feature variables and disease progression\n",
        "def PlotDataset(x, y, feature):\n",
        "    '''\n",
        "    x: the dataset feature matrix. (pd dataframe)\n",
        "    y: the target vector (pd series)\n",
        "    feature: the feature to visualize (type: str)\n",
        "\n",
        "    '''\n",
        "    plt.scatter(x.loc[:,[feature]], y,  color='black')\n",
        "    plt.xlabel(feature)\n",
        "    plt.ylabel('Diabetes Progression')"
      ]
    },
    {
      "cell_type": "code",
      "execution_count": 32,
      "metadata": {
        "id": "tjN5QlYg3ZUn",
        "colab": {
          "base_uri": "https://localhost:8080/",
          "height": 449
        },
        "outputId": "857703d6-5bf4-4d51-c1b0-8bb7a1b182dc"
      },
      "outputs": [
        {
          "output_type": "display_data",
          "data": {
            "text/plain": [
              "<Figure size 640x480 with 1 Axes>"
            ],
            "image/png": "[encoded data removed]"
          },
          "metadata": {}
        }
      ],
      "source": [
        "\n",
        "#TODO: change feature1 to the feature you selected\n",
        "PlotDataset(X, y, \"bmi\")"
      ]
    },
    {
      "cell_type": "code",
      "execution_count": 33,
      "metadata": {
        "id": "IbSpMG8X3ZUn",
        "colab": {
          "base_uri": "https://localhost:8080/",
          "height": 449
        },
        "outputId": "0749adc6-9d20-4d1d-e32c-31f44ecdc503"
      },
      "outputs": [
        {
          "output_type": "display_data",
          "data": {
            "text/plain": [
              "<Figure size 640x480 with 1 Axes>"
            ],
            "image/png": "[encoded data removed]"
          },
          "metadata": {}
        }
      ],
      "source": [
        "#TODO: change feature2 to the feature you selected\n",
        "PlotDataset(X, y, \"bp\")"
      ]
    },
    {
      "cell_type": "code",
      "execution_count": 34,
      "metadata": {
        "id": "0lVtj3pA3ZUn",
        "colab": {
          "base_uri": "https://localhost:8080/",
          "height": 449
        },
        "outputId": "69fb89e9-1e1b-4aa6-8f9f-aee7f8b00a20"
      },
      "outputs": [
        {
          "output_type": "display_data",
          "data": {
            "text/plain": [
              "<Figure size 640x480 with 1 Axes>"
            ],
            "image/png": "[encoded data removed]"
          },
          "metadata": {}
        }
      ],
      "source": [
        "#TODO: change feature3 to the feature you selected\n",
        "PlotDataset(X, y, \"s5\")\n"
      ]
    },
    {
      "cell_type": "code",
      "execution_count": 35,
      "metadata": {
        "id": "vqeRBYas3ZUn"
      },
      "outputs": [],
      "source": [
        "#define training and testing dataset\n",
        "######## do not change anything in this cell ########\n",
        "\n",
        "X_train = X.iloc[:300]\n",
        "y_train = y.iloc[:300]\n",
        "X_test = X.iloc[-100:]\n",
        "y_test = y.iloc[-100:]\n"
      ]
    },
    {
      "cell_type": "markdown",
      "metadata": {
        "id": "BQfiTDeA3ZUn"
      },
      "source": [
        "### Task 2: Gradient descent for linear regression:\n",
        "\n",
        "Implement the gradient descent algorithm for linear regression. (Complete the code for gradient descent). <br>\n",
        "\n",
        "\n",
        "Answer the questions below and report it in your assignment pdf file: <br>\n",
        "(1) What is the MSE in your final iteration on your training set? What is the MSE on your test set? Note: Please use the formula $MSE = \\frac{1}{2n} \\sum_{i=1}^{n} (f_{\\theta} (x^i) - y^i)^2$ <8 points ><br>\n",
        "\n",
        "(2) Use the code below to plot the predictions and the actual diabetes progression, and include the figure in your assignment PDF. <7 points>\n"
      ]
    },
    {
      "cell_type": "code",
      "execution_count": 36,
      "metadata": {
        "id": "Nfi5GLK73ZUn"
      },
      "outputs": [],
      "source": [
        "#Define the model: assume we already know the best set of coefficient theta, we can predict y using this fucntion.\n",
        "def f(X, theta):\n",
        "    return X.dot(theta)\n",
        "\n",
        "#TODO: Define mean square error of the dataset given theta, X, y\n",
        "#you can refer to the slides of Regression on page 25 in class\n",
        "def mean_squared_error(theta, X, y):\n",
        "    predictions = f(X, theta)\n",
        "    errors = predictions - y\n",
        "    mse = 1 / (2 * len(y)) * np.sum(errors ** 2)\n",
        "    return mse\n",
        "\n",
        "#TODO: Define the gradient of mean square error given theta, X, y\n",
        "#you can refer to the slides on page 39 in class\n",
        "def mse_gradient(theta, X, y):\n",
        "    predictions = f(X, theta)\n",
        "    errors = predictions - y\n",
        "    gradient = 1 / len(y) * X.T.dot(errors)\n",
        "    return gradient\n",
        "\n",
        "\n"
      ]
    },
    {
      "cell_type": "code",
      "execution_count": 37,
      "metadata": {
        "id": "NRpnbMqI3ZUn",
        "colab": {
          "base_uri": "https://localhost:8080/"
        },
        "outputId": "070a5ed2-6533-4599-9c07-750e94f2c95d"
      },
      "outputs": [
        {
          "output_type": "stream",
          "name": "stderr",
          "text": [
            "<ipython-input-37-bd4c7403ef3d>:2: SettingWithCopyWarning: \n",
            "A value is trying to be set on a copy of a slice from a DataFrame.\n",
            "Try using .loc[row_indexer,col_indexer] = value instead\n",
            "\n",
            "See the caveats in the documentation: https://pandas.pydata.org/pandas-docs/stable/user_guide/indexing.html#returning-a-view-versus-a-copy\n",
            "  X_train['one'] = 1\n",
            "<ipython-input-37-bd4c7403ef3d>:3: SettingWithCopyWarning: \n",
            "A value is trying to be set on a copy of a slice from a DataFrame.\n",
            "Try using .loc[row_indexer,col_indexer] = value instead\n",
            "\n",
            "See the caveats in the documentation: https://pandas.pydata.org/pandas-docs/stable/user_guide/indexing.html#returning-a-view-versus-a-copy\n",
            "  X_test['one'] = 1\n"
          ]
        }
      ],
      "source": [
        "#add the bias term for the dataset\n",
        "X_train['one'] = 1\n",
        "X_test['one'] = 1"
      ]
    },
    {
      "cell_type": "code",
      "execution_count": 38,
      "metadata": {
        "id": "97MBjS0a3ZUo",
        "colab": {
          "base_uri": "https://localhost:8080/"
        },
        "outputId": "b513b460-f542-4be7-8d90-04dc2b141f88"
      },
      "outputs": [
        {
          "output_type": "stream",
          "name": "stdout",
          "text": [
            "Iteration 0. MSE: 6944.291987\n",
            "the current theta is: age     1.152277\n",
            "sex     1.030928\n",
            "bmi     1.722501\n",
            "bp      1.535950\n",
            "s1      1.172491\n",
            "s2      1.150502\n",
            "s3      0.549237\n",
            "s4      1.448081\n",
            "s5      1.660708\n",
            "s6      1.423422\n",
            "one    60.234027\n",
            "dtype: float64\n",
            "Iteration 500. MSE: 1763.481109\n",
            "the current theta is: age     37.734793\n",
            "sex    -38.233992\n",
            "bmi    256.036919\n",
            "bp     171.915442\n",
            "s1      35.069063\n",
            "s2       6.775013\n",
            "s3    -143.770282\n",
            "s4     133.393107\n",
            "s5     238.400184\n",
            "s6     136.273798\n",
            "one    151.615938\n",
            "dtype: float64\n",
            "Iteration 1000. MSE: 1583.006863\n",
            "the current theta is: age     24.506577\n",
            "sex   -106.526195\n",
            "bmi    366.535059\n",
            "bp     229.364517\n",
            "s1       6.959742\n",
            "s2     -47.292416\n",
            "s3    -177.841596\n",
            "s4     142.222539\n",
            "s5     332.623454\n",
            "s6     158.571239\n",
            "one    152.133219\n",
            "dtype: float64\n",
            "Iteration 1500. MSE: 1515.868146\n",
            "the current theta is: age     10.233639\n",
            "sex   -159.457768\n",
            "bmi    430.488028\n",
            "bp     256.191453\n",
            "s1     -16.513698\n",
            "s2     -89.860383\n",
            "s3    -187.484377\n",
            "s4     135.640614\n",
            "s5     386.384272\n",
            "s6     158.989146\n",
            "one    152.284818\n",
            "dtype: float64\n",
            "Iteration 2000. MSE: 1487.181194\n",
            "the current theta is: age      0.243698\n",
            "sex   -195.840417\n",
            "bmi    471.714166\n",
            "bp     270.555721\n",
            "s1     -31.176943\n",
            "s2    -117.852291\n",
            "s3    -190.076103\n",
            "s4     129.564943\n",
            "s5     421.925738\n",
            "s6     154.428951\n",
            "one    152.353527\n",
            "dtype: float64\n",
            "Iteration 2500. MSE: 1474.537611\n",
            "the current theta is: age     -6.208013\n",
            "sex   -219.896052\n",
            "bmi    499.258403\n",
            "bp     278.370098\n",
            "s1     -39.948790\n",
            "s2    -135.729819\n",
            "s3    -190.094268\n",
            "s4     125.523261\n",
            "s5     446.622352\n",
            "s6     148.780532\n",
            "one    152.393386\n",
            "dtype: float64\n",
            "Iteration 3000. MSE: 1468.818966\n",
            "the current theta is: age    -10.263678\n",
            "sex   -235.445428\n",
            "bmi    517.953480\n",
            "bp     282.418274\n",
            "s1     -45.272592\n",
            "s2    -147.166111\n",
            "s3    -189.060179\n",
            "s4     123.069299\n",
            "s5     464.178193\n",
            "s6     143.240013\n",
            "one    152.418527\n",
            "dtype: float64\n",
            "Iteration 3500. MSE: 1466.153092\n",
            "the current theta is: age    -12.765805\n",
            "sex   -245.285110\n",
            "bmi    530.783296\n",
            "bp     284.268566\n",
            "s1     -48.637317\n",
            "s2    -154.537199\n",
            "s3    -187.599313\n",
            "s4     121.679629\n",
            "s5     476.870527\n",
            "s6     138.243163\n",
            "one    152.434738\n",
            "dtype: float64\n",
            "Iteration 4000. MSE: 1464.863160\n",
            "the current theta is: age    -14.276385\n",
            "sex   -251.354330\n",
            "bmi    539.679409\n",
            "bp     284.855409\n",
            "s1     -50.897206\n",
            "s2    -159.318176\n",
            "s3    -185.992259\n",
            "s4     120.979392\n",
            "s5     486.195982\n",
            "s6     133.929700\n",
            "one    152.445233\n",
            "dtype: float64\n",
            "Iteration 4500. MSE: 1464.209805\n",
            "the current theta is: age    -15.161833\n",
            "sex   -254.968236\n",
            "bmi    545.913789\n",
            "bp     284.741475\n",
            "s1     -52.537645\n",
            "s2    -162.424431\n",
            "s3    -184.368108\n",
            "s4     120.722626\n",
            "s5     493.160665\n",
            "s6     130.304140\n",
            "one    152.452016\n",
            "dtype: float64\n",
            "Iteration 5000. MSE: 1463.860457\n",
            "the current theta is: age    -15.658937\n",
            "sex   -257.006672\n",
            "bmi    550.331767\n",
            "bp     284.263846\n",
            "s1     -53.835047\n",
            "s2    -164.429633\n",
            "s3    -182.785528\n",
            "s4     120.751513\n",
            "s5     498.448955\n",
            "s6     127.309517\n",
            "one    152.456378\n",
            "dtype: float64\n",
            "Iteration 5500. MSE: 1463.661919\n",
            "the current theta is: age    -15.919456\n",
            "sex   -258.051882\n",
            "bmi    553.499236\n",
            "bp     283.621714\n",
            "s1     -54.947312\n",
            "s2    -165.697857\n",
            "s3    -181.269645\n",
            "s4     120.965255\n",
            "s5     502.531049\n",
            "s6     124.865135\n",
            "one    152.459161\n",
            "dtype: float64\n"
          ]
        }
      ],
      "source": [
        "iter = 0\n",
        "theta, theta_prev = np.ones(11), np.full((11), 20)\n",
        "alpha = 4e-1 #alpha is the step size for gradient descent\n",
        "num_iters = 8000\n",
        "threshold = 1e-2\n",
        "################## DO NOT CHANGE THE CODE ABOVE THIS LINE IN THE CELL  ##############################\n",
        "\n",
        "\n",
        "while iter < num_iters+1 and np.linalg.norm(theta - theta_prev) > threshold:\n",
        "    gradient = mse_gradient(theta, X_train, y_train) #TODO: what is the gradient here? you can use the function you just implemented above\n",
        "    theta_prev = theta\n",
        "    theta = theta - alpha * gradient #TODO: what is the updated theta?\n",
        "    if iter % 500 == 0:\n",
        "        print('Iteration %d. MSE: %.6f' % (iter, mean_squared_error(theta, X_train, y_train)))\n",
        "        print(f'the current theta is: {theta}') #you can delete to_numpy() if your theta is a numpy array already\n",
        "    iter += 1\n"
      ]
    },
    {
      "cell_type": "code",
      "execution_count": 39,
      "metadata": {
        "id": "k8PrUxgJ3ZUo",
        "colab": {
          "base_uri": "https://localhost:8080/"
        },
        "outputId": "6d088d61-71b0-40e4-8e77-8922ad5e4e14"
      },
      "outputs": [
        {
          "output_type": "stream",
          "name": "stdout",
          "text": [
            "test set MSE: 1386.871429506086\n"
          ]
        }
      ],
      "source": [
        "print(\"test set MSE:\", mean_squared_error(theta, X_test, y_test))"
      ]
    },
    {
      "cell_type": "code",
      "execution_count": 40,
      "metadata": {
        "id": "_QQty30x3ZUo",
        "colab": {
          "base_uri": "https://localhost:8080/",
          "height": 473
        },
        "outputId": "1a250086-d0a8-42bb-9fb3-28d20aeec481"
      },
      "outputs": [
        {
          "output_type": "execute_result",
          "data": {
            "text/plain": [
              "Text(0, 0.5, 'Actual Diabetes Progression- test set')"
            ]
          },
          "metadata": {},
          "execution_count": 40
        },
        {
          "output_type": "display_data",
          "data": {
            "text/plain": [
              "<Figure size 640x480 with 1 Axes>"
            ],
            "image/png": "[encoded data removed]"
          },
          "metadata": {}
        }
      ],
      "source": [
        "y_pred = f(X_test, theta)\n",
        "plt.scatter(y_pred, y_test,  color='blue')\n",
        "plt.xlim([0, 400])\n",
        "plt.ylim([0, 400])\n",
        "plt.xlabel('Predicted Diabetes Progression- test set')\n",
        "plt.ylabel('Actual Diabetes Progression- test set')"
      ]
    },
    {
      "cell_type": "markdown",
      "metadata": {
        "id": "PvCWxNfd3ZUo"
      },
      "source": [
        "### Submission: <br>\n",
        "\n",
        "Please answer all the questions from above and write your responses in the assignment PDF (including the required plots). You will need to turn in your finished notebook along with the assignemnt PDF file. Please see hw1_torch_intro.ipynb for instructions on how to submit notebooks."
      ]
    },
    {
      "cell_type": "markdown",
      "metadata": {
        "id": "jiX3Z2gG3ZUo"
      },
      "source": []
    }
  ],
  "metadata": {
    "colab": {
      "provenance": []
    },
    "kernelspec": {
      "display_name": "Python 3.10.4 ('ml_hw1')",
      "language": "python",
      "name": "python3"
    },
    "language_info": {
      "codemirror_mode": {
        "name": "ipython",
        "version": 3
      },
      "file_extension": ".py",
      "mimetype": "text/x-python",
      "name": "python",
      "nbconvert_exporter": "python",
      "pygments_lexer": "ipython3",
      "version": "3.10.4"
    },
    "orig_nbformat": 4,
    "vscode": {
      "interpreter": {
        "hash": "35366ebd868341f88942055aff2bd0bb16dfc2a3089258ccf889e033b8a31ec3"
      }
    }
  },
  "nbformat": 4,
  "nbformat_minor": 0
}