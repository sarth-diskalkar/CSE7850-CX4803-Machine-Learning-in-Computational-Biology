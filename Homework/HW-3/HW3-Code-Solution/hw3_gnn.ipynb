{
  "cells": [
    {
      "cell_type": "markdown",
      "metadata": {
        "id": "eykUpghIF_1y"
      },
      "source": [
        "# Coding Practice 3 Graph Neural Networks (GNN)"
      ]
    },
    {
      "cell_type": "markdown",
      "metadata": {
        "id": "qz3Y9MSzF_10"
      },
      "source": [
        "Welcome to the Graph Neural Networks (GNN) programming assignment!\n",
        "\n",
        "In this hands-on assignment, we'll explore the fascinating domain of graph analysis through the lens of deep learning. Graph structures are pervasive in our world, from social networks to molecular interactions. GNNs equip us with the robust tools necessary to decipher and harness these complex relationships.\n",
        "\n",
        "By journey's end, you'll:\n",
        "- Grasp the foundational concepts of GNNs,\n",
        "- Understand their application in graph analysis, and\n",
        "- Gain practical experience in implementing GNNs using state-of-the-art deep learning frameworks.\n",
        "\n",
        "Dive in and let's embark on this learning adventure!\n"
      ]
    },
    {
      "cell_type": "markdown",
      "metadata": {
        "id": "JfSec4EnF_10"
      },
      "source": [
        "## Environment Setup\n",
        "\n",
        "For a seamless execution of this notebook, ensure your Python environment is properly set up. Here's what you'll need:\n",
        "\n",
        "- **Python Version**: We recommend using Python 3.8 or higher.\n",
        "- **Required Packages**: Install the following libraries to delve into GNNs:\n",
        "  - `torch`\n",
        "  - `torch_geometric`\n",
        "  - `torch_scatter`\n",
        "  - `torch_sparse`\n",
        "  - `torchmetrics`\n",
        "  - `networkx`\n",
        "  - `numpy`\n",
        "  - `jupyter`\n",
        "\n",
        "- **For Local Testing**: If you wish to visualize and run tests outside this notebook, please also install:\n",
        "  - `matplotlib`\n"
      ]
    },
    {
      "cell_type": "code",
      "execution_count": 1,
      "metadata": {
        "id": "xXnTSOUSF_11",
        "colab": {
          "base_uri": "https://localhost:8080/"
        },
        "outputId": "206b960a-08a0-4f4a-9feb-819db821e143"
      },
      "outputs": [
        {
          "output_type": "stream",
          "name": "stdout",
          "text": [
            "2.2.1+cu121\n",
            "\u001b[2K     \u001b[90m━━━━━━━━━━━━━━━━━━━━━━━━━━━━━━━━━━━━━━━━\u001b[0m \u001b[32m10.9/10.9 MB\u001b[0m \u001b[31m94.4 MB/s\u001b[0m eta \u001b[36m0:00:00\u001b[0m\n",
            "\u001b[2K     \u001b[90m━━━━━━━━━━━━━━━━━━━━━━━━━━━━━━━━━━━━━━━━\u001b[0m \u001b[32m5.0/5.0 MB\u001b[0m \u001b[31m68.4 MB/s\u001b[0m eta \u001b[36m0:00:00\u001b[0m\n",
            "\u001b[?25h  Installing build dependencies ... \u001b[?25l\u001b[?25hdone\n",
            "  Getting requirements to build wheel ... \u001b[?25l\u001b[?25hdone\n",
            "  Preparing metadata (pyproject.toml) ... \u001b[?25l\u001b[?25hdone\n",
            "  Building wheel for torch-geometric (pyproject.toml) ... \u001b[?25l\u001b[?25hdone\n",
            "\u001b[2K     \u001b[90m━━━━━━━━━━━━━━━━━━━━━━━━━━━━━━━━━━━━━━━━\u001b[0m \u001b[32m841.5/841.5 kB\u001b[0m \u001b[31m13.0 MB/s\u001b[0m eta \u001b[36m0:00:00\u001b[0m\n",
            "\u001b[?25h"
          ]
        }
      ],
      "source": [
        "# Install required packages.\n",
        "import os\n",
        "import torch\n",
        "os.environ['TORCH'] = torch.__version__\n",
        "print(torch.__version__)\n",
        "\n",
        "!pip install -q torch-scatter -f https://data.pyg.org/whl/torch-${TORCH}.html\n",
        "!pip install -q torch-sparse -f https://data.pyg.org/whl/torch-${TORCH}.html\n",
        "!pip install -q git+https://github.com/pyg-team/pytorch_geometric.git\n",
        "!pip install -q torchmetrics\n",
        "\n",
        "%matplotlib inline\n",
        "import matplotlib.pyplot as plt\n",
        "import torch_geometric\n",
        "import torch_scatter\n",
        "import torch_sparse\n",
        "import torchmetrics\n",
        "import networkx"
      ]
    },
    {
      "cell_type": "markdown",
      "metadata": {
        "id": "L_HNkeDnF_12"
      },
      "source": [
        "Graph Neural Networks (GNNs) represent a compelling frontier in the deep learning landscape, specifically tailored to address the challenges of irregular structured data inherent to graphs. Their core objective? Enable neural architectures to discern not just objects, but the intricate web of relationships connecting them.\n",
        "\n",
        "At the heart of GNNs lies the neural message-passing paradigm. Through iterative processes, node features undergo updates by accumulating insights from neighboring nodes. This tutorial endeavors to:\n",
        "- Illuminate the core principles of deep learning on graph structures via GNNs,\n",
        "- Showcase the power and elegance of the PyTorch Geometric (PyG) library – a robust extension of the PyTorch framework.\n",
        "\n",
        "With PyG, you'll find GNN implementation streamlined, thanks to its myriad of utilities and methods dedicated to this very task.\n"
      ]
    },
    {
      "cell_type": "markdown",
      "metadata": {
        "id": "hfeCQ2ggF_12"
      },
      "source": [
        "We'll commence our exploration with the **CLUSTER** dataset from the GNNBenchmarkDataset, as detailed in the paper [Benchmarking Graph Neural Networks](https://arxiv.org/abs/2003.00982). This dataset is a subset of the SBM datasets, which delves into node-level graph pattern recognition tasks (as explored by Scarselli et al., 2009). Specifically, it addresses:\n",
        "- Graph Pattern Recognition: **PATTERN**\n",
        "- Semi-supervised Graph Clustering: **CLUSTER**.\n",
        "\n",
        "The backbone of these datasets is the Stochastic Block Model (SBM) from Abbe (2017). A staple in the world of modeling communities within social networks, SBM fine-tunes the connections both within and outside communities. This modulation controls the intricacy of the tasks in hand. Specifically, in an SBM:\n",
        "- Two vertices within the same community have a connection probability of \\( p \\).\n",
        "- If they hail from distinct communities, the connection probability becomes \\( q \\) - serving as a noise level parameter.\n",
        "\n",
        "Shedding light on the **CLUSTER** dataset's specifics:\n",
        "- Each node boasts 7 features.\n",
        "- Labels span across 6 classes.\n",
        "- The overarching task? Multiclass classification.\n",
        "\n"
      ]
    },
    {
      "cell_type": "code",
      "execution_count": 2,
      "metadata": {
        "id": "hi_gzJS0F_13",
        "colab": {
          "base_uri": "https://localhost:8080/"
        },
        "outputId": "dfcb07e3-44ff-46bc-c4cb-ab5629c938f8"
      },
      "outputs": [
        {
          "output_type": "stream",
          "name": "stderr",
          "text": [
            "Downloading https://data.pyg.org/datasets/benchmarking-gnns/CLUSTER_v2.zip\n",
            "Extracting data/CLUSTER/raw/CLUSTER_v2.zip\n",
            "Processing...\n",
            "Done!\n"
          ]
        },
        {
          "output_type": "stream",
          "name": "stdout",
          "text": [
            "Train Dataset: CLUSTER(10000):\n",
            "Number of graphs: 10000\n",
            "Number of features: 7\n",
            "Number of classes: 6\n"
          ]
        }
      ],
      "source": [
        "from torch_geometric.datasets import GNNBenchmarkDataset\n",
        "\n",
        "train_dataset = GNNBenchmarkDataset(root='data', name='CLUSTER', split='train')\n",
        "val_dataset = GNNBenchmarkDataset(root='data', name='CLUSTER', split='val')\n",
        "\n",
        "print(f'Train Dataset: {train_dataset}:')\n",
        "print(f'Number of graphs: {len(train_dataset)}')\n",
        "print(f'Number of features: {train_dataset.num_features}')\n",
        "print(f'Number of classes: {train_dataset.num_classes}')"
      ]
    },
    {
      "cell_type": "markdown",
      "metadata": {
        "id": "rDJQKVHUF_13"
      },
      "source": [
        "We can see that the train set has 10000 graphs. Every node have 7 features. We can take a close look at the first graph."
      ]
    },
    {
      "cell_type": "code",
      "execution_count": 3,
      "metadata": {
        "id": "ztGpbFjkF_13",
        "colab": {
          "base_uri": "https://localhost:8080/"
        },
        "outputId": "918a9620-f5fe-4b26-9637-32fea88a0463"
      },
      "outputs": [
        {
          "output_type": "stream",
          "name": "stdout",
          "text": [
            "Data(x=[117, 7], edge_index=[2, 4104], y=[117])\n",
            "Number of nodes: 117\n",
            "Number of edges: 4104\n",
            "Average node degree: 35.08\n",
            "Is undirected: True\n"
          ]
        }
      ],
      "source": [
        "data = train_dataset[0]  # Get the first graph object.\n",
        "\n",
        "print(data)\n",
        "\n",
        "# Gather some statistics about the graph.\n",
        "print(f'Number of nodes: {data.num_nodes}')\n",
        "print(f'Number of edges: {data.num_edges}')\n",
        "print(f'Average node degree: {data.num_edges / data.num_nodes:.2f}')\n",
        "print(f'Is undirected: {data.is_undirected()}')\n"
      ]
    },
    {
      "cell_type": "markdown",
      "metadata": {
        "id": "nF397cceF_14"
      },
      "source": [
        "In PyTorch Geometric, the essence of a graph is encapsulated by a `Data` object, holding all salient details that define the graph. A simple `print(data)` reveals a snapshot of the object's attributes and their respective shapes. The data object predominantly comprises three attributes:\n",
        "\n",
        "1. `edge_index`: Encapsulates graph connectivity. It's structured as a tuple where each pair captures source and destination node indices for every edge.\n",
        "   \n",
        "2. `x`: A matrix (or tensor) representing node features. Here, each row corresponds to a specific node, and every column delineates a feature dimension.\n",
        "\n",
        "3. `y`: Captures node labels, assigning each node to one of the 121 available classes.\n",
        "\n",
        "The overarching objective? Decipher the community assignment for nodes that remain unclassified.\n",
        "\n",
        "Furthermore, the `Data` object is more than just a storage container. It offers utility functions to unveil key graph properties, like the presence of isolated nodes, self-loops, or the graph's directed/undirected nature.\n"
      ]
    },
    {
      "cell_type": "code",
      "execution_count": 4,
      "metadata": {
        "id": "5Bmz2Ne2F_14",
        "colab": {
          "base_uri": "https://localhost:8080/"
        },
        "outputId": "e75200de-ae4e-41b6-91cc-4b133bbb3b3e"
      },
      "outputs": [
        {
          "output_type": "stream",
          "name": "stdout",
          "text": [
            "tensor([0, 3, 3, 0, 4, 3, 0, 2, 0, 0, 0, 2, 2, 0, 1, 5, 3, 0, 2, 4, 2, 3, 2, 4,\n",
            "        3, 1, 3, 5, 2, 3, 0, 0, 3, 5, 2, 5, 3, 2, 0, 3, 0, 3, 3, 3, 0, 3, 2, 0,\n",
            "        3, 5, 2, 4, 1, 1, 3, 4, 4, 3, 3, 3, 0, 5, 2, 4, 3, 0, 0, 4, 3, 0, 0, 1,\n",
            "        4, 2, 3, 2, 0, 0, 0, 4, 2, 2, 3, 3, 3, 0, 0, 2, 2, 5, 4, 0, 2, 5, 4, 0,\n",
            "        0, 2, 0, 0, 0, 3, 3, 2, 2, 1, 2, 0, 0, 0, 5, 3, 1, 4, 3, 3, 5])\n"
          ]
        }
      ],
      "source": [
        "print(data.y)"
      ]
    },
    {
      "cell_type": "markdown",
      "metadata": {
        "id": "8LREKVa1F_14"
      },
      "source": [
        "For this multiclass classification, each label is represented as an integer within the range [0,5].\n"
      ]
    },
    {
      "cell_type": "markdown",
      "metadata": {
        "id": "kZIEpMRdF_14"
      },
      "source": [
        "We can visualize the graph using networkx."
      ]
    },
    {
      "cell_type": "code",
      "execution_count": 5,
      "metadata": {
        "id": "wn5z397tF_15",
        "colab": {
          "base_uri": "https://localhost:8080/",
          "height": 575
        },
        "outputId": "b4e44177-db51-4380-eb4d-2ddbcae35040"
      },
      "outputs": [
        {
          "output_type": "display_data",
          "data": {
            "text/plain": [
              "<Figure size 700x700 with 1 Axes>"
            ],
            "image/png": "[encoded data removed]"
          },
          "metadata": {}
        }
      ],
      "source": [
        "import networkx as nx\n",
        "\n",
        "from torch_geometric.utils import to_networkx\n",
        "\n",
        "G = to_networkx(data, to_undirected=True)\n",
        "\n",
        "def visualize_graph(G, color):\n",
        "    plt.figure(figsize=(7,7))\n",
        "    plt.xticks([])\n",
        "    plt.yticks([])\n",
        "    nx.draw_networkx(G, pos=nx.spring_layout(G, seed=21), with_labels=False,\n",
        "                     node_color=color, cmap=\"Set2\")\n",
        "    plt.show()\n",
        "# We random choose a class if there are more than 1 class for a data point\n",
        "visualize_graph(G, color=data.y)"
      ]
    },
    {
      "cell_type": "markdown",
      "metadata": {
        "id": "xeOXxctiF_15"
      },
      "source": [
        "In certain classification tasks, the graphs are typically small. As a result, batching these graphs before processing them in a Graph Neural Network becomes crucial for optimal CPU/GPU utilization. In other domains, such as images or language, standard batching approaches involve resizing or padding each example to uniformity. These are then grouped into an additional dimension, equivalent in length to the batch size.\n",
        "\n",
        "However, for GNNs, such methods might be impractical or result in excess memory consumption. PyTorch Geometric introduces an innovative batching approach that capitalizes on parallel processing across multiple examples. In this technique:\n",
        "- Adjacency matrices of individual graphs are stacked diagonally, crafting a single graph that encompasses multiple isolated subgraphs.\n",
        "- Correspondingly, node and target features undergo concatenation in the node dimension.\n",
        "\n",
        "Adopting this approach confers distinct advantages:\n",
        "\n",
        "1. **Unaltered Message Passing**: GNN operators leveraging message passing remain unaffected, as inter-graph node communications are non-existent.\n",
        "2. **Efficiency**: Given that adjacency matrices are stored in a sparse format, only non-zero entries (the edges) are retained. This ensures minimal computational and memory overhead.\n",
        "\n",
        "To facilitate this batching mechanism, PyTorch Geometric offers the `torch_geometric.data.DataLoader` class, seamlessly batching multiple graphs into a singular, expansive graph.\n"
      ]
    },
    {
      "cell_type": "code",
      "execution_count": 6,
      "metadata": {
        "id": "xDDxfwVnF_15",
        "colab": {
          "base_uri": "https://localhost:8080/",
          "height": 300
        },
        "outputId": "a062ed36-819a-41c4-c6d4-79e6b8d73619"
      },
      "outputs": [
        {
          "output_type": "display_data",
          "data": {
            "text/plain": [
              "<IPython.core.display.Javascript object>"
            ],
            "application/javascript": [
              "google.colab.output.setIframeHeight(0, true, {maxHeight: 300})"
            ]
          },
          "metadata": {}
        },
        {
          "output_type": "stream",
          "name": "stdout",
          "text": [
            "Step 1:\n",
            "=======\n",
            "Number of graphs in the current batch: 512\n",
            "DataBatch(x=[60083, 7], edge_index=[2, 2205788], y=[60083], batch=[60083], ptr=[513])\n",
            "\n",
            "Step 2:\n",
            "=======\n",
            "Number of graphs in the current batch: 512\n",
            "DataBatch(x=[60706, 7], edge_index=[2, 2244446], y=[60706], batch=[60706], ptr=[513])\n",
            "\n",
            "Step 3:\n",
            "=======\n",
            "Number of graphs in the current batch: 512\n",
            "DataBatch(x=[59462, 7], edge_index=[2, 2159164], y=[59462], batch=[59462], ptr=[513])\n",
            "\n",
            "Step 4:\n",
            "=======\n",
            "Number of graphs in the current batch: 512\n",
            "DataBatch(x=[60334, 7], edge_index=[2, 2226858], y=[60334], batch=[60334], ptr=[513])\n",
            "\n",
            "Step 5:\n",
            "=======\n",
            "Number of graphs in the current batch: 512\n",
            "DataBatch(x=[59133, 7], edge_index=[2, 2140224], y=[59133], batch=[59133], ptr=[513])\n",
            "\n",
            "Step 6:\n",
            "=======\n",
            "Number of graphs in the current batch: 512\n",
            "DataBatch(x=[59302, 7], edge_index=[2, 2159624], y=[59302], batch=[59302], ptr=[513])\n",
            "\n",
            "Step 7:\n",
            "=======\n",
            "Number of graphs in the current batch: 512\n",
            "DataBatch(x=[60464, 7], edge_index=[2, 2241922], y=[60464], batch=[60464], ptr=[513])\n",
            "\n",
            "Step 8:\n",
            "=======\n",
            "Number of graphs in the current batch: 512\n",
            "DataBatch(x=[60011, 7], edge_index=[2, 2202888], y=[60011], batch=[60011], ptr=[513])\n",
            "\n",
            "Step 9:\n",
            "=======\n",
            "Number of graphs in the current batch: 512\n",
            "DataBatch(x=[60848, 7], edge_index=[2, 2261390], y=[60848], batch=[60848], ptr=[513])\n",
            "\n",
            "Step 10:\n",
            "=======\n",
            "Number of graphs in the current batch: 512\n",
            "DataBatch(x=[59881, 7], edge_index=[2, 2191736], y=[59881], batch=[59881], ptr=[513])\n",
            "\n",
            "Step 11:\n",
            "=======\n",
            "Number of graphs in the current batch: 512\n",
            "DataBatch(x=[60087, 7], edge_index=[2, 2208242], y=[60087], batch=[60087], ptr=[513])\n",
            "\n",
            "Step 12:\n",
            "=======\n",
            "Number of graphs in the current batch: 512\n",
            "DataBatch(x=[60169, 7], edge_index=[2, 2214314], y=[60169], batch=[60169], ptr=[513])\n",
            "\n",
            "Step 13:\n",
            "=======\n",
            "Number of graphs in the current batch: 512\n",
            "DataBatch(x=[59308, 7], edge_index=[2, 2153124], y=[59308], batch=[59308], ptr=[513])\n",
            "\n",
            "Step 14:\n",
            "=======\n",
            "Number of graphs in the current batch: 512\n",
            "DataBatch(x=[60153, 7], edge_index=[2, 2212682], y=[60153], batch=[60153], ptr=[513])\n",
            "\n",
            "Step 15:\n",
            "=======\n",
            "Number of graphs in the current batch: 512\n",
            "DataBatch(x=[60088, 7], edge_index=[2, 2206596], y=[60088], batch=[60088], ptr=[513])\n",
            "\n",
            "Step 16:\n",
            "=======\n",
            "Number of graphs in the current batch: 512\n",
            "DataBatch(x=[59349, 7], edge_index=[2, 2161242], y=[59349], batch=[59349], ptr=[513])\n",
            "\n",
            "Step 17:\n",
            "=======\n",
            "Number of graphs in the current batch: 512\n",
            "DataBatch(x=[60195, 7], edge_index=[2, 2219496], y=[60195], batch=[60195], ptr=[513])\n",
            "\n",
            "Step 18:\n",
            "=======\n",
            "Number of graphs in the current batch: 512\n",
            "DataBatch(x=[60275, 7], edge_index=[2, 2214938], y=[60275], batch=[60275], ptr=[513])\n",
            "\n",
            "Step 19:\n",
            "=======\n",
            "Number of graphs in the current batch: 512\n",
            "DataBatch(x=[59958, 7], edge_index=[2, 2194420], y=[59958], batch=[59958], ptr=[513])\n",
            "\n",
            "Step 20:\n",
            "=======\n",
            "Number of graphs in the current batch: 272\n",
            "DataBatch(x=[32514, 7], edge_index=[2, 1219536], y=[32514], batch=[32514], ptr=[273])\n",
            "\n"
          ]
        }
      ],
      "source": [
        "from IPython.display import Javascript  # Restrict height of output cell.\n",
        "display(Javascript('''google.colab.output.setIframeHeight(0, true, {maxHeight: 300})'''))\n",
        "\n",
        "from torch_geometric.loader import DataLoader\n",
        "batch_size = 512\n",
        "train_loader = DataLoader(train_dataset, batch_size=batch_size, shuffle=True)\n",
        "val_loader = DataLoader(val_dataset, batch_size=batch_size, shuffle=False)\n",
        "for step, data in enumerate(train_loader):\n",
        "    print(f'Step {step + 1}:')\n",
        "    print('=======')\n",
        "    print(f'Number of graphs in the current batch: {data.num_graphs}')\n",
        "    print(data)\n",
        "    print()"
      ]
    },
    {
      "cell_type": "markdown",
      "metadata": {
        "id": "jk5zG71nF_16"
      },
      "source": [
        "In theory, we can classify a protein solely based on its feature representation, sidestepping the need for any relational information. To validate this idea, we can construct a basic MLP that operates exclusively on input node features and employs shared weights across all nodes.\n"
      ]
    },
    {
      "cell_type": "code",
      "execution_count": 7,
      "metadata": {
        "id": "sFW4gpu6F_16"
      },
      "outputs": [],
      "source": [
        "import torch\n",
        "from torch.nn import Linear\n",
        "import torch.nn.functional as F\n",
        "\n",
        "\n",
        "class MLP(torch.nn.Module):\n",
        "    def __init__(self, hidden_channels):\n",
        "        super().__init__()\n",
        "        self.lin1 = Linear(train_dataset.num_features, hidden_channels)\n",
        "        self.lin2 = Linear(hidden_channels, train_dataset.num_classes)\n",
        "\n",
        "    def forward(self, x):\n",
        "        x = self.lin1(x)\n",
        "        x = x.relu()\n",
        "        x = F.dropout(x, p=0.5, training=self.training)\n",
        "        x = self.lin2(x)\n",
        "        return x"
      ]
    },
    {
      "cell_type": "code",
      "execution_count": 8,
      "metadata": {
        "id": "jzGJAJFOGoex",
        "colab": {
          "base_uri": "https://localhost:8080/"
        },
        "outputId": "df4d1dde-c2be-4a86-f5b3-283efb5734ca"
      },
      "outputs": [
        {
          "output_type": "stream",
          "name": "stdout",
          "text": [
            "Using cuda device\n"
          ]
        }
      ],
      "source": [
        "# Get cpu or gpu device for training.\n",
        "device = \"cuda\" if torch.cuda.is_available() else \"cpu\"\n",
        "print(f\"Using {device} device\")"
      ]
    },
    {
      "cell_type": "code",
      "execution_count": 9,
      "metadata": {
        "id": "DjEE7hDRF_16",
        "colab": {
          "base_uri": "https://localhost:8080/"
        },
        "outputId": "098b96c1-d97e-4217-e537-84c55606a11c"
      },
      "outputs": [
        {
          "output_type": "stream",
          "name": "stdout",
          "text": [
            "MLP(\n",
            "  (lin1): Linear(in_features=7, out_features=16, bias=True)\n",
            "  (lin2): Linear(in_features=16, out_features=6, bias=True)\n",
            ")\n"
          ]
        }
      ],
      "source": [
        "model = MLP(hidden_channels=16).to(device)\n",
        "print(model)\n",
        "loss_fn = torch.nn.CrossEntropyLoss()  # Define loss loss_fn.\n",
        "\n",
        "optimizer = torch.optim.Adam(model.parameters(), lr=0.005, weight_decay=5e-6)  # Define optimizer.\n",
        "\n",
        "def train():\n",
        "      model.train()\n",
        "      optimizer.zero_grad()  # Clear gradients.\n",
        "      for data in train_loader:\n",
        "            out = model(data.x.to(device))  # Perform a single forward pass.\n",
        "            loss = loss_fn(out, data.y.to(device))  # Compute the loss solely based on the training nodes.\n",
        "            loss.backward()  # Derive gradients.\n",
        "            optimizer.step()  # Update parameters based on gradients."
      ]
    },
    {
      "cell_type": "markdown",
      "metadata": {
        "id": "qEQGBENFF_17"
      },
      "source": [
        "## Task 1: Compute the ROC AUC Score and Weighted Accuracy [3 pts]\n",
        "\n",
        "To gauge our model's efficacy on the CLUSTER dataset, we'll utilize two metrics: the [ROC AUC score](https://developers.google.com/machine-learning/crash-course/classification/roc-and-auc) and the weighted accuracy.\n",
        "\n",
        "**Weighted Accuracy**: This metric offers a nuanced view of the classification performance, especially in datasets where class distribution is imbalanced. It calculates accuracy for each class individually, then derives an overall accuracy score by weighting each class's accuracy by its presence (frequency) in the dataset. This ensures that performance on less frequent classes influences the final accuracy commensurate to their importance.\n",
        "\n",
        "**ROC (Receiver Operating Characteristic) AUC (Area Under the Curve)**: A performance metric for binary classification, quantifying the area beneath the ROC curve—a plot of the True Positive Rate (TPR) against the False Positive Rate (FPR) across various classification thresholds. A flawless classifier achieves a ROC AUC score of 1, whereas a random one secures a score of 0.5.\n",
        "\n",
        "For multiclass classification scenarios:\n",
        "\n",
        "1. **Macro-average ROC AUC**: Independently calculates the ROC AUC for each class, then averages the scores, treating all classes uniformly, irrespective of their dataset frequency.\n",
        "   \n",
        "2. **Weighted-average ROC AUC**: Similar to macro-averaging, with the distinction that classes are weighted by their dataset frequency.\n",
        "\n",
        "For our purposes, we'll employ both the weighted-average ROC AUC score and the weighted accuracy to evaluate our model's performance.\n",
        "\n",
        "Your task: Complete the `mlp_test` function to compute both the ROC AUC score and the weighted accuracy. You can utilize `MulticlassAUROC` and `MulticlassAccuracy` from [torchmetrics](https://lightning.ai/docs/torchmetrics/stable/) for the ROC AUC score and weighted accuracy. For weighted accuracy.\n"
      ]
    },
    {
      "cell_type": "code",
      "execution_count": 10,
      "metadata": {
        "id": "ISd9qYPEF_17"
      },
      "outputs": [],
      "source": [
        "#export\n",
        "from torchmetrics.classification import MulticlassAUROC\n",
        "from torchmetrics.classification.accuracy import MulticlassAccuracy\n",
        "import torch\n",
        "### DO NOT CHANGE ANY CODE ABOVE THIS LINE IN THIS CELL ###\n",
        "\n",
        "num_classes = 6\n",
        "\n",
        "def mlp_test(model, loss_fn, loader, device):\n",
        "    \"\"\"\n",
        "    model: pytorch GNN model\n",
        "    loss_fn: loss function\n",
        "    loader: DataLoader\n",
        "    device: device used to bind the model and tensor\n",
        "    return loss, weighted auroc, weighted accuracy\n",
        "    \"\"\"\n",
        "    model.eval()\n",
        "    total_loss = 0.0\n",
        "    auroc = MulticlassAUROC(num_classes=num_classes, average='weighted').to(device)\n",
        "    accuracy = MulticlassAccuracy(num_classes=num_classes, average='weighted').to(device)\n",
        "    total_nodes_n = 0\n",
        "\n",
        "    with torch.no_grad():\n",
        "        for data in loader:\n",
        "            data.x, data.y = data.x.to(device), data.y.to(device)\n",
        "            out = model(data.x)\n",
        "            loss = loss_fn(out, data.y)\n",
        "            total_loss += loss.item() * data.num_graphs\n",
        "            total_nodes_n += data.num_graphs\n",
        "\n",
        "            auroc.update(out.softmax(dim=-1), data.y)\n",
        "            accuracy.update(out, data.y)\n",
        "\n",
        "    final_auroc = auroc.compute()\n",
        "    final_accuracy = accuracy.compute()\n",
        "\n",
        "    return total_loss / total_nodes_n, final_auroc, final_accuracy"
      ]
    },
    {
      "cell_type": "code",
      "execution_count": 11,
      "metadata": {
        "id": "xXBoG67UF_17",
        "colab": {
          "base_uri": "https://localhost:8080/",
          "height": 300
        },
        "outputId": "363849ba-99bc-4016-8a07-14333c1f24a4"
      },
      "outputs": [
        {
          "output_type": "display_data",
          "data": {
            "text/plain": [
              "<IPython.core.display.Javascript object>"
            ],
            "application/javascript": [
              "google.colab.output.setIframeHeight(0, true, {maxHeight: 300})"
            ]
          },
          "metadata": {}
        },
        {
          "output_type": "stream",
          "name": "stdout",
          "text": [
            "Epoch: 001, Train Loss: 1.7869, Train Auroc: 0.5223, Train Acc: 0.1924, Valid Loss: 1.7872, Valid Auroc: 0.5221, Valid Acc: 0.1902\n",
            "Epoch: 002, Train Loss: 1.7788, Train Auroc: 0.5369, Train Acc: 0.2008, Valid Loss: 1.7787, Valid Auroc: 0.5368, Valid Acc: 0.2011\n",
            "Epoch: 003, Train Loss: 1.7674, Train Auroc: 0.5401, Train Acc: 0.2007, Valid Loss: 1.7676, Valid Auroc: 0.5400, Valid Acc: 0.1971\n",
            "Epoch: 004, Train Loss: 1.7531, Train Auroc: 0.5418, Train Acc: 0.2008, Valid Loss: 1.7533, Valid Auroc: 0.5415, Valid Acc: 0.2011\n",
            "Epoch: 005, Train Loss: 1.7415, Train Auroc: 0.5450, Train Acc: 0.2007, Valid Loss: 1.7418, Valid Auroc: 0.5448, Valid Acc: 0.1971\n",
            "Epoch: 006, Train Loss: 1.7323, Train Auroc: 0.5466, Train Acc: 0.2093, Valid Loss: 1.7323, Valid Auroc: 0.5464, Valid Acc: 0.2096\n",
            "Epoch: 007, Train Loss: 1.7224, Train Auroc: 0.5466, Train Acc: 0.2092, Valid Loss: 1.7229, Valid Auroc: 0.5464, Valid Acc: 0.2056\n",
            "Epoch: 008, Train Loss: 1.7134, Train Auroc: 0.5499, Train Acc: 0.2090, Valid Loss: 1.7138, Valid Auroc: 0.5496, Valid Acc: 0.2084\n",
            "Epoch: 009, Train Loss: 1.7087, Train Auroc: 0.5499, Train Acc: 0.2093, Valid Loss: 1.7089, Valid Auroc: 0.5496, Valid Acc: 0.2096\n",
            "Epoch: 010, Train Loss: 1.7058, Train Auroc: 0.5499, Train Acc: 0.2094, Valid Loss: 1.7062, Valid Auroc: 0.5496, Valid Acc: 0.2072\n",
            "Epoch: 011, Train Loss: 1.7041, Train Auroc: 0.5499, Train Acc: 0.2090, Valid Loss: 1.7046, Valid Auroc: 0.5496, Valid Acc: 0.2084\n",
            "Epoch: 012, Train Loss: 1.7029, Train Auroc: 0.5499, Train Acc: 0.2096, Valid Loss: 1.7033, Valid Auroc: 0.5496, Valid Acc: 0.2133\n",
            "Epoch: 013, Train Loss: 1.7019, Train Auroc: 0.5499, Train Acc: 0.2094, Valid Loss: 1.7024, Valid Auroc: 0.5496, Valid Acc: 0.2072\n",
            "Epoch: 014, Train Loss: 1.7010, Train Auroc: 0.5499, Train Acc: 0.2096, Valid Loss: 1.7014, Valid Auroc: 0.5496, Valid Acc: 0.2133\n",
            "Epoch: 015, Train Loss: 1.7006, Train Auroc: 0.5499, Train Acc: 0.2094, Valid Loss: 1.7011, Valid Auroc: 0.5496, Valid Acc: 0.2072\n",
            "Epoch: 016, Train Loss: 1.7004, Train Auroc: 0.5499, Train Acc: 0.2094, Valid Loss: 1.7009, Valid Auroc: 0.5496, Valid Acc: 0.2072\n",
            "Epoch: 017, Train Loss: 1.7003, Train Auroc: 0.5499, Train Acc: 0.2096, Valid Loss: 1.7007, Valid Auroc: 0.5496, Valid Acc: 0.2133\n",
            "Epoch: 018, Train Loss: 1.7003, Train Auroc: 0.5499, Train Acc: 0.2093, Valid Loss: 1.7007, Valid Auroc: 0.5496, Valid Acc: 0.2105\n",
            "Epoch: 019, Train Loss: 1.7002, Train Auroc: 0.5499, Train Acc: 0.2090, Valid Loss: 1.7007, Valid Auroc: 0.5496, Valid Acc: 0.2084\n",
            "Epoch: 020, Train Loss: 1.7002, Train Auroc: 0.5499, Train Acc: 0.2093, Valid Loss: 1.7006, Valid Auroc: 0.5496, Valid Acc: 0.2105\n",
            "Epoch: 021, Train Loss: 1.7002, Train Auroc: 0.5499, Train Acc: 0.2094, Valid Loss: 1.7008, Valid Auroc: 0.5496, Valid Acc: 0.2072\n",
            "Epoch: 022, Train Loss: 1.7001, Train Auroc: 0.5499, Train Acc: 0.2093, Valid Loss: 1.7006, Valid Auroc: 0.5496, Valid Acc: 0.2096\n",
            "Epoch: 023, Train Loss: 1.7002, Train Auroc: 0.5499, Train Acc: 0.2096, Valid Loss: 1.7005, Valid Auroc: 0.5496, Valid Acc: 0.2133\n",
            "Epoch: 024, Train Loss: 1.7002, Train Auroc: 0.5499, Train Acc: 0.2094, Valid Loss: 1.7007, Valid Auroc: 0.5496, Valid Acc: 0.2072\n",
            "Epoch: 025, Train Loss: 1.7001, Train Auroc: 0.5499, Train Acc: 0.2096, Valid Loss: 1.7005, Valid Auroc: 0.5496, Valid Acc: 0.2133\n",
            "Epoch: 026, Train Loss: 1.7001, Train Auroc: 0.5499, Train Acc: 0.2093, Valid Loss: 1.7005, Valid Auroc: 0.5496, Valid Acc: 0.2105\n",
            "Epoch: 027, Train Loss: 1.7001, Train Auroc: 0.5499, Train Acc: 0.2090, Valid Loss: 1.7006, Valid Auroc: 0.5496, Valid Acc: 0.2084\n",
            "Epoch: 028, Train Loss: 1.7001, Train Auroc: 0.5499, Train Acc: 0.2093, Valid Loss: 1.7006, Valid Auroc: 0.5496, Valid Acc: 0.2096\n",
            "Epoch: 029, Train Loss: 1.7001, Train Auroc: 0.5499, Train Acc: 0.2094, Valid Loss: 1.7006, Valid Auroc: 0.5496, Valid Acc: 0.2072\n"
          ]
        }
      ],
      "source": [
        "from IPython.display import Javascript  # Restrict height of output cell.\n",
        "display(Javascript('''google.colab.output.setIframeHeight(0, true, {maxHeight: 300})'''))\n",
        "\n",
        "# You can tune the hyperparameters like epoch_num, learning_rate, ...\n",
        "epoch_num = 30\n",
        "for epoch in range(1, epoch_num):\n",
        "    train()\n",
        "    train_loss, train_auroc, train_acc = mlp_test(model, loss_fn, train_loader, device)\n",
        "    val_loss, val_auroc, val_acc = mlp_test(model, loss_fn, val_loader, device)\n",
        "    print(f'Epoch: {epoch:03d}, Train Loss: {train_loss:.4f}, Train Auroc: {train_auroc:.4f}, '\n",
        "          f'Train Acc: {train_acc:.4f}, Valid Loss: {val_loss:.4f}, Valid Auroc: {val_auroc:.4f}, '\n",
        "          f'Valid Acc: {val_acc:.4f}')"
      ]
    },
    {
      "cell_type": "markdown",
      "metadata": {
        "id": "YvI5XTLGF_17"
      },
      "source": [
        "While we observed a decrease in the loss, we have yet to utilize the inherent structural relationships within the graph. Clearly, we're missing out on valuable information. By effectively harnessing this pertinent data, we stand to achieve an even greater reduction in loss.\n"
      ]
    },
    {
      "cell_type": "markdown",
      "metadata": {
        "id": "Abv4qEoyF_18"
      },
      "source": [
        "To transform our MLP into a GNN, we need to substitute the `torch.nn.Linear` layers with appropriate GNN operators from PyG. A fitting replacement for our linear layers is the `GCNConv` module from PyTorch Geometric.\n",
        "\n",
        "The GCN layer, as introduced by Kipf et al. (2017), is mathematically represented as:\n",
        "\n",
        "$$\n",
        "\\mathbf{x}_v^{(\\ell + 1)} = \\mathbf{W}^{(\\ell + 1)} \\sum_{w \\in N(v) \\, \\cup \\, \\{ v \\}} \\frac{1}{c_{w,v}} \\cdot \\mathbf{x}_w^{(\\ell)}\n",
        "$$\n",
        "\n",
        "In this equation, $\\mathbf{W}^{(\\ell + 1)}$ is a trainable weight matrix of dimensions `[num_output_features, num_input_features]`. The term $c_{w,v}$ denotes a predetermined normalization coefficient for each edge. Contrastingly, a singular `Linear` layer can be described as:\n",
        "\n",
        "$$\n",
        "\\mathbf{x}_v^{(\\ell + 1)} = \\mathbf{W}^{(\\ell + 1)} \\mathbf{x}_v^{(\\ell)}\n",
        "$$\n",
        "\n",
        "This does not factor in information from neighboring nodes.\n",
        "\n",
        "The rationale behind this substitution is that GNN operators are inherently designed to consider the graph's topology. By supplanting the `Linear` layers with GNN operators, we leverage information from adjacent nodes, enhancing our prediction capabilities.\n"
      ]
    },
    {
      "cell_type": "markdown",
      "metadata": {
        "id": "pDLIpomCF_18"
      },
      "source": [
        "## Task 2: Designing the Node Classification Model [9 pts]\n",
        "\n",
        "Your task is to finalize the `NodeGCN` class provided. We advise leveraging the `GCNConv` module to achieve this.\n",
        "\n",
        "To delve deeper into how various GNN layers affect model performance, consider experimenting with alternative types of layers. As a suggestion, you might replace the `GCNConv` layers with `GATConv` layers, which utilize attention mechanisms, and observe the differences in outcomes.\n"
      ]
    },
    {
      "cell_type": "code",
      "execution_count": 12,
      "metadata": {
        "id": "51ekeNO8F_18"
      },
      "outputs": [],
      "source": [
        "#export\n",
        "from torch_geometric.nn import GCNConv\n",
        "\n",
        "### DO NOT CHANGE ANY CODE ABOVE THIS LINE IN THIS CELL ###\n",
        "class NodeGCN(torch.nn.Module):\n",
        "    def __init__(self):\n",
        "        super().__init__()\n",
        "        # TODO: Finish the design of this model\n",
        "        self.conv1 = GCNConv(7, 32)\n",
        "        self.conv2 = GCNConv(32, 6)\n",
        "\n",
        "    def forward(self, x, edge_index):\n",
        "        # TODO: Finish this function\n",
        "        x = self.conv1(x, edge_index)\n",
        "        x = torch.relu(x)\n",
        "        x = F.dropout(x, p=0.5, training=self.training)\n",
        "\n",
        "        x = self.conv2(x, edge_index)\n",
        "        return x\n",
        "\n",
        "######################################################################\n",
        "########## DON'T WRITE ANY CODE OUTSIDE THE CLASS! ###################\n",
        "######## IF YOU WANT TO CALL OR TEST IT CREATE A NEW CELL ############\n",
        "######################################################################"
      ]
    },
    {
      "cell_type": "code",
      "execution_count": 13,
      "metadata": {
        "id": "HO9LNKIzF_19",
        "colab": {
          "base_uri": "https://localhost:8080/"
        },
        "outputId": "b206e803-c1cf-4a7b-9c06-c8c0a7922117"
      },
      "outputs": [
        {
          "output_type": "stream",
          "name": "stdout",
          "text": [
            "NodeGCN(\n",
            "  (conv1): GCNConv(7, 32)\n",
            "  (conv2): GCNConv(32, 6)\n",
            ")\n"
          ]
        }
      ],
      "source": [
        "model = NodeGCN().to(device)\n",
        "print(model)\n",
        "loss_fn = torch.nn.CrossEntropyLoss()  # Define loss loss_fn.\n",
        "\n",
        "# You can tune the hyperparameters\n",
        "optimizer = torch.optim.Adam(model.parameters(), lr=1e-4)  # Define optimizer."
      ]
    },
    {
      "cell_type": "code",
      "execution_count": 14,
      "metadata": {
        "id": "F-3Ci3fnF_19"
      },
      "outputs": [],
      "source": [
        "def train():\n",
        "      model.train()\n",
        "      optimizer.zero_grad()  # Clear gradients.\n",
        "      total_loss = 0.0\n",
        "      for data in train_loader:\n",
        "            out = model(data.x.to(device), data.edge_index.to(device))  # Perform a single forward pass.\n",
        "            loss = loss_fn(out, data.y.to(device))  # Compute the loss solely based on the training nodes.\n",
        "            total_loss += loss\n",
        "            loss.backward()  # Derive gradients.\n",
        "            optimizer.step()  # Update parameters based on gradients."
      ]
    },
    {
      "cell_type": "markdown",
      "metadata": {
        "id": "msgkx7EQF_19"
      },
      "source": [
        "## Task 3: Finish the `gnn_test` function and compute the ROC AUC and ACC score [3 pts]"
      ]
    },
    {
      "cell_type": "code",
      "execution_count": 15,
      "metadata": {
        "id": "m8R53c6YF_19"
      },
      "outputs": [],
      "source": [
        "#export\n",
        "from torchmetrics.classification import MulticlassAUROC\n",
        "from torchmetrics.classification import MulticlassAccuracy\n",
        "### DO NOT CHANGE ANY CODE ABOVE THIS LINE IN THIS CELL ###\n",
        "\n",
        "def gnn_test(model, loss_fn, loader, device):\n",
        "    \"\"\"\n",
        "    model: pytorch GNN model\n",
        "    loss_fn: loss function\n",
        "    loader: DataLoader\n",
        "    device: device used to bind the model and tensor\n",
        "    return loss, weighted auroc, weighted accuracy\n",
        "    \"\"\"\n",
        "    model.eval()\n",
        "    total_loss = 0.0\n",
        "    auroc = MulticlassAUROC(num_classes=6, average='weighted').to(device)\n",
        "    accuracy = MulticlassAccuracy(num_classes=6, average='weighted').to(device)\n",
        "\n",
        "    with torch.no_grad():\n",
        "        for data in loader:\n",
        "            data.x, data.y = data.x.to(device), data.y.to(device)\n",
        "            data.edge_index = data.edge_index.to(device)\n",
        "            out = model(data.x, data.edge_index)\n",
        "            loss = loss_fn(out, data.y)\n",
        "            total_loss += loss.item()\n",
        "\n",
        "            auroc.update(out.softmax(dim=-1), data.y)\n",
        "            accuracy.update(out, data.y)\n",
        "\n",
        "    final_auroc = auroc.compute()\n",
        "    final_accuracy = accuracy.compute()\n",
        "\n",
        "    return total_loss / len(loader), final_auroc, final_accuracy"
      ]
    },
    {
      "cell_type": "code",
      "execution_count": 16,
      "metadata": {
        "id": "wpjvgNS0F_1-",
        "colab": {
          "base_uri": "https://localhost:8080/",
          "height": 300
        },
        "outputId": "d05a83f2-211e-43c6-c286-c2b3df66575d"
      },
      "outputs": [
        {
          "output_type": "display_data",
          "data": {
            "text/plain": [
              "<IPython.core.display.Javascript object>"
            ],
            "application/javascript": [
              "google.colab.output.setIframeHeight(0, true, {maxHeight: 300})"
            ]
          },
          "metadata": {}
        },
        {
          "output_type": "stream",
          "name": "stdout",
          "text": [
            "Epoch: 001, Train Loss: 1.8146, Train AUROC: 0.5023, Train Acc: 0.1668, Valid Loss: 1.8154, Valid AUROC: 0.5040, Valid Acc: 0.1648\n",
            "Epoch: 002, Train Loss: 1.8127, Train AUROC: 0.5032, Train Acc: 0.1668, Valid Loss: 1.8133, Valid AUROC: 0.5048, Valid Acc: 0.1648\n",
            "Epoch: 003, Train Loss: 1.8110, Train AUROC: 0.5040, Train Acc: 0.1668, Valid Loss: 1.8115, Valid AUROC: 0.5056, Valid Acc: 0.1648\n",
            "Epoch: 004, Train Loss: 1.8093, Train AUROC: 0.5046, Train Acc: 0.1668, Valid Loss: 1.8099, Valid AUROC: 0.5062, Valid Acc: 0.1648\n",
            "Epoch: 005, Train Loss: 1.8079, Train AUROC: 0.5053, Train Acc: 0.1668, Valid Loss: 1.8084, Valid AUROC: 0.5069, Valid Acc: 0.1648\n",
            "Epoch: 006, Train Loss: 1.8067, Train AUROC: 0.5063, Train Acc: 0.1668, Valid Loss: 1.8070, Valid AUROC: 0.5079, Valid Acc: 0.1648\n",
            "Epoch: 007, Train Loss: 1.8054, Train AUROC: 0.5070, Train Acc: 0.1668, Valid Loss: 1.8058, Valid AUROC: 0.5085, Valid Acc: 0.1648\n",
            "Epoch: 008, Train Loss: 1.8043, Train AUROC: 0.5085, Train Acc: 0.1668, Valid Loss: 1.8047, Valid AUROC: 0.5100, Valid Acc: 0.1648\n",
            "Epoch: 009, Train Loss: 1.8033, Train AUROC: 0.5112, Train Acc: 0.1668, Valid Loss: 1.8036, Valid AUROC: 0.5126, Valid Acc: 0.1648\n",
            "Epoch: 010, Train Loss: 1.8024, Train AUROC: 0.5130, Train Acc: 0.1668, Valid Loss: 1.8026, Valid AUROC: 0.5144, Valid Acc: 0.1648\n",
            "Epoch: 011, Train Loss: 1.8015, Train AUROC: 0.5144, Train Acc: 0.1668, Valid Loss: 1.8017, Valid AUROC: 0.5159, Valid Acc: 0.1648\n",
            "Epoch: 012, Train Loss: 1.8007, Train AUROC: 0.5158, Train Acc: 0.1668, Valid Loss: 1.8009, Valid AUROC: 0.5173, Valid Acc: 0.1648\n",
            "Epoch: 013, Train Loss: 1.8000, Train AUROC: 0.5172, Train Acc: 0.1668, Valid Loss: 1.8002, Valid AUROC: 0.5186, Valid Acc: 0.1648\n",
            "Epoch: 014, Train Loss: 1.7993, Train AUROC: 0.5192, Train Acc: 0.1668, Valid Loss: 1.7995, Valid AUROC: 0.5204, Valid Acc: 0.1648\n",
            "Epoch: 015, Train Loss: 1.7986, Train AUROC: 0.5235, Train Acc: 0.1668, Valid Loss: 1.7989, Valid AUROC: 0.5245, Valid Acc: 0.1648\n",
            "Epoch: 016, Train Loss: 1.7981, Train AUROC: 0.5257, Train Acc: 0.1668, Valid Loss: 1.7983, Valid AUROC: 0.5267, Valid Acc: 0.1648\n",
            "Epoch: 017, Train Loss: 1.7975, Train AUROC: 0.5270, Train Acc: 0.1668, Valid Loss: 1.7977, Valid AUROC: 0.5280, Valid Acc: 0.1648\n",
            "Epoch: 018, Train Loss: 1.7970, Train AUROC: 0.5283, Train Acc: 0.1668, Valid Loss: 1.7972, Valid AUROC: 0.5292, Valid Acc: 0.1648\n",
            "Epoch: 019, Train Loss: 1.7966, Train AUROC: 0.5296, Train Acc: 0.1668, Valid Loss: 1.7967, Valid AUROC: 0.5305, Valid Acc: 0.1648\n",
            "Epoch: 020, Train Loss: 1.7962, Train AUROC: 0.5308, Train Acc: 0.1668, Valid Loss: 1.7963, Valid AUROC: 0.5316, Valid Acc: 0.1648\n",
            "Epoch: 021, Train Loss: 1.7957, Train AUROC: 0.5319, Train Acc: 0.1668, Valid Loss: 1.7959, Valid AUROC: 0.5327, Valid Acc: 0.1648\n",
            "Epoch: 022, Train Loss: 1.7954, Train AUROC: 0.5331, Train Acc: 0.1668, Valid Loss: 1.7955, Valid AUROC: 0.5338, Valid Acc: 0.1648\n",
            "Epoch: 023, Train Loss: 1.7950, Train AUROC: 0.5342, Train Acc: 0.1668, Valid Loss: 1.7951, Valid AUROC: 0.5349, Valid Acc: 0.1648\n",
            "Epoch: 024, Train Loss: 1.7947, Train AUROC: 0.5352, Train Acc: 0.1668, Valid Loss: 1.7948, Valid AUROC: 0.5359, Valid Acc: 0.1648\n",
            "Epoch: 025, Train Loss: 1.7944, Train AUROC: 0.5363, Train Acc: 0.1668, Valid Loss: 1.7944, Valid AUROC: 0.5370, Valid Acc: 0.1648\n",
            "Epoch: 026, Train Loss: 1.7940, Train AUROC: 0.5373, Train Acc: 0.1668, Valid Loss: 1.7941, Valid AUROC: 0.5381, Valid Acc: 0.1648\n",
            "Epoch: 027, Train Loss: 1.7938, Train AUROC: 0.5382, Train Acc: 0.1668, Valid Loss: 1.7939, Valid AUROC: 0.5390, Valid Acc: 0.1648\n",
            "Epoch: 028, Train Loss: 1.7935, Train AUROC: 0.5391, Train Acc: 0.1669, Valid Loss: 1.7936, Valid AUROC: 0.5399, Valid Acc: 0.1649\n",
            "Epoch: 029, Train Loss: 1.7932, Train AUROC: 0.5402, Train Acc: 0.1670, Valid Loss: 1.7933, Valid AUROC: 0.5410, Valid Acc: 0.1649\n",
            "Epoch: 030, Train Loss: 1.7930, Train AUROC: 0.5412, Train Acc: 0.1671, Valid Loss: 1.7931, Valid AUROC: 0.5421, Valid Acc: 0.1651\n",
            "Epoch: 031, Train Loss: 1.7928, Train AUROC: 0.5422, Train Acc: 0.1677, Valid Loss: 1.7929, Valid AUROC: 0.5430, Valid Acc: 0.1657\n",
            "Epoch: 032, Train Loss: 1.7927, Train AUROC: 0.5431, Train Acc: 0.1685, Valid Loss: 1.7927, Valid AUROC: 0.5438, Valid Acc: 0.1666\n",
            "Epoch: 033, Train Loss: 1.7925, Train AUROC: 0.5441, Train Acc: 0.1699, Valid Loss: 1.7925, Valid AUROC: 0.5448, Valid Acc: 0.1676\n",
            "Epoch: 034, Train Loss: 1.7923, Train AUROC: 0.5456, Train Acc: 0.1698, Valid Loss: 1.7924, Valid AUROC: 0.5463, Valid Acc: 0.1677\n",
            "Epoch: 035, Train Loss: 1.7922, Train AUROC: 0.5468, Train Acc: 0.1710, Valid Loss: 1.7922, Valid AUROC: 0.5475, Valid Acc: 0.1686\n",
            "Epoch: 036, Train Loss: 1.7920, Train AUROC: 0.5482, Train Acc: 0.1715, Valid Loss: 1.7921, Valid AUROC: 0.5490, Valid Acc: 0.1691\n",
            "Epoch: 037, Train Loss: 1.7919, Train AUROC: 0.5495, Train Acc: 0.1735, Valid Loss: 1.7920, Valid AUROC: 0.5503, Valid Acc: 0.1714\n",
            "Epoch: 038, Train Loss: 1.7918, Train AUROC: 0.5506, Train Acc: 0.1764, Valid Loss: 1.7919, Valid AUROC: 0.5513, Valid Acc: 0.1743\n",
            "Epoch: 039, Train Loss: 1.7917, Train AUROC: 0.5517, Train Acc: 0.1803, Valid Loss: 1.7918, Valid AUROC: 0.5524, Valid Acc: 0.1784\n",
            "Epoch: 040, Train Loss: 1.7917, Train AUROC: 0.5526, Train Acc: 0.1827, Valid Loss: 1.7917, Valid AUROC: 0.5533, Valid Acc: 0.1812\n",
            "Epoch: 041, Train Loss: 1.7916, Train AUROC: 0.5534, Train Acc: 0.1850, Valid Loss: 1.7916, Valid AUROC: 0.5540, Valid Acc: 0.1832\n",
            "Epoch: 042, Train Loss: 1.7915, Train AUROC: 0.5548, Train Acc: 0.1930, Valid Loss: 1.7916, Valid AUROC: 0.5553, Valid Acc: 0.1913\n",
            "Epoch: 043, Train Loss: 1.7915, Train AUROC: 0.5570, Train Acc: 0.1878, Valid Loss: 1.7915, Valid AUROC: 0.5577, Valid Acc: 0.1858\n",
            "Epoch: 044, Train Loss: 1.7914, Train AUROC: 0.5581, Train Acc: 0.1848, Valid Loss: 1.7914, Valid AUROC: 0.5588, Valid Acc: 0.1827\n",
            "Epoch: 045, Train Loss: 1.7914, Train AUROC: 0.5589, Train Acc: 0.1872, Valid Loss: 1.7914, Valid AUROC: 0.5595, Valid Acc: 0.1847\n",
            "Epoch: 046, Train Loss: 1.7913, Train AUROC: 0.5603, Train Acc: 0.1876, Valid Loss: 1.7913, Valid AUROC: 0.5609, Valid Acc: 0.1853\n",
            "Epoch: 047, Train Loss: 1.7913, Train AUROC: 0.5620, Train Acc: 0.1917, Valid Loss: 1.7913, Valid AUROC: 0.5625, Valid Acc: 0.1893\n",
            "Epoch: 048, Train Loss: 1.7913, Train AUROC: 0.5632, Train Acc: 0.1926, Valid Loss: 1.7913, Valid AUROC: 0.5638, Valid Acc: 0.1902\n",
            "Epoch: 049, Train Loss: 1.7913, Train AUROC: 0.5641, Train Acc: 0.1946, Valid Loss: 1.7912, Valid AUROC: 0.5646, Valid Acc: 0.1925\n",
            "Epoch: 050, Train Loss: 1.7912, Train AUROC: 0.5650, Train Acc: 0.1990, Valid Loss: 1.7912, Valid AUROC: 0.5654, Valid Acc: 0.1969\n",
            "Epoch: 051, Train Loss: 1.7912, Train AUROC: 0.5662, Train Acc: 0.2281, Valid Loss: 1.7912, Valid AUROC: 0.5668, Valid Acc: 0.2264\n",
            "Epoch: 052, Train Loss: 1.7911, Train AUROC: 0.5698, Train Acc: 0.1827, Valid Loss: 1.7911, Valid AUROC: 0.5705, Valid Acc: 0.1787\n",
            "Epoch: 053, Train Loss: 1.7911, Train AUROC: 0.5728, Train Acc: 0.1875, Valid Loss: 1.7911, Valid AUROC: 0.5734, Valid Acc: 0.1831\n",
            "Epoch: 054, Train Loss: 1.7910, Train AUROC: 0.5747, Train Acc: 0.2309, Valid Loss: 1.7910, Valid AUROC: 0.5753, Valid Acc: 0.2272\n",
            "Epoch: 055, Train Loss: 1.7910, Train AUROC: 0.5761, Train Acc: 0.2252, Valid Loss: 1.7910, Valid AUROC: 0.5768, Valid Acc: 0.2257\n",
            "Epoch: 056, Train Loss: 1.7910, Train AUROC: 0.5777, Train Acc: 0.2314, Valid Loss: 1.7910, Valid AUROC: 0.5783, Valid Acc: 0.2325\n",
            "Epoch: 057, Train Loss: 1.7910, Train AUROC: 0.5789, Train Acc: 0.2396, Valid Loss: 1.7910, Valid AUROC: 0.5795, Valid Acc: 0.2391\n",
            "Epoch: 058, Train Loss: 1.7909, Train AUROC: 0.5810, Train Acc: 0.2318, Valid Loss: 1.7909, Valid AUROC: 0.5816, Valid Acc: 0.2314\n",
            "Epoch: 059, Train Loss: 1.7909, Train AUROC: 0.5820, Train Acc: 0.2258, Valid Loss: 1.7909, Valid AUROC: 0.5826, Valid Acc: 0.2233\n",
            "Epoch: 060, Train Loss: 1.7909, Train AUROC: 0.5822, Train Acc: 0.2387, Valid Loss: 1.7909, Valid AUROC: 0.5827, Valid Acc: 0.2359\n",
            "Epoch: 061, Train Loss: 1.7909, Train AUROC: 0.5847, Train Acc: 0.2277, Valid Loss: 1.7909, Valid AUROC: 0.5853, Valid Acc: 0.2278\n",
            "Epoch: 062, Train Loss: 1.7909, Train AUROC: 0.5864, Train Acc: 0.2306, Valid Loss: 1.7908, Valid AUROC: 0.5870, Valid Acc: 0.2316\n",
            "Epoch: 063, Train Loss: 1.7908, Train AUROC: 0.5872, Train Acc: 0.2233, Valid Loss: 1.7908, Valid AUROC: 0.5878, Valid Acc: 0.2238\n",
            "Epoch: 064, Train Loss: 1.7908, Train AUROC: 0.5880, Train Acc: 0.2269, Valid Loss: 1.7908, Valid AUROC: 0.5886, Valid Acc: 0.2292\n",
            "Epoch: 065, Train Loss: 1.7908, Train AUROC: 0.5891, Train Acc: 0.2343, Valid Loss: 1.7908, Valid AUROC: 0.5897, Valid Acc: 0.2359\n",
            "Epoch: 066, Train Loss: 1.7908, Train AUROC: 0.5917, Train Acc: 0.2208, Valid Loss: 1.7908, Valid AUROC: 0.5923, Valid Acc: 0.2207\n",
            "Epoch: 067, Train Loss: 1.7908, Train AUROC: 0.5934, Train Acc: 0.2089, Valid Loss: 1.7907, Valid AUROC: 0.5939, Valid Acc: 0.2115\n",
            "Epoch: 068, Train Loss: 1.7908, Train AUROC: 0.5934, Train Acc: 0.2281, Valid Loss: 1.7907, Valid AUROC: 0.5940, Valid Acc: 0.2289\n",
            "Epoch: 069, Train Loss: 1.7907, Train AUROC: 0.5944, Train Acc: 0.2267, Valid Loss: 1.7907, Valid AUROC: 0.5950, Valid Acc: 0.2278\n",
            "Epoch: 070, Train Loss: 1.7907, Train AUROC: 0.5957, Train Acc: 0.2189, Valid Loss: 1.7907, Valid AUROC: 0.5964, Valid Acc: 0.2197\n",
            "Epoch: 071, Train Loss: 1.7907, Train AUROC: 0.5971, Train Acc: 0.2288, Valid Loss: 1.7907, Valid AUROC: 0.5977, Valid Acc: 0.2296\n",
            "Epoch: 072, Train Loss: 1.7907, Train AUROC: 0.5977, Train Acc: 0.2307, Valid Loss: 1.7907, Valid AUROC: 0.5983, Valid Acc: 0.2310\n",
            "Epoch: 073, Train Loss: 1.7907, Train AUROC: 0.5993, Train Acc: 0.2218, Valid Loss: 1.7906, Valid AUROC: 0.5999, Valid Acc: 0.2235\n",
            "Epoch: 074, Train Loss: 1.7906, Train AUROC: 0.6008, Train Acc: 0.2360, Valid Loss: 1.7906, Valid AUROC: 0.6014, Valid Acc: 0.2375\n",
            "Epoch: 075, Train Loss: 1.7906, Train AUROC: 0.6014, Train Acc: 0.2237, Valid Loss: 1.7906, Valid AUROC: 0.6019, Valid Acc: 0.2210\n",
            "Epoch: 076, Train Loss: 1.7906, Train AUROC: 0.6012, Train Acc: 0.2155, Valid Loss: 1.7906, Valid AUROC: 0.6017, Valid Acc: 0.2121\n",
            "Epoch: 077, Train Loss: 1.7906, Train AUROC: 0.6033, Train Acc: 0.2402, Valid Loss: 1.7906, Valid AUROC: 0.6039, Valid Acc: 0.2411\n",
            "Epoch: 078, Train Loss: 1.7906, Train AUROC: 0.6041, Train Acc: 0.2400, Valid Loss: 1.7906, Valid AUROC: 0.6047, Valid Acc: 0.2405\n",
            "Epoch: 079, Train Loss: 1.7906, Train AUROC: 0.6052, Train Acc: 0.2381, Valid Loss: 1.7905, Valid AUROC: 0.6058, Valid Acc: 0.2387\n",
            "Epoch: 080, Train Loss: 1.7905, Train AUROC: 0.6072, Train Acc: 0.2336, Valid Loss: 1.7905, Valid AUROC: 0.6077, Valid Acc: 0.2338\n",
            "Epoch: 081, Train Loss: 1.7905, Train AUROC: 0.6075, Train Acc: 0.2344, Valid Loss: 1.7905, Valid AUROC: 0.6081, Valid Acc: 0.2338\n",
            "Epoch: 082, Train Loss: 1.7905, Train AUROC: 0.6070, Train Acc: 0.2359, Valid Loss: 1.7905, Valid AUROC: 0.6076, Valid Acc: 0.2324\n",
            "Epoch: 083, Train Loss: 1.7905, Train AUROC: 0.6083, Train Acc: 0.2626, Valid Loss: 1.7905, Valid AUROC: 0.6089, Valid Acc: 0.2619\n",
            "Epoch: 084, Train Loss: 1.7905, Train AUROC: 0.6098, Train Acc: 0.2686, Valid Loss: 1.7905, Valid AUROC: 0.6105, Valid Acc: 0.2690\n",
            "Epoch: 085, Train Loss: 1.7904, Train AUROC: 0.6094, Train Acc: 0.2614, Valid Loss: 1.7904, Valid AUROC: 0.6100, Valid Acc: 0.2620\n",
            "Epoch: 086, Train Loss: 1.7904, Train AUROC: 0.6105, Train Acc: 0.2502, Valid Loss: 1.7904, Valid AUROC: 0.6110, Valid Acc: 0.2530\n",
            "Epoch: 087, Train Loss: 1.7904, Train AUROC: 0.6129, Train Acc: 0.2604, Valid Loss: 1.7904, Valid AUROC: 0.6135, Valid Acc: 0.2597\n",
            "Epoch: 088, Train Loss: 1.7904, Train AUROC: 0.6146, Train Acc: 0.2466, Valid Loss: 1.7904, Valid AUROC: 0.6151, Valid Acc: 0.2469\n",
            "Epoch: 089, Train Loss: 1.7904, Train AUROC: 0.6151, Train Acc: 0.2529, Valid Loss: 1.7904, Valid AUROC: 0.6157, Valid Acc: 0.2523\n",
            "Epoch: 090, Train Loss: 1.7904, Train AUROC: 0.6164, Train Acc: 0.2428, Valid Loss: 1.7903, Valid AUROC: 0.6169, Valid Acc: 0.2424\n",
            "Epoch: 091, Train Loss: 1.7903, Train AUROC: 0.6183, Train Acc: 0.2417, Valid Loss: 1.7903, Valid AUROC: 0.6189, Valid Acc: 0.2443\n",
            "Epoch: 092, Train Loss: 1.7903, Train AUROC: 0.6185, Train Acc: 0.2474, Valid Loss: 1.7903, Valid AUROC: 0.6191, Valid Acc: 0.2494\n",
            "Epoch: 093, Train Loss: 1.7903, Train AUROC: 0.6174, Train Acc: 0.2668, Valid Loss: 1.7903, Valid AUROC: 0.6179, Valid Acc: 0.2671\n",
            "Epoch: 094, Train Loss: 1.7903, Train AUROC: 0.6191, Train Acc: 0.2655, Valid Loss: 1.7903, Valid AUROC: 0.6197, Valid Acc: 0.2677\n",
            "Epoch: 095, Train Loss: 1.7903, Train AUROC: 0.6208, Train Acc: 0.2542, Valid Loss: 1.7902, Valid AUROC: 0.6214, Valid Acc: 0.2561\n",
            "Epoch: 096, Train Loss: 1.7902, Train AUROC: 0.6214, Train Acc: 0.2501, Valid Loss: 1.7902, Valid AUROC: 0.6220, Valid Acc: 0.2505\n",
            "Epoch: 097, Train Loss: 1.7902, Train AUROC: 0.6243, Train Acc: 0.2320, Valid Loss: 1.7902, Valid AUROC: 0.6249, Valid Acc: 0.2363\n",
            "Epoch: 098, Train Loss: 1.7902, Train AUROC: 0.6243, Train Acc: 0.2410, Valid Loss: 1.7902, Valid AUROC: 0.6249, Valid Acc: 0.2439\n",
            "Epoch: 099, Train Loss: 1.7902, Train AUROC: 0.6227, Train Acc: 0.2582, Valid Loss: 1.7902, Valid AUROC: 0.6232, Valid Acc: 0.2584\n",
            "Epoch: 100, Train Loss: 1.7902, Train AUROC: 0.6232, Train Acc: 0.2625, Valid Loss: 1.7901, Valid AUROC: 0.6237, Valid Acc: 0.2647\n",
            "Epoch: 101, Train Loss: 1.7901, Train AUROC: 0.6245, Train Acc: 0.2768, Valid Loss: 1.7901, Valid AUROC: 0.6250, Valid Acc: 0.2772\n",
            "Epoch: 102, Train Loss: 1.7901, Train AUROC: 0.6267, Train Acc: 0.2701, Valid Loss: 1.7901, Valid AUROC: 0.6273, Valid Acc: 0.2705\n",
            "Epoch: 103, Train Loss: 1.7901, Train AUROC: 0.6273, Train Acc: 0.2703, Valid Loss: 1.7901, Valid AUROC: 0.6278, Valid Acc: 0.2695\n",
            "Epoch: 104, Train Loss: 1.7901, Train AUROC: 0.6271, Train Acc: 0.2458, Valid Loss: 1.7901, Valid AUROC: 0.6276, Valid Acc: 0.2435\n",
            "Epoch: 105, Train Loss: 1.7901, Train AUROC: 0.6301, Train Acc: 0.2514, Valid Loss: 1.7900, Valid AUROC: 0.6307, Valid Acc: 0.2539\n",
            "Epoch: 106, Train Loss: 1.7901, Train AUROC: 0.6332, Train Acc: 0.2391, Valid Loss: 1.7900, Valid AUROC: 0.6339, Valid Acc: 0.2432\n",
            "Epoch: 107, Train Loss: 1.7900, Train AUROC: 0.6330, Train Acc: 0.2317, Valid Loss: 1.7900, Valid AUROC: 0.6335, Valid Acc: 0.2331\n",
            "Epoch: 108, Train Loss: 1.7900, Train AUROC: 0.6307, Train Acc: 0.2673, Valid Loss: 1.7900, Valid AUROC: 0.6312, Valid Acc: 0.2660\n",
            "Epoch: 109, Train Loss: 1.7900, Train AUROC: 0.6313, Train Acc: 0.2758, Valid Loss: 1.7900, Valid AUROC: 0.6318, Valid Acc: 0.2762\n",
            "Epoch: 110, Train Loss: 1.7900, Train AUROC: 0.6308, Train Acc: 0.2774, Valid Loss: 1.7900, Valid AUROC: 0.6313, Valid Acc: 0.2763\n",
            "Epoch: 111, Train Loss: 1.7899, Train AUROC: 0.6323, Train Acc: 0.2797, Valid Loss: 1.7900, Valid AUROC: 0.6328, Valid Acc: 0.2764\n",
            "Epoch: 112, Train Loss: 1.7899, Train AUROC: 0.6350, Train Acc: 0.2464, Valid Loss: 1.7899, Valid AUROC: 0.6355, Valid Acc: 0.2441\n",
            "Epoch: 113, Train Loss: 1.7899, Train AUROC: 0.6357, Train Acc: 0.2632, Valid Loss: 1.7899, Valid AUROC: 0.6364, Valid Acc: 0.2652\n",
            "Epoch: 114, Train Loss: 1.7899, Train AUROC: 0.6360, Train Acc: 0.2899, Valid Loss: 1.7899, Valid AUROC: 0.6366, Valid Acc: 0.2923\n",
            "Epoch: 115, Train Loss: 1.7899, Train AUROC: 0.6371, Train Acc: 0.2504, Valid Loss: 1.7899, Valid AUROC: 0.6376, Valid Acc: 0.2482\n",
            "Epoch: 116, Train Loss: 1.7898, Train AUROC: 0.6376, Train Acc: 0.2731, Valid Loss: 1.7898, Valid AUROC: 0.6381, Valid Acc: 0.2715\n",
            "Epoch: 117, Train Loss: 1.7898, Train AUROC: 0.6386, Train Acc: 0.2731, Valid Loss: 1.7898, Valid AUROC: 0.6392, Valid Acc: 0.2733\n",
            "Epoch: 118, Train Loss: 1.7898, Train AUROC: 0.6390, Train Acc: 0.2885, Valid Loss: 1.7898, Valid AUROC: 0.6396, Valid Acc: 0.2899\n",
            "Epoch: 119, Train Loss: 1.7898, Train AUROC: 0.6392, Train Acc: 0.2471, Valid Loss: 1.7898, Valid AUROC: 0.6396, Valid Acc: 0.2446\n",
            "Epoch: 120, Train Loss: 1.7897, Train AUROC: 0.6404, Train Acc: 0.3024, Valid Loss: 1.7897, Valid AUROC: 0.6410, Valid Acc: 0.3042\n",
            "Epoch: 121, Train Loss: 1.7897, Train AUROC: 0.6401, Train Acc: 0.2795, Valid Loss: 1.7897, Valid AUROC: 0.6407, Valid Acc: 0.2818\n",
            "Epoch: 122, Train Loss: 1.7897, Train AUROC: 0.6400, Train Acc: 0.2656, Valid Loss: 1.7897, Valid AUROC: 0.6406, Valid Acc: 0.2675\n",
            "Epoch: 123, Train Loss: 1.7897, Train AUROC: 0.6422, Train Acc: 0.2712, Valid Loss: 1.7897, Valid AUROC: 0.6427, Valid Acc: 0.2712\n",
            "Epoch: 124, Train Loss: 1.7897, Train AUROC: 0.6449, Train Acc: 0.2782, Valid Loss: 1.7896, Valid AUROC: 0.6455, Valid Acc: 0.2789\n",
            "Epoch: 125, Train Loss: 1.7896, Train AUROC: 0.6430, Train Acc: 0.2958, Valid Loss: 1.7896, Valid AUROC: 0.6435, Valid Acc: 0.2949\n",
            "Epoch: 126, Train Loss: 1.7896, Train AUROC: 0.6441, Train Acc: 0.3048, Valid Loss: 1.7896, Valid AUROC: 0.6446, Valid Acc: 0.3030\n",
            "Epoch: 127, Train Loss: 1.7896, Train AUROC: 0.6462, Train Acc: 0.2680, Valid Loss: 1.7896, Valid AUROC: 0.6468, Valid Acc: 0.2703\n",
            "Epoch: 128, Train Loss: 1.7896, Train AUROC: 0.6462, Train Acc: 0.2897, Valid Loss: 1.7895, Valid AUROC: 0.6468, Valid Acc: 0.2929\n",
            "Epoch: 129, Train Loss: 1.7895, Train AUROC: 0.6480, Train Acc: 0.3004, Valid Loss: 1.7895, Valid AUROC: 0.6486, Valid Acc: 0.3026\n",
            "Epoch: 130, Train Loss: 1.7895, Train AUROC: 0.6487, Train Acc: 0.3055, Valid Loss: 1.7895, Valid AUROC: 0.6493, Valid Acc: 0.3088\n",
            "Epoch: 131, Train Loss: 1.7895, Train AUROC: 0.6482, Train Acc: 0.2947, Valid Loss: 1.7895, Valid AUROC: 0.6487, Valid Acc: 0.2974\n",
            "Epoch: 132, Train Loss: 1.7895, Train AUROC: 0.6501, Train Acc: 0.3048, Valid Loss: 1.7895, Valid AUROC: 0.6506, Valid Acc: 0.3064\n",
            "Epoch: 133, Train Loss: 1.7895, Train AUROC: 0.6509, Train Acc: 0.2881, Valid Loss: 1.7895, Valid AUROC: 0.6514, Valid Acc: 0.2882\n",
            "Epoch: 134, Train Loss: 1.7894, Train AUROC: 0.6498, Train Acc: 0.2912, Valid Loss: 1.7894, Valid AUROC: 0.6504, Valid Acc: 0.2936\n",
            "Epoch: 135, Train Loss: 1.7894, Train AUROC: 0.6505, Train Acc: 0.2771, Valid Loss: 1.7894, Valid AUROC: 0.6510, Valid Acc: 0.2811\n",
            "Epoch: 136, Train Loss: 1.7894, Train AUROC: 0.6534, Train Acc: 0.2901, Valid Loss: 1.7894, Valid AUROC: 0.6539, Valid Acc: 0.2899\n",
            "Epoch: 137, Train Loss: 1.7893, Train AUROC: 0.6584, Train Acc: 0.2695, Valid Loss: 1.7893, Valid AUROC: 0.6591, Valid Acc: 0.2746\n",
            "Epoch: 138, Train Loss: 1.7893, Train AUROC: 0.6583, Train Acc: 0.2774, Valid Loss: 1.7892, Valid AUROC: 0.6589, Valid Acc: 0.2820\n",
            "Epoch: 139, Train Loss: 1.7892, Train AUROC: 0.6584, Train Acc: 0.2774, Valid Loss: 1.7893, Valid AUROC: 0.6588, Valid Acc: 0.2760\n",
            "Epoch: 140, Train Loss: 1.7892, Train AUROC: 0.6609, Train Acc: 0.2863, Valid Loss: 1.7892, Valid AUROC: 0.6614, Valid Acc: 0.2869\n",
            "Epoch: 141, Train Loss: 1.7892, Train AUROC: 0.6613, Train Acc: 0.2861, Valid Loss: 1.7891, Valid AUROC: 0.6620, Valid Acc: 0.2895\n",
            "Epoch: 142, Train Loss: 1.7892, Train AUROC: 0.6598, Train Acc: 0.2676, Valid Loss: 1.7891, Valid AUROC: 0.6604, Valid Acc: 0.2701\n",
            "Epoch: 143, Train Loss: 1.7891, Train AUROC: 0.6639, Train Acc: 0.2819, Valid Loss: 1.7891, Valid AUROC: 0.6644, Valid Acc: 0.2828\n",
            "Epoch: 144, Train Loss: 1.7891, Train AUROC: 0.6664, Train Acc: 0.2459, Valid Loss: 1.7891, Valid AUROC: 0.6669, Valid Acc: 0.2467\n",
            "Epoch: 145, Train Loss: 1.7891, Train AUROC: 0.6651, Train Acc: 0.3058, Valid Loss: 1.7890, Valid AUROC: 0.6657, Valid Acc: 0.3080\n",
            "Epoch: 146, Train Loss: 1.7890, Train AUROC: 0.6635, Train Acc: 0.2992, Valid Loss: 1.7890, Valid AUROC: 0.6641, Valid Acc: 0.3018\n",
            "Epoch: 147, Train Loss: 1.7890, Train AUROC: 0.6654, Train Acc: 0.3123, Valid Loss: 1.7890, Valid AUROC: 0.6660, Valid Acc: 0.3157\n",
            "Epoch: 148, Train Loss: 1.7890, Train AUROC: 0.6680, Train Acc: 0.3046, Valid Loss: 1.7890, Valid AUROC: 0.6685, Valid Acc: 0.3058\n",
            "Epoch: 149, Train Loss: 1.7889, Train AUROC: 0.6690, Train Acc: 0.2798, Valid Loss: 1.7889, Valid AUROC: 0.6696, Valid Acc: 0.2825\n",
            "Epoch: 150, Train Loss: 1.7889, Train AUROC: 0.6695, Train Acc: 0.3053, Valid Loss: 1.7889, Valid AUROC: 0.6702, Valid Acc: 0.3093\n",
            "Epoch: 151, Train Loss: 1.7889, Train AUROC: 0.6717, Train Acc: 0.2901, Valid Loss: 1.7889, Valid AUROC: 0.6723, Valid Acc: 0.2936\n",
            "Epoch: 152, Train Loss: 1.7888, Train AUROC: 0.6693, Train Acc: 0.2818, Valid Loss: 1.7888, Valid AUROC: 0.6699, Valid Acc: 0.2853\n",
            "Epoch: 153, Train Loss: 1.7888, Train AUROC: 0.6691, Train Acc: 0.2757, Valid Loss: 1.7888, Valid AUROC: 0.6697, Valid Acc: 0.2786\n",
            "Epoch: 154, Train Loss: 1.7888, Train AUROC: 0.6718, Train Acc: 0.3354, Valid Loss: 1.7888, Valid AUROC: 0.6723, Valid Acc: 0.3368\n",
            "Epoch: 155, Train Loss: 1.7888, Train AUROC: 0.6727, Train Acc: 0.3249, Valid Loss: 1.7888, Valid AUROC: 0.6733, Valid Acc: 0.3244\n",
            "Epoch: 156, Train Loss: 1.7887, Train AUROC: 0.6727, Train Acc: 0.3262, Valid Loss: 1.7887, Valid AUROC: 0.6733, Valid Acc: 0.3251\n",
            "Epoch: 157, Train Loss: 1.7887, Train AUROC: 0.6715, Train Acc: 0.2933, Valid Loss: 1.7887, Valid AUROC: 0.6721, Valid Acc: 0.2949\n",
            "Epoch: 158, Train Loss: 1.7887, Train AUROC: 0.6753, Train Acc: 0.3089, Valid Loss: 1.7887, Valid AUROC: 0.6759, Valid Acc: 0.3089\n",
            "Epoch: 159, Train Loss: 1.7886, Train AUROC: 0.6764, Train Acc: 0.2934, Valid Loss: 1.7886, Valid AUROC: 0.6771, Valid Acc: 0.2959\n",
            "Epoch: 160, Train Loss: 1.7886, Train AUROC: 0.6756, Train Acc: 0.3176, Valid Loss: 1.7886, Valid AUROC: 0.6763, Valid Acc: 0.3211\n",
            "Epoch: 161, Train Loss: 1.7886, Train AUROC: 0.6750, Train Acc: 0.3127, Valid Loss: 1.7886, Valid AUROC: 0.6756, Valid Acc: 0.3148\n",
            "Epoch: 162, Train Loss: 1.7885, Train AUROC: 0.6792, Train Acc: 0.3015, Valid Loss: 1.7885, Valid AUROC: 0.6798, Valid Acc: 0.3042\n",
            "Epoch: 163, Train Loss: 1.7885, Train AUROC: 0.6798, Train Acc: 0.2668, Valid Loss: 1.7885, Valid AUROC: 0.6804, Valid Acc: 0.2684\n",
            "Epoch: 164, Train Loss: 1.7885, Train AUROC: 0.6793, Train Acc: 0.3015, Valid Loss: 1.7885, Valid AUROC: 0.6799, Valid Acc: 0.3036\n",
            "Epoch: 165, Train Loss: 1.7884, Train AUROC: 0.6798, Train Acc: 0.3237, Valid Loss: 1.7884, Valid AUROC: 0.6803, Valid Acc: 0.3246\n",
            "Epoch: 166, Train Loss: 1.7884, Train AUROC: 0.6805, Train Acc: 0.3042, Valid Loss: 1.7884, Valid AUROC: 0.6812, Valid Acc: 0.3075\n",
            "Epoch: 167, Train Loss: 1.7884, Train AUROC: 0.6817, Train Acc: 0.2866, Valid Loss: 1.7884, Valid AUROC: 0.6822, Valid Acc: 0.2858\n",
            "Epoch: 168, Train Loss: 1.7883, Train AUROC: 0.6823, Train Acc: 0.3257, Valid Loss: 1.7883, Valid AUROC: 0.6829, Valid Acc: 0.3297\n",
            "Epoch: 169, Train Loss: 1.7883, Train AUROC: 0.6829, Train Acc: 0.3154, Valid Loss: 1.7883, Valid AUROC: 0.6837, Valid Acc: 0.3204\n",
            "Epoch: 170, Train Loss: 1.7883, Train AUROC: 0.6830, Train Acc: 0.3250, Valid Loss: 1.7883, Valid AUROC: 0.6835, Valid Acc: 0.3250\n",
            "Epoch: 171, Train Loss: 1.7882, Train AUROC: 0.6842, Train Acc: 0.3140, Valid Loss: 1.7883, Valid AUROC: 0.6846, Valid Acc: 0.3136\n",
            "Epoch: 172, Train Loss: 1.7882, Train AUROC: 0.6832, Train Acc: 0.3404, Valid Loss: 1.7882, Valid AUROC: 0.6838, Valid Acc: 0.3431\n",
            "Epoch: 173, Train Loss: 1.7882, Train AUROC: 0.6840, Train Acc: 0.3494, Valid Loss: 1.7882, Valid AUROC: 0.6846, Valid Acc: 0.3504\n",
            "Epoch: 174, Train Loss: 1.7881, Train AUROC: 0.6851, Train Acc: 0.3318, Valid Loss: 1.7881, Valid AUROC: 0.6857, Valid Acc: 0.3341\n",
            "Epoch: 175, Train Loss: 1.7881, Train AUROC: 0.6862, Train Acc: 0.3319, Valid Loss: 1.7881, Valid AUROC: 0.6868, Valid Acc: 0.3349\n",
            "Epoch: 176, Train Loss: 1.7881, Train AUROC: 0.6876, Train Acc: 0.3142, Valid Loss: 1.7881, Valid AUROC: 0.6881, Valid Acc: 0.3168\n",
            "Epoch: 177, Train Loss: 1.7880, Train AUROC: 0.6873, Train Acc: 0.3361, Valid Loss: 1.7880, Valid AUROC: 0.6879, Valid Acc: 0.3379\n",
            "Epoch: 178, Train Loss: 1.7880, Train AUROC: 0.6878, Train Acc: 0.3226, Valid Loss: 1.7880, Valid AUROC: 0.6885, Valid Acc: 0.3276\n",
            "Epoch: 179, Train Loss: 1.7880, Train AUROC: 0.6882, Train Acc: 0.3020, Valid Loss: 1.7880, Valid AUROC: 0.6887, Valid Acc: 0.3008\n",
            "Epoch: 180, Train Loss: 1.7879, Train AUROC: 0.6890, Train Acc: 0.3344, Valid Loss: 1.7879, Valid AUROC: 0.6896, Valid Acc: 0.3354\n",
            "Epoch: 181, Train Loss: 1.7879, Train AUROC: 0.6883, Train Acc: 0.3245, Valid Loss: 1.7879, Valid AUROC: 0.6890, Valid Acc: 0.3277\n",
            "Epoch: 182, Train Loss: 1.7879, Train AUROC: 0.6887, Train Acc: 0.3484, Valid Loss: 1.7879, Valid AUROC: 0.6892, Valid Acc: 0.3482\n",
            "Epoch: 183, Train Loss: 1.7878, Train AUROC: 0.6908, Train Acc: 0.3207, Valid Loss: 1.7879, Valid AUROC: 0.6913, Valid Acc: 0.3213\n",
            "Epoch: 184, Train Loss: 1.7878, Train AUROC: 0.6907, Train Acc: 0.3361, Valid Loss: 1.7878, Valid AUROC: 0.6913, Valid Acc: 0.3396\n",
            "Epoch: 185, Train Loss: 1.7878, Train AUROC: 0.6912, Train Acc: 0.3188, Valid Loss: 1.7877, Valid AUROC: 0.6919, Valid Acc: 0.3224\n",
            "Epoch: 186, Train Loss: 1.7877, Train AUROC: 0.6909, Train Acc: 0.3325, Valid Loss: 1.7877, Valid AUROC: 0.6915, Valid Acc: 0.3348\n",
            "Epoch: 187, Train Loss: 1.7877, Train AUROC: 0.6913, Train Acc: 0.3457, Valid Loss: 1.7877, Valid AUROC: 0.6918, Valid Acc: 0.3457\n",
            "Epoch: 188, Train Loss: 1.7877, Train AUROC: 0.6927, Train Acc: 0.3385, Valid Loss: 1.7877, Valid AUROC: 0.6933, Valid Acc: 0.3420\n",
            "Epoch: 189, Train Loss: 1.7876, Train AUROC: 0.6928, Train Acc: 0.3210, Valid Loss: 1.7876, Valid AUROC: 0.6934, Valid Acc: 0.3251\n",
            "Epoch: 190, Train Loss: 1.7876, Train AUROC: 0.6941, Train Acc: 0.3050, Valid Loss: 1.7876, Valid AUROC: 0.6947, Valid Acc: 0.3061\n",
            "Epoch: 191, Train Loss: 1.7875, Train AUROC: 0.6946, Train Acc: 0.3260, Valid Loss: 1.7876, Valid AUROC: 0.6951, Valid Acc: 0.3270\n",
            "Epoch: 192, Train Loss: 1.7875, Train AUROC: 0.6941, Train Acc: 0.3181, Valid Loss: 1.7875, Valid AUROC: 0.6947, Valid Acc: 0.3202\n",
            "Epoch: 193, Train Loss: 1.7875, Train AUROC: 0.6953, Train Acc: 0.3056, Valid Loss: 1.7875, Valid AUROC: 0.6959, Valid Acc: 0.3080\n",
            "Epoch: 194, Train Loss: 1.7875, Train AUROC: 0.6956, Train Acc: 0.2867, Valid Loss: 1.7875, Valid AUROC: 0.6960, Valid Acc: 0.2844\n",
            "Epoch: 195, Train Loss: 1.7874, Train AUROC: 0.6957, Train Acc: 0.3458, Valid Loss: 1.7874, Valid AUROC: 0.6963, Valid Acc: 0.3487\n",
            "Epoch: 196, Train Loss: 1.7874, Train AUROC: 0.6953, Train Acc: 0.3353, Valid Loss: 1.7874, Valid AUROC: 0.6959, Valid Acc: 0.3362\n",
            "Epoch: 197, Train Loss: 1.7873, Train AUROC: 0.6969, Train Acc: 0.3242, Valid Loss: 1.7873, Valid AUROC: 0.6974, Valid Acc: 0.3267\n",
            "Epoch: 198, Train Loss: 1.7873, Train AUROC: 0.6966, Train Acc: 0.3376, Valid Loss: 1.7873, Valid AUROC: 0.6972, Valid Acc: 0.3415\n",
            "Epoch: 199, Train Loss: 1.7873, Train AUROC: 0.6968, Train Acc: 0.3297, Valid Loss: 1.7873, Valid AUROC: 0.6975, Valid Acc: 0.3328\n"
          ]
        }
      ],
      "source": [
        "from IPython.display import Javascript  # Restrict height of output cell.\n",
        "display(Javascript('''google.colab.output.setIframeHeight(0, true, {maxHeight: 300})'''))\n",
        "\n",
        "\n",
        "epoch_num = 200\n",
        "for epoch in range(1, epoch_num):\n",
        "    train()\n",
        "    train_loss, train_auroc, train_acc = gnn_test(model, loss_fn, train_loader, device)\n",
        "    val_loss, val_auroc, val_acc = gnn_test(model, loss_fn, val_loader, device)\n",
        "    print(f'Epoch: {epoch:03d}, Train Loss: {train_loss:.4f}, Train AUROC: {train_auroc:.4f},'\n",
        "    f' Train Acc: {train_acc:.4f}, Valid Loss: {val_loss:.4f}, Valid AUROC: {val_auroc:.4f}, '\n",
        "    f'Valid Acc: {val_acc:.4f}')"
      ]
    },
    {
      "cell_type": "markdown",
      "metadata": {
        "id": "5lpinwrFF_1-"
      },
      "source": [
        "### Save the model\n",
        "Save the NodeGCN model to file."
      ]
    },
    {
      "cell_type": "code",
      "execution_count": 17,
      "metadata": {
        "id": "OSbkEBaCF_1-",
        "colab": {
          "base_uri": "https://localhost:8080/"
        },
        "outputId": "cf339dcb-c366-4a84-b2f4-f07bf3b5689e"
      },
      "outputs": [
        {
          "output_type": "stream",
          "name": "stdout",
          "text": [
            "Saved PyTorch Model State to node_gcn.pth\n"
          ]
        }
      ],
      "source": [
        "torch.save(model.state_dict(), \"node_gcn.pth\")\n",
        "print(\"Saved PyTorch Model State to node_gcn.pth\")"
      ]
    },
    {
      "cell_type": "code",
      "execution_count": 18,
      "metadata": {
        "id": "L1KEX6ouF_1-",
        "colab": {
          "base_uri": "https://localhost:8080/"
        },
        "outputId": "b24a8090-9e04-474b-f6a5-00dc3fa896f4"
      },
      "outputs": [
        {
          "output_type": "stream",
          "name": "stdout",
          "text": [
            "val_loss: 1.787251, val_auroc: 0.697458, val_acc: 0.332844\n"
          ]
        }
      ],
      "source": [
        "model = NodeGCN().to(device)\n",
        "model.load_state_dict(torch.load(\"node_gcn.pth\"))\n",
        "val_loss, val_auroc, val_acc = gnn_test(model, loss_fn, val_loader, device)\n",
        "print(\"val_loss: %f, val_auroc: %f, val_acc: %f\" % (val_loss, val_auroc, val_acc))"
      ]
    },
    {
      "cell_type": "code",
      "source": [
        "import os\n",
        "print(os.getcwd())\n",
        "from google.colab import files\n",
        "files.download('node_gcn.pth')"
      ],
      "metadata": {
        "colab": {
          "base_uri": "https://localhost:8080/",
          "height": 32
        },
        "id": "rG7-UandLsg_",
        "outputId": "e44222bc-9cf3-480c-89bf-e01c36892d4f"
      },
      "execution_count": 19,
      "outputs": [
        {
          "output_type": "stream",
          "name": "stdout",
          "text": [
            "/content\n"
          ]
        },
        {
          "output_type": "display_data",
          "data": {
            "text/plain": [
              "<IPython.core.display.Javascript object>"
            ],
            "application/javascript": [
              "\n",
              "    async function download(id, filename, size) {\n",
              "      if (!google.colab.kernel.accessAllowed) {\n",
              "        return;\n",
              "      }\n",
              "      const div = document.createElement('div');\n",
              "      const label = document.createElement('label');\n",
              "      label.textContent = `Downloading \"${filename}\": `;\n",
              "      div.appendChild(label);\n",
              "      const progress = document.createElement('progress');\n",
              "      progress.max = size;\n",
              "      div.appendChild(progress);\n",
              "      document.body.appendChild(div);\n",
              "\n",
              "      const buffers = [];\n",
              "      let downloaded = 0;\n",
              "\n",
              "      const channel = await google.colab.kernel.comms.open(id);\n",
              "      // Send a message to notify the kernel that we're ready.\n",
              "      channel.send({})\n",
              "\n",
              "      for await (const message of channel.messages) {\n",
              "        // Send a message to notify the kernel that we're ready.\n",
              "        channel.send({})\n",
              "        if (message.buffers) {\n",
              "          for (const buffer of message.buffers) {\n",
              "            buffers.push(buffer);\n",
              "            downloaded += buffer.byteLength;\n",
              "            progress.value = downloaded;\n",
              "          }\n",
              "        }\n",
              "      }\n",
              "      const blob = new Blob(buffers, {type: 'application/binary'});\n",
              "      const a = document.createElement('a');\n",
              "      a.href = window.URL.createObjectURL(blob);\n",
              "      a.download = filename;\n",
              "      div.appendChild(a);\n",
              "      a.click();\n",
              "      div.remove();\n",
              "    }\n",
              "  "
            ]
          },
          "metadata": {}
        },
        {
          "output_type": "display_data",
          "data": {
            "text/plain": [
              "<IPython.core.display.Javascript object>"
            ],
            "application/javascript": [
              "download(\"download_9fd16651-6455-47cd-b247-27327ef41d4a\", \"node_gcn.pth\", 4056)"
            ]
          },
          "metadata": {}
        }
      ]
    },
    {
      "cell_type": "markdown",
      "metadata": {
        "id": "Qcq7iy63F_1_"
      },
      "source": [
        "## Graph Classification\n",
        "\n",
        "In this section, we will delve into graph classification using Graph Neural Networks (GNNs). Unlike node classification, where the focus is on individual nodes, graph classification targets the entire graph. The goal is to classify entire graphs based on their structural attributes using a dataset of various graphs. The challenge lies in effectively embedding these complete graphs to ensure they become linearly separable for the intended task.\n"
      ]
    },
    {
      "cell_type": "markdown",
      "metadata": {
        "id": "wvSi9BC0F_1_"
      },
      "source": [
        "## Graphs Derived from Images\n",
        "\n",
        "Images can be translated into graphs, and this transformation is vividly demonstrated in the super-pixels datasets. These datasets explore graph classification using renowned image classification datasets like MNIST and CIFAR10. One of the primary motivations behind employing these datasets is to serve as benchmarking tools or sanity-checks. For instance, most GNNs are anticipated to deliver near-perfect accuracy for MNIST and respectable performance for CIFAR10. Moreover, the adaptation of super-pixel image datasets offers insights into how traditional image datasets can be repurposed for graph learning research.\n",
        "\n",
        "In this exercise, we'll be working with the CIFAR10 super-pixels dataset for our graph classification task. Here's a brief overview: The native CIFAR10 images undergo a transformation into graphs through the use of super-pixels. Super-pixels capture small, uniform intensity regions within images. The process to extract them employs the SLIC technique, as proposed by Achanta et al. in 2012.\n"
      ]
    },
    {
      "cell_type": "code",
      "execution_count": 20,
      "metadata": {
        "id": "TS1rDuUHF_1_",
        "colab": {
          "base_uri": "https://localhost:8080/"
        },
        "outputId": "28ae6af1-1086-4d67-a40d-efc20ee1c53a"
      },
      "outputs": [
        {
          "output_type": "stream",
          "name": "stderr",
          "text": [
            "Downloading https://data.pyg.org/datasets/benchmarking-gnns/CIFAR10_v2.zip\n",
            "Extracting data/CIFAR10/raw/CIFAR10_v2.zip\n",
            "Processing...\n",
            "Done!\n"
          ]
        },
        {
          "output_type": "stream",
          "name": "stdout",
          "text": [
            "\n",
            "Train Dataset: CIFAR10(45000):\n",
            "Number of graphs: 45000\n",
            "Number of features: 3\n",
            "Number of classes: 10\n",
            "\n",
            "Data(x=[110, 3], edge_index=[2, 880], edge_attr=[880], y=[1], pos=[110, 2])\n",
            "Number of nodes: 110\n",
            "Number of edges: 880\n",
            "Is undirected: False\n"
          ]
        }
      ],
      "source": [
        "train_dataset = GNNBenchmarkDataset(root='data', name='CIFAR10', split='train')\n",
        "valid_dataset = GNNBenchmarkDataset(root='data', name='CIFAR10', split='val')\n",
        "\n",
        "\n",
        "print()\n",
        "print(f'Train Dataset: {train_dataset}:')\n",
        "print(f'Number of graphs: {len(train_dataset)}')\n",
        "print(f'Number of features: {train_dataset.num_features}')\n",
        "print(f'Number of classes: {train_dataset.num_classes}')\n",
        "\n",
        "data = train_dataset[0]\n",
        "\n",
        "print()\n",
        "print(data)\n",
        "\n",
        "print(f'Number of nodes: {data.num_nodes}')\n",
        "print(f'Number of edges: {data.num_edges}')\n",
        "print(f'Is undirected: {data.is_undirected()}')"
      ]
    },
    {
      "cell_type": "code",
      "execution_count": 21,
      "metadata": {
        "id": "pYOoW451F_1_",
        "colab": {
          "base_uri": "https://localhost:8080/"
        },
        "outputId": "8cf1e683-7c05-4209-cc0b-6db29f556ee9"
      },
      "outputs": [
        {
          "output_type": "stream",
          "name": "stdout",
          "text": [
            "Number of training graphs: 45000\n",
            "Number of valid graphs: 5000\n"
          ]
        }
      ],
      "source": [
        "print(f'Number of training graphs: {len(train_dataset)}')\n",
        "print(f'Number of valid graphs: {len(valid_dataset)}')"
      ]
    },
    {
      "cell_type": "markdown",
      "metadata": {
        "id": "KRWzaZZQF_1_"
      },
      "source": [
        "This training dataset provides about 45000 graphs. This is a graph multiclass classfication task."
      ]
    },
    {
      "cell_type": "code",
      "execution_count": 22,
      "metadata": {
        "id": "iH_1GxvpF_2A",
        "colab": {
          "base_uri": "https://localhost:8080/",
          "height": 300
        },
        "outputId": "24047088-ea00-4228-aafb-bd64894248fb"
      },
      "outputs": [
        {
          "output_type": "display_data",
          "data": {
            "text/plain": [
              "<IPython.core.display.Javascript object>"
            ],
            "application/javascript": [
              "google.colab.output.setIframeHeight(0, true, {maxHeight: 300})"
            ]
          },
          "metadata": {}
        },
        {
          "output_type": "stream",
          "name": "stdout",
          "text": [
            "Step 1:\n",
            "=======\n",
            "Number of graphs in the current batch: 256\n",
            "DataBatch(x=[30161, 3], edge_index=[2, 241288], edge_attr=[241288], y=[256], pos=[30161, 2], batch=[30161], ptr=[257])\n",
            "\n",
            "Step 2:\n",
            "=======\n",
            "Number of graphs in the current batch: 256\n",
            "DataBatch(x=[30125, 3], edge_index=[2, 241000], edge_attr=[241000], y=[256], pos=[30125, 2], batch=[30125], ptr=[257])\n",
            "\n",
            "Step 3:\n",
            "=======\n",
            "Number of graphs in the current batch: 256\n",
            "DataBatch(x=[30155, 3], edge_index=[2, 241240], edge_attr=[241240], y=[256], pos=[30155, 2], batch=[30155], ptr=[257])\n",
            "\n",
            "Step 4:\n",
            "=======\n",
            "Number of graphs in the current batch: 256\n",
            "DataBatch(x=[30122, 3], edge_index=[2, 240976], edge_attr=[240976], y=[256], pos=[30122, 2], batch=[30122], ptr=[257])\n",
            "\n",
            "Step 5:\n",
            "=======\n",
            "Number of graphs in the current batch: 256\n",
            "DataBatch(x=[30070, 3], edge_index=[2, 240560], edge_attr=[240560], y=[256], pos=[30070, 2], batch=[30070], ptr=[257])\n",
            "\n",
            "Step 6:\n",
            "=======\n",
            "Number of graphs in the current batch: 256\n",
            "DataBatch(x=[30153, 3], edge_index=[2, 241224], edge_attr=[241224], y=[256], pos=[30153, 2], batch=[30153], ptr=[257])\n",
            "\n",
            "Step 7:\n",
            "=======\n",
            "Number of graphs in the current batch: 256\n",
            "DataBatch(x=[30204, 3], edge_index=[2, 241632], edge_attr=[241632], y=[256], pos=[30204, 2], batch=[30204], ptr=[257])\n",
            "\n",
            "Step 8:\n",
            "=======\n",
            "Number of graphs in the current batch: 256\n",
            "DataBatch(x=[30058, 3], edge_index=[2, 240464], edge_attr=[240464], y=[256], pos=[30058, 2], batch=[30058], ptr=[257])\n",
            "\n",
            "Step 9:\n",
            "=======\n",
            "Number of graphs in the current batch: 256\n",
            "DataBatch(x=[30185, 3], edge_index=[2, 241480], edge_attr=[241480], y=[256], pos=[30185, 2], batch=[30185], ptr=[257])\n",
            "\n",
            "Step 10:\n",
            "=======\n",
            "Number of graphs in the current batch: 256\n",
            "DataBatch(x=[30167, 3], edge_index=[2, 241336], edge_attr=[241336], y=[256], pos=[30167, 2], batch=[30167], ptr=[257])\n",
            "\n",
            "Step 11:\n",
            "=======\n",
            "Number of graphs in the current batch: 256\n",
            "DataBatch(x=[30029, 3], edge_index=[2, 240232], edge_attr=[240232], y=[256], pos=[30029, 2], batch=[30029], ptr=[257])\n",
            "\n",
            "Step 12:\n",
            "=======\n",
            "Number of graphs in the current batch: 256\n",
            "DataBatch(x=[30068, 3], edge_index=[2, 240544], edge_attr=[240544], y=[256], pos=[30068, 2], batch=[30068], ptr=[257])\n",
            "\n",
            "Step 13:\n",
            "=======\n",
            "Number of graphs in the current batch: 256\n",
            "DataBatch(x=[30080, 3], edge_index=[2, 240640], edge_attr=[240640], y=[256], pos=[30080, 2], batch=[30080], ptr=[257])\n",
            "\n",
            "Step 14:\n",
            "=======\n",
            "Number of graphs in the current batch: 256\n",
            "DataBatch(x=[30156, 3], edge_index=[2, 241248], edge_attr=[241248], y=[256], pos=[30156, 2], batch=[30156], ptr=[257])\n",
            "\n",
            "Step 15:\n",
            "=======\n",
            "Number of graphs in the current batch: 256\n",
            "DataBatch(x=[30082, 3], edge_index=[2, 240656], edge_attr=[240656], y=[256], pos=[30082, 2], batch=[30082], ptr=[257])\n",
            "\n",
            "Step 16:\n",
            "=======\n",
            "Number of graphs in the current batch: 256\n",
            "DataBatch(x=[30124, 3], edge_index=[2, 240992], edge_attr=[240992], y=[256], pos=[30124, 2], batch=[30124], ptr=[257])\n",
            "\n",
            "Step 17:\n",
            "=======\n",
            "Number of graphs in the current batch: 256\n",
            "DataBatch(x=[30138, 3], edge_index=[2, 241104], edge_attr=[241104], y=[256], pos=[30138, 2], batch=[30138], ptr=[257])\n",
            "\n",
            "Step 18:\n",
            "=======\n",
            "Number of graphs in the current batch: 256\n",
            "DataBatch(x=[30188, 3], edge_index=[2, 241504], edge_attr=[241504], y=[256], pos=[30188, 2], batch=[30188], ptr=[257])\n",
            "\n",
            "Step 19:\n",
            "=======\n",
            "Number of graphs in the current batch: 256\n",
            "DataBatch(x=[30159, 3], edge_index=[2, 241272], edge_attr=[241272], y=[256], pos=[30159, 2], batch=[30159], ptr=[257])\n",
            "\n",
            "Step 20:\n",
            "=======\n",
            "Number of graphs in the current batch: 256\n",
            "DataBatch(x=[30099, 3], edge_index=[2, 240792], edge_attr=[240792], y=[256], pos=[30099, 2], batch=[30099], ptr=[257])\n",
            "\n",
            "Step 21:\n",
            "=======\n",
            "Number of graphs in the current batch: 256\n",
            "DataBatch(x=[30186, 3], edge_index=[2, 241488], edge_attr=[241488], y=[256], pos=[30186, 2], batch=[30186], ptr=[257])\n",
            "\n",
            "Step 22:\n",
            "=======\n",
            "Number of graphs in the current batch: 256\n",
            "DataBatch(x=[30083, 3], edge_index=[2, 240664], edge_attr=[240664], y=[256], pos=[30083, 2], batch=[30083], ptr=[257])\n",
            "\n",
            "Step 23:\n",
            "=======\n",
            "Number of graphs in the current batch: 256\n",
            "DataBatch(x=[30140, 3], edge_index=[2, 241120], edge_attr=[241120], y=[256], pos=[30140, 2], batch=[30140], ptr=[257])\n",
            "\n",
            "Step 24:\n",
            "=======\n",
            "Number of graphs in the current batch: 256\n",
            "DataBatch(x=[30108, 3], edge_index=[2, 240864], edge_attr=[240864], y=[256], pos=[30108, 2], batch=[30108], ptr=[257])\n",
            "\n",
            "Step 25:\n",
            "=======\n",
            "Number of graphs in the current batch: 256\n",
            "DataBatch(x=[30132, 3], edge_index=[2, 241056], edge_attr=[241056], y=[256], pos=[30132, 2], batch=[30132], ptr=[257])\n",
            "\n",
            "Step 26:\n",
            "=======\n",
            "Number of graphs in the current batch: 256\n",
            "DataBatch(x=[30168, 3], edge_index=[2, 241344], edge_attr=[241344], y=[256], pos=[30168, 2], batch=[30168], ptr=[257])\n",
            "\n",
            "Step 27:\n",
            "=======\n",
            "Number of graphs in the current batch: 256\n",
            "DataBatch(x=[30126, 3], edge_index=[2, 241008], edge_attr=[241008], y=[256], pos=[30126, 2], batch=[30126], ptr=[257])\n",
            "\n",
            "Step 28:\n",
            "=======\n",
            "Number of graphs in the current batch: 256\n",
            "DataBatch(x=[30237, 3], edge_index=[2, 241896], edge_attr=[241896], y=[256], pos=[30237, 2], batch=[30237], ptr=[257])\n",
            "\n",
            "Step 29:\n",
            "=======\n",
            "Number of graphs in the current batch: 256\n",
            "DataBatch(x=[30074, 3], edge_index=[2, 240592], edge_attr=[240592], y=[256], pos=[30074, 2], batch=[30074], ptr=[257])\n",
            "\n",
            "Step 30:\n",
            "=======\n",
            "Number of graphs in the current batch: 256\n",
            "DataBatch(x=[30141, 3], edge_index=[2, 241128], edge_attr=[241128], y=[256], pos=[30141, 2], batch=[30141], ptr=[257])\n",
            "\n",
            "Step 31:\n",
            "=======\n",
            "Number of graphs in the current batch: 256\n",
            "DataBatch(x=[30060, 3], edge_index=[2, 240480], edge_attr=[240480], y=[256], pos=[30060, 2], batch=[30060], ptr=[257])\n",
            "\n",
            "Step 32:\n",
            "=======\n",
            "Number of graphs in the current batch: 256\n",
            "DataBatch(x=[30149, 3], edge_index=[2, 241192], edge_attr=[241192], y=[256], pos=[30149, 2], batch=[30149], ptr=[257])\n",
            "\n",
            "Step 33:\n",
            "=======\n",
            "Number of graphs in the current batch: 256\n",
            "DataBatch(x=[30079, 3], edge_index=[2, 240632], edge_attr=[240632], y=[256], pos=[30079, 2], batch=[30079], ptr=[257])\n",
            "\n",
            "Step 34:\n",
            "=======\n",
            "Number of graphs in the current batch: 256\n",
            "DataBatch(x=[30066, 3], edge_index=[2, 240528], edge_attr=[240528], y=[256], pos=[30066, 2], batch=[30066], ptr=[257])\n",
            "\n",
            "Step 35:\n",
            "=======\n",
            "Number of graphs in the current batch: 256\n",
            "DataBatch(x=[30023, 3], edge_index=[2, 240184], edge_attr=[240184], y=[256], pos=[30023, 2], batch=[30023], ptr=[257])\n",
            "\n",
            "Step 36:\n",
            "=======\n",
            "Number of graphs in the current batch: 256\n",
            "DataBatch(x=[30208, 3], edge_index=[2, 241664], edge_attr=[241664], y=[256], pos=[30208, 2], batch=[30208], ptr=[257])\n",
            "\n",
            "Step 37:\n",
            "=======\n",
            "Number of graphs in the current batch: 256\n",
            "DataBatch(x=[30080, 3], edge_index=[2, 240640], edge_attr=[240640], y=[256], pos=[30080, 2], batch=[30080], ptr=[257])\n",
            "\n",
            "Step 38:\n",
            "=======\n",
            "Number of graphs in the current batch: 256\n",
            "DataBatch(x=[30183, 3], edge_index=[2, 241464], edge_attr=[241464], y=[256], pos=[30183, 2], batch=[30183], ptr=[257])\n",
            "\n",
            "Step 39:\n",
            "=======\n",
            "Number of graphs in the current batch: 256\n",
            "DataBatch(x=[30130, 3], edge_index=[2, 241040], edge_attr=[241040], y=[256], pos=[30130, 2], batch=[30130], ptr=[257])\n",
            "\n",
            "Step 40:\n",
            "=======\n",
            "Number of graphs in the current batch: 256\n",
            "DataBatch(x=[30018, 3], edge_index=[2, 240144], edge_attr=[240144], y=[256], pos=[30018, 2], batch=[30018], ptr=[257])\n",
            "\n",
            "Step 41:\n",
            "=======\n",
            "Number of graphs in the current batch: 256\n",
            "DataBatch(x=[30088, 3], edge_index=[2, 240704], edge_attr=[240704], y=[256], pos=[30088, 2], batch=[30088], ptr=[257])\n",
            "\n",
            "Step 42:\n",
            "=======\n",
            "Number of graphs in the current batch: 256\n",
            "DataBatch(x=[30139, 3], edge_index=[2, 241112], edge_attr=[241112], y=[256], pos=[30139, 2], batch=[30139], ptr=[257])\n",
            "\n",
            "Step 43:\n",
            "=======\n",
            "Number of graphs in the current batch: 256\n",
            "DataBatch(x=[30113, 3], edge_index=[2, 240904], edge_attr=[240904], y=[256], pos=[30113, 2], batch=[30113], ptr=[257])\n",
            "\n",
            "Step 44:\n",
            "=======\n",
            "Number of graphs in the current batch: 256\n",
            "DataBatch(x=[30149, 3], edge_index=[2, 241192], edge_attr=[241192], y=[256], pos=[30149, 2], batch=[30149], ptr=[257])\n",
            "\n",
            "Step 45:\n",
            "=======\n",
            "Number of graphs in the current batch: 256\n",
            "DataBatch(x=[30019, 3], edge_index=[2, 240152], edge_attr=[240152], y=[256], pos=[30019, 2], batch=[30019], ptr=[257])\n",
            "\n",
            "Step 46:\n",
            "=======\n",
            "Number of graphs in the current batch: 256\n",
            "DataBatch(x=[30075, 3], edge_index=[2, 240600], edge_attr=[240600], y=[256], pos=[30075, 2], batch=[30075], ptr=[257])\n",
            "\n",
            "Step 47:\n",
            "=======\n",
            "Number of graphs in the current batch: 256\n",
            "DataBatch(x=[30032, 3], edge_index=[2, 240256], edge_attr=[240256], y=[256], pos=[30032, 2], batch=[30032], ptr=[257])\n",
            "\n",
            "Step 48:\n",
            "=======\n",
            "Number of graphs in the current batch: 256\n",
            "DataBatch(x=[30075, 3], edge_index=[2, 240600], edge_attr=[240600], y=[256], pos=[30075, 2], batch=[30075], ptr=[257])\n",
            "\n",
            "Step 49:\n",
            "=======\n",
            "Number of graphs in the current batch: 256\n",
            "DataBatch(x=[30058, 3], edge_index=[2, 240464], edge_attr=[240464], y=[256], pos=[30058, 2], batch=[30058], ptr=[257])\n",
            "\n",
            "Step 50:\n",
            "=======\n",
            "Number of graphs in the current batch: 256\n",
            "DataBatch(x=[30145, 3], edge_index=[2, 241160], edge_attr=[241160], y=[256], pos=[30145, 2], batch=[30145], ptr=[257])\n",
            "\n",
            "Step 51:\n",
            "=======\n",
            "Number of graphs in the current batch: 256\n",
            "DataBatch(x=[30182, 3], edge_index=[2, 241456], edge_attr=[241456], y=[256], pos=[30182, 2], batch=[30182], ptr=[257])\n",
            "\n",
            "Step 52:\n",
            "=======\n",
            "Number of graphs in the current batch: 256\n",
            "DataBatch(x=[30152, 3], edge_index=[2, 241216], edge_attr=[241216], y=[256], pos=[30152, 2], batch=[30152], ptr=[257])\n",
            "\n",
            "Step 53:\n",
            "=======\n",
            "Number of graphs in the current batch: 256\n",
            "DataBatch(x=[30065, 3], edge_index=[2, 240520], edge_attr=[240520], y=[256], pos=[30065, 2], batch=[30065], ptr=[257])\n",
            "\n",
            "Step 54:\n",
            "=======\n",
            "Number of graphs in the current batch: 256\n",
            "DataBatch(x=[30170, 3], edge_index=[2, 241360], edge_attr=[241360], y=[256], pos=[30170, 2], batch=[30170], ptr=[257])\n",
            "\n",
            "Step 55:\n",
            "=======\n",
            "Number of graphs in the current batch: 256\n",
            "DataBatch(x=[30239, 3], edge_index=[2, 241912], edge_attr=[241912], y=[256], pos=[30239, 2], batch=[30239], ptr=[257])\n",
            "\n",
            "Step 56:\n",
            "=======\n",
            "Number of graphs in the current batch: 256\n",
            "DataBatch(x=[30065, 3], edge_index=[2, 240520], edge_attr=[240520], y=[256], pos=[30065, 2], batch=[30065], ptr=[257])\n",
            "\n",
            "Step 57:\n",
            "=======\n",
            "Number of graphs in the current batch: 256\n",
            "DataBatch(x=[29995, 3], edge_index=[2, 239960], edge_attr=[239960], y=[256], pos=[29995, 2], batch=[29995], ptr=[257])\n",
            "\n",
            "Step 58:\n",
            "=======\n",
            "Number of graphs in the current batch: 256\n",
            "DataBatch(x=[30096, 3], edge_index=[2, 240768], edge_attr=[240768], y=[256], pos=[30096, 2], batch=[30096], ptr=[257])\n",
            "\n",
            "Step 59:\n",
            "=======\n",
            "Number of graphs in the current batch: 256\n",
            "DataBatch(x=[30169, 3], edge_index=[2, 241352], edge_attr=[241352], y=[256], pos=[30169, 2], batch=[30169], ptr=[257])\n",
            "\n",
            "Step 60:\n",
            "=======\n",
            "Number of graphs in the current batch: 256\n",
            "DataBatch(x=[30133, 3], edge_index=[2, 241064], edge_attr=[241064], y=[256], pos=[30133, 2], batch=[30133], ptr=[257])\n",
            "\n",
            "Step 61:\n",
            "=======\n",
            "Number of graphs in the current batch: 256\n",
            "DataBatch(x=[30176, 3], edge_index=[2, 241408], edge_attr=[241408], y=[256], pos=[30176, 2], batch=[30176], ptr=[257])\n",
            "\n",
            "Step 62:\n",
            "=======\n",
            "Number of graphs in the current batch: 256\n",
            "DataBatch(x=[30114, 3], edge_index=[2, 240912], edge_attr=[240912], y=[256], pos=[30114, 2], batch=[30114], ptr=[257])\n",
            "\n",
            "Step 63:\n",
            "=======\n",
            "Number of graphs in the current batch: 256\n",
            "DataBatch(x=[30160, 3], edge_index=[2, 241280], edge_attr=[241280], y=[256], pos=[30160, 2], batch=[30160], ptr=[257])\n",
            "\n",
            "Step 64:\n",
            "=======\n",
            "Number of graphs in the current batch: 256\n",
            "DataBatch(x=[30060, 3], edge_index=[2, 240480], edge_attr=[240480], y=[256], pos=[30060, 2], batch=[30060], ptr=[257])\n",
            "\n",
            "Step 65:\n",
            "=======\n",
            "Number of graphs in the current batch: 256\n",
            "DataBatch(x=[30071, 3], edge_index=[2, 240568], edge_attr=[240568], y=[256], pos=[30071, 2], batch=[30071], ptr=[257])\n",
            "\n",
            "Step 66:\n",
            "=======\n",
            "Number of graphs in the current batch: 256\n",
            "DataBatch(x=[30207, 3], edge_index=[2, 241656], edge_attr=[241656], y=[256], pos=[30207, 2], batch=[30207], ptr=[257])\n",
            "\n",
            "Step 67:\n",
            "=======\n",
            "Number of graphs in the current batch: 256\n",
            "DataBatch(x=[30157, 3], edge_index=[2, 241256], edge_attr=[241256], y=[256], pos=[30157, 2], batch=[30157], ptr=[257])\n",
            "\n",
            "Step 68:\n",
            "=======\n",
            "Number of graphs in the current batch: 256\n",
            "DataBatch(x=[30074, 3], edge_index=[2, 240592], edge_attr=[240592], y=[256], pos=[30074, 2], batch=[30074], ptr=[257])\n",
            "\n",
            "Step 69:\n",
            "=======\n",
            "Number of graphs in the current batch: 256\n",
            "DataBatch(x=[30092, 3], edge_index=[2, 240736], edge_attr=[240736], y=[256], pos=[30092, 2], batch=[30092], ptr=[257])\n",
            "\n",
            "Step 70:\n",
            "=======\n",
            "Number of graphs in the current batch: 256\n",
            "DataBatch(x=[29999, 3], edge_index=[2, 239992], edge_attr=[239992], y=[256], pos=[29999, 2], batch=[29999], ptr=[257])\n",
            "\n",
            "Step 71:\n",
            "=======\n",
            "Number of graphs in the current batch: 256\n",
            "DataBatch(x=[30135, 3], edge_index=[2, 241080], edge_attr=[241080], y=[256], pos=[30135, 2], batch=[30135], ptr=[257])\n",
            "\n",
            "Step 72:\n",
            "=======\n",
            "Number of graphs in the current batch: 256\n",
            "DataBatch(x=[30170, 3], edge_index=[2, 241360], edge_attr=[241360], y=[256], pos=[30170, 2], batch=[30170], ptr=[257])\n",
            "\n",
            "Step 73:\n",
            "=======\n",
            "Number of graphs in the current batch: 256\n",
            "DataBatch(x=[30047, 3], edge_index=[2, 240376], edge_attr=[240376], y=[256], pos=[30047, 2], batch=[30047], ptr=[257])\n",
            "\n",
            "Step 74:\n",
            "=======\n",
            "Number of graphs in the current batch: 256\n",
            "DataBatch(x=[29913, 3], edge_index=[2, 239304], edge_attr=[239304], y=[256], pos=[29913, 2], batch=[29913], ptr=[257])\n",
            "\n",
            "Step 75:\n",
            "=======\n",
            "Number of graphs in the current batch: 256\n",
            "DataBatch(x=[29987, 3], edge_index=[2, 239896], edge_attr=[239896], y=[256], pos=[29987, 2], batch=[29987], ptr=[257])\n",
            "\n",
            "Step 76:\n",
            "=======\n",
            "Number of graphs in the current batch: 256\n",
            "DataBatch(x=[30027, 3], edge_index=[2, 240216], edge_attr=[240216], y=[256], pos=[30027, 2], batch=[30027], ptr=[257])\n",
            "\n",
            "Step 77:\n",
            "=======\n",
            "Number of graphs in the current batch: 256\n",
            "DataBatch(x=[30313, 3], edge_index=[2, 242504], edge_attr=[242504], y=[256], pos=[30313, 2], batch=[30313], ptr=[257])\n",
            "\n",
            "Step 78:\n",
            "=======\n",
            "Number of graphs in the current batch: 256\n",
            "DataBatch(x=[30285, 3], edge_index=[2, 242280], edge_attr=[242280], y=[256], pos=[30285, 2], batch=[30285], ptr=[257])\n",
            "\n",
            "Step 79:\n",
            "=======\n",
            "Number of graphs in the current batch: 256\n",
            "DataBatch(x=[30119, 3], edge_index=[2, 240952], edge_attr=[240952], y=[256], pos=[30119, 2], batch=[30119], ptr=[257])\n",
            "\n",
            "Step 80:\n",
            "=======\n",
            "Number of graphs in the current batch: 256\n",
            "DataBatch(x=[30149, 3], edge_index=[2, 241192], edge_attr=[241192], y=[256], pos=[30149, 2], batch=[30149], ptr=[257])\n",
            "\n",
            "Step 81:\n",
            "=======\n",
            "Number of graphs in the current batch: 256\n",
            "DataBatch(x=[30078, 3], edge_index=[2, 240624], edge_attr=[240624], y=[256], pos=[30078, 2], batch=[30078], ptr=[257])\n",
            "\n",
            "Step 82:\n",
            "=======\n",
            "Number of graphs in the current batch: 256\n",
            "DataBatch(x=[30045, 3], edge_index=[2, 240360], edge_attr=[240360], y=[256], pos=[30045, 2], batch=[30045], ptr=[257])\n",
            "\n",
            "Step 83:\n",
            "=======\n",
            "Number of graphs in the current batch: 256\n",
            "DataBatch(x=[30066, 3], edge_index=[2, 240528], edge_attr=[240528], y=[256], pos=[30066, 2], batch=[30066], ptr=[257])\n",
            "\n",
            "Step 84:\n",
            "=======\n",
            "Number of graphs in the current batch: 256\n",
            "DataBatch(x=[30193, 3], edge_index=[2, 241544], edge_attr=[241544], y=[256], pos=[30193, 2], batch=[30193], ptr=[257])\n",
            "\n",
            "Step 85:\n",
            "=======\n",
            "Number of graphs in the current batch: 256\n",
            "DataBatch(x=[30135, 3], edge_index=[2, 241080], edge_attr=[241080], y=[256], pos=[30135, 2], batch=[30135], ptr=[257])\n",
            "\n",
            "Step 86:\n",
            "=======\n",
            "Number of graphs in the current batch: 256\n",
            "DataBatch(x=[30183, 3], edge_index=[2, 241464], edge_attr=[241464], y=[256], pos=[30183, 2], batch=[30183], ptr=[257])\n",
            "\n",
            "Step 87:\n",
            "=======\n",
            "Number of graphs in the current batch: 256\n",
            "DataBatch(x=[30260, 3], edge_index=[2, 242080], edge_attr=[242080], y=[256], pos=[30260, 2], batch=[30260], ptr=[257])\n",
            "\n",
            "Step 88:\n",
            "=======\n",
            "Number of graphs in the current batch: 256\n",
            "DataBatch(x=[30073, 3], edge_index=[2, 240584], edge_attr=[240584], y=[256], pos=[30073, 2], batch=[30073], ptr=[257])\n",
            "\n",
            "Step 89:\n",
            "=======\n",
            "Number of graphs in the current batch: 256\n",
            "DataBatch(x=[30122, 3], edge_index=[2, 240976], edge_attr=[240976], y=[256], pos=[30122, 2], batch=[30122], ptr=[257])\n",
            "\n",
            "Step 90:\n",
            "=======\n",
            "Number of graphs in the current batch: 256\n",
            "DataBatch(x=[30123, 3], edge_index=[2, 240984], edge_attr=[240984], y=[256], pos=[30123, 2], batch=[30123], ptr=[257])\n",
            "\n",
            "Step 91:\n",
            "=======\n",
            "Number of graphs in the current batch: 256\n",
            "DataBatch(x=[30035, 3], edge_index=[2, 240280], edge_attr=[240280], y=[256], pos=[30035, 2], batch=[30035], ptr=[257])\n",
            "\n",
            "Step 92:\n",
            "=======\n",
            "Number of graphs in the current batch: 256\n",
            "DataBatch(x=[30045, 3], edge_index=[2, 240360], edge_attr=[240360], y=[256], pos=[30045, 2], batch=[30045], ptr=[257])\n",
            "\n",
            "Step 93:\n",
            "=======\n",
            "Number of graphs in the current batch: 256\n",
            "DataBatch(x=[30083, 3], edge_index=[2, 240664], edge_attr=[240664], y=[256], pos=[30083, 2], batch=[30083], ptr=[257])\n",
            "\n",
            "Step 94:\n",
            "=======\n",
            "Number of graphs in the current batch: 256\n",
            "DataBatch(x=[30207, 3], edge_index=[2, 241656], edge_attr=[241656], y=[256], pos=[30207, 2], batch=[30207], ptr=[257])\n",
            "\n",
            "Step 95:\n",
            "=======\n",
            "Number of graphs in the current batch: 256\n",
            "DataBatch(x=[30187, 3], edge_index=[2, 241496], edge_attr=[241496], y=[256], pos=[30187, 2], batch=[30187], ptr=[257])\n",
            "\n",
            "Step 96:\n",
            "=======\n",
            "Number of graphs in the current batch: 256\n",
            "DataBatch(x=[30068, 3], edge_index=[2, 240544], edge_attr=[240544], y=[256], pos=[30068, 2], batch=[30068], ptr=[257])\n",
            "\n",
            "Step 97:\n",
            "=======\n",
            "Number of graphs in the current batch: 256\n",
            "DataBatch(x=[30150, 3], edge_index=[2, 241200], edge_attr=[241200], y=[256], pos=[30150, 2], batch=[30150], ptr=[257])\n",
            "\n",
            "Step 98:\n",
            "=======\n",
            "Number of graphs in the current batch: 256\n",
            "DataBatch(x=[30057, 3], edge_index=[2, 240456], edge_attr=[240456], y=[256], pos=[30057, 2], batch=[30057], ptr=[257])\n",
            "\n",
            "Step 99:\n",
            "=======\n",
            "Number of graphs in the current batch: 256\n",
            "DataBatch(x=[30165, 3], edge_index=[2, 241320], edge_attr=[241320], y=[256], pos=[30165, 2], batch=[30165], ptr=[257])\n",
            "\n",
            "Step 100:\n",
            "=======\n",
            "Number of graphs in the current batch: 256\n",
            "DataBatch(x=[30100, 3], edge_index=[2, 240800], edge_attr=[240800], y=[256], pos=[30100, 2], batch=[30100], ptr=[257])\n",
            "\n",
            "Step 101:\n",
            "=======\n",
            "Number of graphs in the current batch: 256\n",
            "DataBatch(x=[30114, 3], edge_index=[2, 240912], edge_attr=[240912], y=[256], pos=[30114, 2], batch=[30114], ptr=[257])\n",
            "\n",
            "Step 102:\n",
            "=======\n",
            "Number of graphs in the current batch: 256\n",
            "DataBatch(x=[30049, 3], edge_index=[2, 240392], edge_attr=[240392], y=[256], pos=[30049, 2], batch=[30049], ptr=[257])\n",
            "\n",
            "Step 103:\n",
            "=======\n",
            "Number of graphs in the current batch: 256\n",
            "DataBatch(x=[30069, 3], edge_index=[2, 240552], edge_attr=[240552], y=[256], pos=[30069, 2], batch=[30069], ptr=[257])\n",
            "\n",
            "Step 104:\n",
            "=======\n",
            "Number of graphs in the current batch: 256\n",
            "DataBatch(x=[30063, 3], edge_index=[2, 240504], edge_attr=[240504], y=[256], pos=[30063, 2], batch=[30063], ptr=[257])\n",
            "\n",
            "Step 105:\n",
            "=======\n",
            "Number of graphs in the current batch: 256\n",
            "DataBatch(x=[30060, 3], edge_index=[2, 240480], edge_attr=[240480], y=[256], pos=[30060, 2], batch=[30060], ptr=[257])\n",
            "\n",
            "Step 106:\n",
            "=======\n",
            "Number of graphs in the current batch: 256\n",
            "DataBatch(x=[30158, 3], edge_index=[2, 241264], edge_attr=[241264], y=[256], pos=[30158, 2], batch=[30158], ptr=[257])\n",
            "\n",
            "Step 107:\n",
            "=======\n",
            "Number of graphs in the current batch: 256\n",
            "DataBatch(x=[30215, 3], edge_index=[2, 241720], edge_attr=[241720], y=[256], pos=[30215, 2], batch=[30215], ptr=[257])\n",
            "\n",
            "Step 108:\n",
            "=======\n",
            "Number of graphs in the current batch: 256\n",
            "DataBatch(x=[30105, 3], edge_index=[2, 240840], edge_attr=[240840], y=[256], pos=[30105, 2], batch=[30105], ptr=[257])\n",
            "\n",
            "Step 109:\n",
            "=======\n",
            "Number of graphs in the current batch: 256\n",
            "DataBatch(x=[30229, 3], edge_index=[2, 241832], edge_attr=[241832], y=[256], pos=[30229, 2], batch=[30229], ptr=[257])\n",
            "\n",
            "Step 110:\n",
            "=======\n",
            "Number of graphs in the current batch: 256\n",
            "DataBatch(x=[30268, 3], edge_index=[2, 242144], edge_attr=[242144], y=[256], pos=[30268, 2], batch=[30268], ptr=[257])\n",
            "\n",
            "Step 111:\n",
            "=======\n",
            "Number of graphs in the current batch: 256\n",
            "DataBatch(x=[30058, 3], edge_index=[2, 240464], edge_attr=[240464], y=[256], pos=[30058, 2], batch=[30058], ptr=[257])\n",
            "\n",
            "Step 112:\n",
            "=======\n",
            "Number of graphs in the current batch: 256\n",
            "DataBatch(x=[30196, 3], edge_index=[2, 241568], edge_attr=[241568], y=[256], pos=[30196, 2], batch=[30196], ptr=[257])\n",
            "\n",
            "Step 113:\n",
            "=======\n",
            "Number of graphs in the current batch: 256\n",
            "DataBatch(x=[30120, 3], edge_index=[2, 240960], edge_attr=[240960], y=[256], pos=[30120, 2], batch=[30120], ptr=[257])\n",
            "\n",
            "Step 114:\n",
            "=======\n",
            "Number of graphs in the current batch: 256\n",
            "DataBatch(x=[30024, 3], edge_index=[2, 240192], edge_attr=[240192], y=[256], pos=[30024, 2], batch=[30024], ptr=[257])\n",
            "\n",
            "Step 115:\n",
            "=======\n",
            "Number of graphs in the current batch: 256\n",
            "DataBatch(x=[30053, 3], edge_index=[2, 240424], edge_attr=[240424], y=[256], pos=[30053, 2], batch=[30053], ptr=[257])\n",
            "\n",
            "Step 116:\n",
            "=======\n",
            "Number of graphs in the current batch: 256\n",
            "DataBatch(x=[30176, 3], edge_index=[2, 241408], edge_attr=[241408], y=[256], pos=[30176, 2], batch=[30176], ptr=[257])\n",
            "\n",
            "Step 117:\n",
            "=======\n",
            "Number of graphs in the current batch: 256\n",
            "DataBatch(x=[30125, 3], edge_index=[2, 241000], edge_attr=[241000], y=[256], pos=[30125, 2], batch=[30125], ptr=[257])\n",
            "\n",
            "Step 118:\n",
            "=======\n",
            "Number of graphs in the current batch: 256\n",
            "DataBatch(x=[30160, 3], edge_index=[2, 241280], edge_attr=[241280], y=[256], pos=[30160, 2], batch=[30160], ptr=[257])\n",
            "\n",
            "Step 119:\n",
            "=======\n",
            "Number of graphs in the current batch: 256\n",
            "DataBatch(x=[30105, 3], edge_index=[2, 240840], edge_attr=[240840], y=[256], pos=[30105, 2], batch=[30105], ptr=[257])\n",
            "\n",
            "Step 120:\n",
            "=======\n",
            "Number of graphs in the current batch: 256\n",
            "DataBatch(x=[30011, 3], edge_index=[2, 240088], edge_attr=[240088], y=[256], pos=[30011, 2], batch=[30011], ptr=[257])\n",
            "\n",
            "Step 121:\n",
            "=======\n",
            "Number of graphs in the current batch: 256\n",
            "DataBatch(x=[30110, 3], edge_index=[2, 240880], edge_attr=[240880], y=[256], pos=[30110, 2], batch=[30110], ptr=[257])\n",
            "\n",
            "Step 122:\n",
            "=======\n",
            "Number of graphs in the current batch: 256\n",
            "DataBatch(x=[30127, 3], edge_index=[2, 241016], edge_attr=[241016], y=[256], pos=[30127, 2], batch=[30127], ptr=[257])\n",
            "\n",
            "Step 123:\n",
            "=======\n",
            "Number of graphs in the current batch: 256\n",
            "DataBatch(x=[30159, 3], edge_index=[2, 241272], edge_attr=[241272], y=[256], pos=[30159, 2], batch=[30159], ptr=[257])\n",
            "\n",
            "Step 124:\n",
            "=======\n",
            "Number of graphs in the current batch: 256\n",
            "DataBatch(x=[30207, 3], edge_index=[2, 241656], edge_attr=[241656], y=[256], pos=[30207, 2], batch=[30207], ptr=[257])\n",
            "\n",
            "Step 125:\n",
            "=======\n",
            "Number of graphs in the current batch: 256\n",
            "DataBatch(x=[30082, 3], edge_index=[2, 240656], edge_attr=[240656], y=[256], pos=[30082, 2], batch=[30082], ptr=[257])\n",
            "\n",
            "Step 126:\n",
            "=======\n",
            "Number of graphs in the current batch: 256\n",
            "DataBatch(x=[30122, 3], edge_index=[2, 240976], edge_attr=[240976], y=[256], pos=[30122, 2], batch=[30122], ptr=[257])\n",
            "\n",
            "Step 127:\n",
            "=======\n",
            "Number of graphs in the current batch: 256\n",
            "DataBatch(x=[30130, 3], edge_index=[2, 241040], edge_attr=[241040], y=[256], pos=[30130, 2], batch=[30130], ptr=[257])\n",
            "\n",
            "Step 128:\n",
            "=======\n",
            "Number of graphs in the current batch: 256\n",
            "DataBatch(x=[30098, 3], edge_index=[2, 240784], edge_attr=[240784], y=[256], pos=[30098, 2], batch=[30098], ptr=[257])\n",
            "\n",
            "Step 129:\n",
            "=======\n",
            "Number of graphs in the current batch: 256\n",
            "DataBatch(x=[30163, 3], edge_index=[2, 241304], edge_attr=[241304], y=[256], pos=[30163, 2], batch=[30163], ptr=[257])\n",
            "\n",
            "Step 130:\n",
            "=======\n",
            "Number of graphs in the current batch: 256\n",
            "DataBatch(x=[30105, 3], edge_index=[2, 240840], edge_attr=[240840], y=[256], pos=[30105, 2], batch=[30105], ptr=[257])\n",
            "\n",
            "Step 131:\n",
            "=======\n",
            "Number of graphs in the current batch: 256\n",
            "DataBatch(x=[29849, 3], edge_index=[2, 238792], edge_attr=[238792], y=[256], pos=[29849, 2], batch=[29849], ptr=[257])\n",
            "\n",
            "Step 132:\n",
            "=======\n",
            "Number of graphs in the current batch: 256\n",
            "DataBatch(x=[30148, 3], edge_index=[2, 241184], edge_attr=[241184], y=[256], pos=[30148, 2], batch=[30148], ptr=[257])\n",
            "\n",
            "Step 133:\n",
            "=======\n",
            "Number of graphs in the current batch: 256\n",
            "DataBatch(x=[30143, 3], edge_index=[2, 241144], edge_attr=[241144], y=[256], pos=[30143, 2], batch=[30143], ptr=[257])\n",
            "\n",
            "Step 134:\n",
            "=======\n",
            "Number of graphs in the current batch: 256\n",
            "DataBatch(x=[30098, 3], edge_index=[2, 240784], edge_attr=[240784], y=[256], pos=[30098, 2], batch=[30098], ptr=[257])\n",
            "\n",
            "Step 135:\n",
            "=======\n",
            "Number of graphs in the current batch: 256\n",
            "DataBatch(x=[30090, 3], edge_index=[2, 240720], edge_attr=[240720], y=[256], pos=[30090, 2], batch=[30090], ptr=[257])\n",
            "\n",
            "Step 136:\n",
            "=======\n",
            "Number of graphs in the current batch: 256\n",
            "DataBatch(x=[30037, 3], edge_index=[2, 240296], edge_attr=[240296], y=[256], pos=[30037, 2], batch=[30037], ptr=[257])\n",
            "\n",
            "Step 137:\n",
            "=======\n",
            "Number of graphs in the current batch: 256\n",
            "DataBatch(x=[30117, 3], edge_index=[2, 240936], edge_attr=[240936], y=[256], pos=[30117, 2], batch=[30117], ptr=[257])\n",
            "\n",
            "Step 138:\n",
            "=======\n",
            "Number of graphs in the current batch: 256\n",
            "DataBatch(x=[30121, 3], edge_index=[2, 240968], edge_attr=[240968], y=[256], pos=[30121, 2], batch=[30121], ptr=[257])\n",
            "\n",
            "Step 139:\n",
            "=======\n",
            "Number of graphs in the current batch: 256\n",
            "DataBatch(x=[30041, 3], edge_index=[2, 240328], edge_attr=[240328], y=[256], pos=[30041, 2], batch=[30041], ptr=[257])\n",
            "\n",
            "Step 140:\n",
            "=======\n",
            "Number of graphs in the current batch: 256\n",
            "DataBatch(x=[30152, 3], edge_index=[2, 241216], edge_attr=[241216], y=[256], pos=[30152, 2], batch=[30152], ptr=[257])\n",
            "\n",
            "Step 141:\n",
            "=======\n",
            "Number of graphs in the current batch: 256\n",
            "DataBatch(x=[30171, 3], edge_index=[2, 241368], edge_attr=[241368], y=[256], pos=[30171, 2], batch=[30171], ptr=[257])\n",
            "\n",
            "Step 142:\n",
            "=======\n",
            "Number of graphs in the current batch: 256\n",
            "DataBatch(x=[30078, 3], edge_index=[2, 240624], edge_attr=[240624], y=[256], pos=[30078, 2], batch=[30078], ptr=[257])\n",
            "\n",
            "Step 143:\n",
            "=======\n",
            "Number of graphs in the current batch: 256\n",
            "DataBatch(x=[30159, 3], edge_index=[2, 241272], edge_attr=[241272], y=[256], pos=[30159, 2], batch=[30159], ptr=[257])\n",
            "\n",
            "Step 144:\n",
            "=======\n",
            "Number of graphs in the current batch: 256\n",
            "DataBatch(x=[30174, 3], edge_index=[2, 241392], edge_attr=[241392], y=[256], pos=[30174, 2], batch=[30174], ptr=[257])\n",
            "\n",
            "Step 145:\n",
            "=======\n",
            "Number of graphs in the current batch: 256\n",
            "DataBatch(x=[30159, 3], edge_index=[2, 241272], edge_attr=[241272], y=[256], pos=[30159, 2], batch=[30159], ptr=[257])\n",
            "\n",
            "Step 146:\n",
            "=======\n",
            "Number of graphs in the current batch: 256\n",
            "DataBatch(x=[30054, 3], edge_index=[2, 240432], edge_attr=[240432], y=[256], pos=[30054, 2], batch=[30054], ptr=[257])\n",
            "\n",
            "Step 147:\n",
            "=======\n",
            "Number of graphs in the current batch: 256\n",
            "DataBatch(x=[30223, 3], edge_index=[2, 241784], edge_attr=[241784], y=[256], pos=[30223, 2], batch=[30223], ptr=[257])\n",
            "\n",
            "Step 148:\n",
            "=======\n",
            "Number of graphs in the current batch: 256\n",
            "DataBatch(x=[30049, 3], edge_index=[2, 240392], edge_attr=[240392], y=[256], pos=[30049, 2], batch=[30049], ptr=[257])\n",
            "\n",
            "Step 149:\n",
            "=======\n",
            "Number of graphs in the current batch: 256\n",
            "DataBatch(x=[30102, 3], edge_index=[2, 240816], edge_attr=[240816], y=[256], pos=[30102, 2], batch=[30102], ptr=[257])\n",
            "\n",
            "Step 150:\n",
            "=======\n",
            "Number of graphs in the current batch: 256\n",
            "DataBatch(x=[30100, 3], edge_index=[2, 240800], edge_attr=[240800], y=[256], pos=[30100, 2], batch=[30100], ptr=[257])\n",
            "\n",
            "Step 151:\n",
            "=======\n",
            "Number of graphs in the current batch: 256\n",
            "DataBatch(x=[30206, 3], edge_index=[2, 241648], edge_attr=[241648], y=[256], pos=[30206, 2], batch=[30206], ptr=[257])\n",
            "\n",
            "Step 152:\n",
            "=======\n",
            "Number of graphs in the current batch: 256\n",
            "DataBatch(x=[30192, 3], edge_index=[2, 241536], edge_attr=[241536], y=[256], pos=[30192, 2], batch=[30192], ptr=[257])\n",
            "\n",
            "Step 153:\n",
            "=======\n",
            "Number of graphs in the current batch: 256\n",
            "DataBatch(x=[30209, 3], edge_index=[2, 241672], edge_attr=[241672], y=[256], pos=[30209, 2], batch=[30209], ptr=[257])\n",
            "\n",
            "Step 154:\n",
            "=======\n",
            "Number of graphs in the current batch: 256\n",
            "DataBatch(x=[30094, 3], edge_index=[2, 240752], edge_attr=[240752], y=[256], pos=[30094, 2], batch=[30094], ptr=[257])\n",
            "\n",
            "Step 155:\n",
            "=======\n",
            "Number of graphs in the current batch: 256\n",
            "DataBatch(x=[30013, 3], edge_index=[2, 240104], edge_attr=[240104], y=[256], pos=[30013, 2], batch=[30013], ptr=[257])\n",
            "\n",
            "Step 156:\n",
            "=======\n",
            "Number of graphs in the current batch: 256\n",
            "DataBatch(x=[30043, 3], edge_index=[2, 240344], edge_attr=[240344], y=[256], pos=[30043, 2], batch=[30043], ptr=[257])\n",
            "\n",
            "Step 157:\n",
            "=======\n",
            "Number of graphs in the current batch: 256\n",
            "DataBatch(x=[30170, 3], edge_index=[2, 241360], edge_attr=[241360], y=[256], pos=[30170, 2], batch=[30170], ptr=[257])\n",
            "\n",
            "Step 158:\n",
            "=======\n",
            "Number of graphs in the current batch: 256\n",
            "DataBatch(x=[30054, 3], edge_index=[2, 240432], edge_attr=[240432], y=[256], pos=[30054, 2], batch=[30054], ptr=[257])\n",
            "\n",
            "Step 159:\n",
            "=======\n",
            "Number of graphs in the current batch: 256\n",
            "DataBatch(x=[30065, 3], edge_index=[2, 240520], edge_attr=[240520], y=[256], pos=[30065, 2], batch=[30065], ptr=[257])\n",
            "\n",
            "Step 160:\n",
            "=======\n",
            "Number of graphs in the current batch: 256\n",
            "DataBatch(x=[30054, 3], edge_index=[2, 240432], edge_attr=[240432], y=[256], pos=[30054, 2], batch=[30054], ptr=[257])\n",
            "\n",
            "Step 161:\n",
            "=======\n",
            "Number of graphs in the current batch: 256\n",
            "DataBatch(x=[30148, 3], edge_index=[2, 241184], edge_attr=[241184], y=[256], pos=[30148, 2], batch=[30148], ptr=[257])\n",
            "\n",
            "Step 162:\n",
            "=======\n",
            "Number of graphs in the current batch: 256\n",
            "DataBatch(x=[30183, 3], edge_index=[2, 241464], edge_attr=[241464], y=[256], pos=[30183, 2], batch=[30183], ptr=[257])\n",
            "\n",
            "Step 163:\n",
            "=======\n",
            "Number of graphs in the current batch: 256\n",
            "DataBatch(x=[30214, 3], edge_index=[2, 241712], edge_attr=[241712], y=[256], pos=[30214, 2], batch=[30214], ptr=[257])\n",
            "\n",
            "Step 164:\n",
            "=======\n",
            "Number of graphs in the current batch: 256\n",
            "DataBatch(x=[30181, 3], edge_index=[2, 241448], edge_attr=[241448], y=[256], pos=[30181, 2], batch=[30181], ptr=[257])\n",
            "\n",
            "Step 165:\n",
            "=======\n",
            "Number of graphs in the current batch: 256\n",
            "DataBatch(x=[30061, 3], edge_index=[2, 240488], edge_attr=[240488], y=[256], pos=[30061, 2], batch=[30061], ptr=[257])\n",
            "\n",
            "Step 166:\n",
            "=======\n",
            "Number of graphs in the current batch: 256\n",
            "DataBatch(x=[30080, 3], edge_index=[2, 240640], edge_attr=[240640], y=[256], pos=[30080, 2], batch=[30080], ptr=[257])\n",
            "\n",
            "Step 167:\n",
            "=======\n",
            "Number of graphs in the current batch: 256\n",
            "DataBatch(x=[30188, 3], edge_index=[2, 241504], edge_attr=[241504], y=[256], pos=[30188, 2], batch=[30188], ptr=[257])\n",
            "\n",
            "Step 168:\n",
            "=======\n",
            "Number of graphs in the current batch: 256\n",
            "DataBatch(x=[30082, 3], edge_index=[2, 240656], edge_attr=[240656], y=[256], pos=[30082, 2], batch=[30082], ptr=[257])\n",
            "\n",
            "Step 169:\n",
            "=======\n",
            "Number of graphs in the current batch: 256\n",
            "DataBatch(x=[30119, 3], edge_index=[2, 240952], edge_attr=[240952], y=[256], pos=[30119, 2], batch=[30119], ptr=[257])\n",
            "\n",
            "Step 170:\n",
            "=======\n",
            "Number of graphs in the current batch: 256\n",
            "DataBatch(x=[30077, 3], edge_index=[2, 240616], edge_attr=[240616], y=[256], pos=[30077, 2], batch=[30077], ptr=[257])\n",
            "\n",
            "Step 171:\n",
            "=======\n",
            "Number of graphs in the current batch: 256\n",
            "DataBatch(x=[30068, 3], edge_index=[2, 240544], edge_attr=[240544], y=[256], pos=[30068, 2], batch=[30068], ptr=[257])\n",
            "\n",
            "Step 172:\n",
            "=======\n",
            "Number of graphs in the current batch: 256\n",
            "DataBatch(x=[30180, 3], edge_index=[2, 241440], edge_attr=[241440], y=[256], pos=[30180, 2], batch=[30180], ptr=[257])\n",
            "\n",
            "Step 173:\n",
            "=======\n",
            "Number of graphs in the current batch: 256\n",
            "DataBatch(x=[30221, 3], edge_index=[2, 241768], edge_attr=[241768], y=[256], pos=[30221, 2], batch=[30221], ptr=[257])\n",
            "\n",
            "Step 174:\n",
            "=======\n",
            "Number of graphs in the current batch: 256\n",
            "DataBatch(x=[30170, 3], edge_index=[2, 241360], edge_attr=[241360], y=[256], pos=[30170, 2], batch=[30170], ptr=[257])\n",
            "\n",
            "Step 175:\n",
            "=======\n",
            "Number of graphs in the current batch: 256\n",
            "DataBatch(x=[30087, 3], edge_index=[2, 240696], edge_attr=[240696], y=[256], pos=[30087, 2], batch=[30087], ptr=[257])\n",
            "\n",
            "Step 176:\n",
            "=======\n",
            "Number of graphs in the current batch: 200\n",
            "DataBatch(x=[23531, 3], edge_index=[2, 188248], edge_attr=[188248], y=[200], pos=[23531, 2], batch=[23531], ptr=[201])\n",
            "\n"
          ]
        }
      ],
      "source": [
        "from IPython.display import Javascript  # Restrict height of output cell.\n",
        "display(Javascript('''google.colab.output.setIframeHeight(0, true, {maxHeight: 300})'''))\n",
        "\n",
        "from torch_geometric.loader import DataLoader\n",
        "batch_size=256\n",
        "train_loader = DataLoader(train_dataset, batch_size=batch_size, shuffle=True)\n",
        "valid_loader = DataLoader(valid_dataset, batch_size=batch_size, shuffle=False)\n",
        "\n",
        "for step, data in enumerate(train_loader):\n",
        "    print(f'Step {step + 1}:')\n",
        "    print('=======')\n",
        "    print(f'Number of graphs in the current batch: {data.num_graphs}')\n",
        "    print(data)\n",
        "    print()"
      ]
    },
    {
      "cell_type": "markdown",
      "metadata": {
        "id": "6t5uQ8b7F_2A"
      },
      "source": [
        "## Training GNNs for Graph Classification\n",
        "\n",
        "Training a Graph Neural Network (GNN) for graph classification can be distilled into a three-tiered methodology:\n",
        "\n",
        "1. **Node Embedding:** Through multiple iterations of message passing, every node in the graph is embedded, capturing its localized information in the context of its neighbors.\n",
        "\n",
        "2. **Graph Embedding or Readout Layer:** Once individual node embeddings are generated, they are amalgamated into a singular graph embedding. This process, often referred to as the readout layer, effectively summarizes the entire graph's information.\n",
        "\n",
        "3. **Graph Classification:** With the graph embedding at our disposal, the subsequent step involves training a classifier on these embeddings to determine the graph's class or label.\n",
        "\n",
        "Among the myriad of readout layer strategies, one of the most prevalent methods is the mean aggregation of node embeddings:\n",
        "\n",
        "$$\n",
        "\\mathbf{x}_{G} = \\frac{1}{|V|} \\sum_{v \\in V} \\mathcal{x}^{(L)}_v\n",
        "$$\n",
        "\n",
        "PyTorch Geometric facilitates this process with its [`torch_geometric.nn.global_mean_pool`](https://pytorch-geometric.readthedocs.io/en/latest/modules/nn.html#torch_geometric.nn.glob.global_mean_pool) function. Given a set of node embeddings for every node in a mini-batch, along with the accompanying `batch` assignment vector, this utility churns out a graph embedding of dimensions `[batch_size, hidden_channels]` for each individual graph present in the batch.\n",
        "\n"
      ]
    },
    {
      "cell_type": "markdown",
      "metadata": {
        "id": "PYnjPPDPF_2A"
      },
      "source": [
        "## Task 4: Graph Classfication using GCNConv or GATConv [6 pts]\n",
        "\n",
        "Your objective is to design a Graph Neural Network (GNN) model for graph classification. You have the choice of using either the GCNConv or GATConv layers as building blocks for your network.\n",
        "\n",
        "Complete the following class structure to create your model:"
      ]
    },
    {
      "cell_type": "code",
      "source": [],
      "metadata": {
        "id": "k4ZEYlawdM7V"
      },
      "execution_count": 58,
      "outputs": []
    },
    {
      "cell_type": "code",
      "execution_count": 61,
      "metadata": {
        "id": "VDWOaNUzF_2A"
      },
      "outputs": [],
      "source": [
        "#export\n",
        "from torch.nn import Linear\n",
        "import torch.nn.functional as F\n",
        "from torch_geometric.nn import GCNConv\n",
        "from torch_geometric.nn import GATConv\n",
        "from torch_geometric.nn import global_mean_pool\n",
        "### DO NOT CHANGE ANY CODE ABOVE THIS LINE IN THIS CELL ###\n",
        "\n",
        "\n",
        "class GraphConvModel(torch.nn.Module):\n",
        "    def __init__(self):\n",
        "        super(GraphConvModel, self).__init__()\n",
        "\n",
        "        # TODO: Please design your MLP layers\n",
        "        num_features = 3\n",
        "        hidden_channels = 64\n",
        "        num_classes = train_dataset.num_classes\n",
        "        self.conv1 = GCNConv(3, 64)\n",
        "        self.lin = Linear(64, 10)\n",
        "\n",
        "    def forward(self, x, edge_index, batch):\n",
        "        # TODO: Finish this function\n",
        "        x = self.conv1(x, edge_index)\n",
        "        x = F.relu(x)\n",
        "        x = global_mean_pool(x, batch)\n",
        "        x = self.lin(x)\n",
        "        return F.log_softmax(x, dim=1)\n",
        "\n",
        "######################################################################\n",
        "########## DON'T WRITE ANY CODE OUTSIDE THE CLASS! ###################\n",
        "######## IF YOU WANT TO CALL OR TEST IT CREATE A NEW CELL ############\n",
        "######################################################################"
      ]
    },
    {
      "cell_type": "code",
      "execution_count": 62,
      "metadata": {
        "id": "WLPPVE1iF_2A",
        "colab": {
          "base_uri": "https://localhost:8080/"
        },
        "outputId": "a966a009-ec99-41f3-939f-7036fdaad99e"
      },
      "outputs": [
        {
          "output_type": "stream",
          "name": "stdout",
          "text": [
            "GraphConvModel(\n",
            "  (conv1): GCNConv(3, 64)\n",
            "  (lin): Linear(in_features=64, out_features=10, bias=True)\n",
            ")\n"
          ]
        }
      ],
      "source": [
        "model = GraphConvModel().to(device)\n",
        "print(model)"
      ]
    },
    {
      "cell_type": "markdown",
      "metadata": {
        "id": "_pZsRhR1hY2N"
      },
      "source": [
        "## Task 5: Finish the `graph_test` function and compute the weighted ROC AUC score [3 pts]"
      ]
    },
    {
      "cell_type": "code",
      "execution_count": 63,
      "metadata": {
        "id": "MCKJ1QYxWn8v"
      },
      "outputs": [],
      "source": [
        "#export\n",
        "from torchmetrics.classification import MulticlassAUROC\n",
        "### DO NOT CHANGE ANY CODE ABOVE THIS LINE IN THIS CELL ###\n",
        "\n",
        "def graph_test(model, loss_fn, loader, device):\n",
        "     \"\"\"\n",
        "      model: pytorch GNN model\n",
        "      loss_fn: loss function\n",
        "      loader: DataLoader\n",
        "      device: device used to bind the model and tensor\n",
        "      return weighted auroc\n",
        "      \"\"\"\n",
        "     model.eval()\n",
        "     auroc_score = MulticlassAUROC(num_classes=10,average='weighted').to(device)\n",
        "\n",
        "     with torch.no_grad():\n",
        "        for data in loader:\n",
        "            data = data.to(device)\n",
        "            out = model(data.x.to(device), data.edge_index.to(device), data.batch.to(device))\n",
        "            y_pred = F.softmax(out, dim=1)\n",
        "            y_true = data.y\n",
        "\n",
        "            auroc_score.update(y_pred, y_true)\n",
        "\n",
        "     auroc_score = auroc_score.compute().item()\n",
        "\n",
        "     return auroc_score"
      ]
    },
    {
      "cell_type": "code",
      "execution_count": 64,
      "metadata": {
        "id": "OJej3ikjF_2A",
        "colab": {
          "base_uri": "https://localhost:8080/",
          "height": 300
        },
        "outputId": "9aadb998-a1e5-4875-f1f7-057f11154f17"
      },
      "outputs": [
        {
          "output_type": "display_data",
          "data": {
            "text/plain": [
              "<IPython.core.display.Javascript object>"
            ],
            "application/javascript": [
              "google.colab.output.setIframeHeight(0, true, {maxHeight: 300})"
            ]
          },
          "metadata": {}
        },
        {
          "output_type": "stream",
          "name": "stdout",
          "text": [
            "Epoch: 000, Train Loss: 2.27740, Train Auc: 0.6638, Valid Auc: 0.6668\n",
            "Epoch: 001, Train Loss: 2.19985, Train Auc: 0.6671, Valid Auc: 0.6712\n",
            "Epoch: 002, Train Loss: 2.14846, Train Auc: 0.6784, Valid Auc: 0.6827\n",
            "Epoch: 003, Train Loss: 2.12289, Train Auc: 0.6879, Valid Auc: 0.6916\n",
            "Epoch: 004, Train Loss: 2.10834, Train Auc: 0.6958, Valid Auc: 0.6993\n",
            "Epoch: 005, Train Loss: 2.09841, Train Auc: 0.6999, Valid Auc: 0.7036\n",
            "Epoch: 006, Train Loss: 2.09009, Train Auc: 0.7045, Valid Auc: 0.7082\n",
            "Epoch: 007, Train Loss: 2.08404, Train Auc: 0.7070, Valid Auc: 0.7108\n",
            "Epoch: 008, Train Loss: 2.07829, Train Auc: 0.7092, Valid Auc: 0.7131\n",
            "Epoch: 009, Train Loss: 2.07327, Train Auc: 0.7105, Valid Auc: 0.7144\n",
            "Epoch: 010, Train Loss: 2.06842, Train Auc: 0.7121, Valid Auc: 0.7162\n",
            "Epoch: 011, Train Loss: 2.06501, Train Auc: 0.7134, Valid Auc: 0.7175\n",
            "Epoch: 012, Train Loss: 2.06115, Train Auc: 0.7142, Valid Auc: 0.7184\n",
            "Epoch: 013, Train Loss: 2.05788, Train Auc: 0.7151, Valid Auc: 0.7193\n",
            "Epoch: 014, Train Loss: 2.05473, Train Auc: 0.7157, Valid Auc: 0.7199\n",
            "Epoch: 015, Train Loss: 2.05254, Train Auc: 0.7164, Valid Auc: 0.7207\n",
            "Epoch: 016, Train Loss: 2.05018, Train Auc: 0.7166, Valid Auc: 0.7209\n",
            "Epoch: 017, Train Loss: 2.04810, Train Auc: 0.7168, Valid Auc: 0.7211\n",
            "Epoch: 018, Train Loss: 2.04658, Train Auc: 0.7175, Valid Auc: 0.7218\n",
            "Epoch: 019, Train Loss: 2.04481, Train Auc: 0.7180, Valid Auc: 0.7224\n",
            "Epoch: 020, Train Loss: 2.04353, Train Auc: 0.7181, Valid Auc: 0.7225\n",
            "Epoch: 021, Train Loss: 2.04191, Train Auc: 0.7183, Valid Auc: 0.7227\n",
            "Epoch: 022, Train Loss: 2.04111, Train Auc: 0.7184, Valid Auc: 0.7228\n",
            "Epoch: 023, Train Loss: 2.04000, Train Auc: 0.7191, Valid Auc: 0.7235\n",
            "Epoch: 024, Train Loss: 2.03884, Train Auc: 0.7188, Valid Auc: 0.7232\n",
            "Epoch: 025, Train Loss: 2.03772, Train Auc: 0.7193, Valid Auc: 0.7237\n",
            "Epoch: 026, Train Loss: 2.03697, Train Auc: 0.7195, Valid Auc: 0.7239\n",
            "Epoch: 027, Train Loss: 2.03634, Train Auc: 0.7197, Valid Auc: 0.7240\n",
            "Epoch: 028, Train Loss: 2.03554, Train Auc: 0.7200, Valid Auc: 0.7244\n",
            "Epoch: 029, Train Loss: 2.03502, Train Auc: 0.7198, Valid Auc: 0.7241\n"
          ]
        }
      ],
      "source": [
        "from IPython.display import Javascript\n",
        "display(Javascript('''google.colab.output.setIframeHeight(0, true, {maxHeight: 300})'''))\n",
        "\n",
        "learning_rate = 1e-3\n",
        "epoch_num = 30\n",
        "optimizer = torch.optim.Adam(model.parameters(), lr=learning_rate)\n",
        "loss_fn = torch.nn.CrossEntropyLoss()\n",
        "\n",
        "def train():\n",
        "    model.train()\n",
        "    total_loss = 0.0\n",
        "    for data in train_loader:\n",
        "        out = model(data.x.to(device), data.edge_index.to(device), data.batch.to(device))\n",
        "        # print(train_loader)\n",
        "        loss = loss_fn(out, data.y.to(device))\n",
        "        total_loss += loss\n",
        "        loss.backward()\n",
        "        optimizer.step()\n",
        "        optimizer.zero_grad()\n",
        "    return total_loss / len(train_loader)\n",
        "\n",
        "for epoch in range(epoch_num):\n",
        "    train_loss = train()\n",
        "    train_auroc = graph_test(model, loss_fn, train_loader, device)\n",
        "    valid_auroc = graph_test(model, loss_fn, valid_loader, device)\n",
        "    print(f'Epoch: {epoch:03d}, Train Loss: {train_loss:.5f}, Train Auc: {train_auroc:.4f}, Valid Auc: {valid_auroc:.4f}')"
      ]
    },
    {
      "cell_type": "code",
      "execution_count": 65,
      "metadata": {
        "id": "lA1WkJ6jF_2A",
        "colab": {
          "base_uri": "https://localhost:8080/"
        },
        "outputId": "b37b6160-bbfd-436b-8155-4803e6155bba"
      },
      "outputs": [
        {
          "output_type": "stream",
          "name": "stdout",
          "text": [
            "Saved PyTorch Model State to graph_gcn.pth\n"
          ]
        }
      ],
      "source": [
        "torch.save(model.state_dict(), \"graph_gcn.pth\")\n",
        "print(\"Saved PyTorch Model State to graph_gcn.pth\")"
      ]
    },
    {
      "cell_type": "code",
      "execution_count": 66,
      "metadata": {
        "id": "Uz1MHkMMF_2A",
        "colab": {
          "base_uri": "https://localhost:8080/"
        },
        "outputId": "12b216f2-1457-4737-c851-65211a763a9f"
      },
      "outputs": [
        {
          "output_type": "execute_result",
          "data": {
            "text/plain": [
              "0.7241204380989075"
            ]
          },
          "metadata": {},
          "execution_count": 66
        }
      ],
      "source": [
        "model = GraphConvModel().to(device)\n",
        "model.load_state_dict(torch.load(\"graph_gcn.pth\"))\n",
        "graph_test(model, loss_fn, valid_loader, device)"
      ]
    },
    {
      "cell_type": "code",
      "source": [
        "files.download('graph_gcn.pth')"
      ],
      "metadata": {
        "colab": {
          "base_uri": "https://localhost:8080/",
          "height": 16
        },
        "id": "zHeknD1SSsZ2",
        "outputId": "81e73c5d-2398-482e-8c92-4244853b53ad"
      },
      "execution_count": 67,
      "outputs": [
        {
          "output_type": "display_data",
          "data": {
            "text/plain": [
              "<IPython.core.display.Javascript object>"
            ],
            "application/javascript": [
              "\n",
              "    async function download(id, filename, size) {\n",
              "      if (!google.colab.kernel.accessAllowed) {\n",
              "        return;\n",
              "      }\n",
              "      const div = document.createElement('div');\n",
              "      const label = document.createElement('label');\n",
              "      label.textContent = `Downloading \"${filename}\": `;\n",
              "      div.appendChild(label);\n",
              "      const progress = document.createElement('progress');\n",
              "      progress.max = size;\n",
              "      div.appendChild(progress);\n",
              "      document.body.appendChild(div);\n",
              "\n",
              "      const buffers = [];\n",
              "      let downloaded = 0;\n",
              "\n",
              "      const channel = await google.colab.kernel.comms.open(id);\n",
              "      // Send a message to notify the kernel that we're ready.\n",
              "      channel.send({})\n",
              "\n",
              "      for await (const message of channel.messages) {\n",
              "        // Send a message to notify the kernel that we're ready.\n",
              "        channel.send({})\n",
              "        if (message.buffers) {\n",
              "          for (const buffer of message.buffers) {\n",
              "            buffers.push(buffer);\n",
              "            downloaded += buffer.byteLength;\n",
              "            progress.value = downloaded;\n",
              "          }\n",
              "        }\n",
              "      }\n",
              "      const blob = new Blob(buffers, {type: 'application/binary'});\n",
              "      const a = document.createElement('a');\n",
              "      a.href = window.URL.createObjectURL(blob);\n",
              "      a.download = filename;\n",
              "      div.appendChild(a);\n",
              "      a.click();\n",
              "      div.remove();\n",
              "    }\n",
              "  "
            ]
          },
          "metadata": {}
        },
        {
          "output_type": "display_data",
          "data": {
            "text/plain": [
              "<IPython.core.display.Javascript object>"
            ],
            "application/javascript": [
              "download(\"download_332e2d85-b19b-48fb-a37c-ec93a70fc5c2\", \"graph_gcn.pth\", 5792)"
            ]
          },
          "metadata": {}
        }
      ]
    },
    {
      "cell_type": "markdown",
      "metadata": {
        "id": "cRnvwbN2F_2B"
      },
      "source": [
        "While neighborhood normalization improves GNNs in many scenarios, it can occasionally limit their ability to distinguish certain graph structures.\n",
        "\n",
        "To address this limitation, [Morris et al. (2018)](https://arxiv.org/abs/1810.02244) proposed a modified formulation. Their approach entirely omits neighborhood normalization and introduces a straightforward skip-connection within the GNN layer, ensuring the retention of crucial central node information. The equation for this layer is:\n",
        "\n",
        "$$\n",
        "\\mathbf{x}_v^{(\\ell+1)} = \\mathbf{W}^{(\\ell + 1)}_1 \\mathbf{x}_v^{(\\ell)} + \\mathbf{W}^{(\\ell + 1)}_2 \\sum_{w \\in N(v)} \\mathbf{x}_w^{(\\ell)}\n",
        "$$\n",
        "\n",
        "This specialized layer can be accessed as [`GraphConv`](https://pytorch-geometric.readthedocs.io/en/latest/modules/nn.html#torch_geometric.nn.conv.GraphConv) in the PyTorch Geometric library.\n",
        "\n",
        "For some tasks, you might find `GraphConv` to be a more suitable choice than `GCNConv`.\n"
      ]
    },
    {
      "cell_type": "markdown",
      "metadata": {
        "id": "a4d4izufF_2B"
      },
      "source": [
        "## Task 6: Graph Classification with GraphConv [6 pts]\n",
        "\n",
        "Design a GNN model utilizing the `GraphConv` layer. Kindly complete the class provided below:\n"
      ]
    },
    {
      "cell_type": "code",
      "execution_count": 33,
      "metadata": {
        "id": "IYMiNSmDF_2B"
      },
      "outputs": [],
      "source": [
        "#export\n",
        "from torch_geometric.nn import GraphConv\n",
        "### DO NOT CHANGE ANY CODE ABOVE THIS LINE IN THIS CELL ###\n",
        "\n",
        "class GNN(torch.nn.Module):\n",
        "    def __init__(self):\n",
        "        super(GNN, self).__init__()\n",
        "        # TODO: Finish the design of this GNN model\n",
        "        self.conv1 = GraphConv(3, 32)\n",
        "        self.conv2 = GraphConv(32, 64)\n",
        "        self.fc = torch.nn.Linear(64, 10)\n",
        "\n",
        "    def forward(self, x, edge_index, batch):\n",
        "        # TODO: Finish this function\n",
        "        x = F.relu(self.conv1(x, edge_index))\n",
        "        x = F.relu(self.conv2(x, edge_index))\n",
        "        x = global_mean_pool(x, batch)\n",
        "        x = self.fc(x)\n",
        "        return F.log_softmax(x, dim=1)\n",
        "\n",
        "\n",
        "######################################################################\n",
        "########## DON'T WRITE ANY CODE OUTSIDE THE CLASS! ###################\n",
        "######## IF YOU WANT TO CALL OR TEST IT CREATE A NEW CELL ############\n",
        "######################################################################"
      ]
    },
    {
      "cell_type": "code",
      "execution_count": 34,
      "metadata": {
        "id": "o2KqdBBAF_2B",
        "colab": {
          "base_uri": "https://localhost:8080/"
        },
        "outputId": "7d9ef974-d39e-44f3-dd29-a75a6955ad27"
      },
      "outputs": [
        {
          "output_type": "stream",
          "name": "stdout",
          "text": [
            "GNN(\n",
            "  (conv1): GraphConv(3, 32)\n",
            "  (conv2): GraphConv(32, 64)\n",
            "  (fc): Linear(in_features=64, out_features=10, bias=True)\n",
            ")\n"
          ]
        }
      ],
      "source": [
        "model = GNN().to(device)\n",
        "print(model)"
      ]
    },
    {
      "cell_type": "code",
      "execution_count": 35,
      "metadata": {
        "id": "WSyUX6EgF_2B",
        "colab": {
          "base_uri": "https://localhost:8080/",
          "height": 300
        },
        "outputId": "e3541520-65c0-4882-d97f-f93a0f26035c"
      },
      "outputs": [
        {
          "output_type": "display_data",
          "data": {
            "text/plain": [
              "<IPython.core.display.Javascript object>"
            ],
            "application/javascript": [
              "google.colab.output.setIframeHeight(0, true, {maxHeight: 300})"
            ]
          },
          "metadata": {}
        },
        {
          "output_type": "stream",
          "name": "stdout",
          "text": [
            "Epoch: 000, Train loss: 2.11157, Train Auc: 0.7461, Valid Auc: 0.7511\n",
            "Epoch: 001, Train loss: 1.95139, Train Auc: 0.7639, Valid Auc: 0.7692\n",
            "Epoch: 002, Train loss: 1.92220, Train Auc: 0.7711, Valid Auc: 0.7757\n",
            "Epoch: 003, Train loss: 1.91304, Train Auc: 0.7762, Valid Auc: 0.7793\n",
            "Epoch: 004, Train loss: 1.89974, Train Auc: 0.7786, Valid Auc: 0.7818\n",
            "Epoch: 005, Train loss: 1.89476, Train Auc: 0.7800, Valid Auc: 0.7839\n",
            "Epoch: 006, Train loss: 1.88084, Train Auc: 0.7842, Valid Auc: 0.7865\n",
            "Epoch: 007, Train loss: 1.86677, Train Auc: 0.7839, Valid Auc: 0.7869\n",
            "Epoch: 008, Train loss: 1.85821, Train Auc: 0.7876, Valid Auc: 0.7890\n",
            "Epoch: 009, Train loss: 1.84930, Train Auc: 0.7939, Valid Auc: 0.7959\n",
            "Epoch: 010, Train loss: 1.84895, Train Auc: 0.7928, Valid Auc: 0.7934\n",
            "Epoch: 011, Train loss: 1.83888, Train Auc: 0.7924, Valid Auc: 0.7929\n",
            "Epoch: 012, Train loss: 1.83728, Train Auc: 0.7951, Valid Auc: 0.7974\n",
            "Epoch: 013, Train loss: 1.83278, Train Auc: 0.7981, Valid Auc: 0.7995\n",
            "Epoch: 014, Train loss: 1.82573, Train Auc: 0.7969, Valid Auc: 0.7967\n",
            "Epoch: 015, Train loss: 1.82135, Train Auc: 0.7994, Valid Auc: 0.7986\n",
            "Epoch: 016, Train loss: 1.81347, Train Auc: 0.8014, Valid Auc: 0.8014\n",
            "Epoch: 017, Train loss: 1.80687, Train Auc: 0.8027, Valid Auc: 0.8016\n",
            "Epoch: 018, Train loss: 1.80697, Train Auc: 0.8022, Valid Auc: 0.8025\n",
            "Epoch: 019, Train loss: 1.80219, Train Auc: 0.8037, Valid Auc: 0.8033\n",
            "Epoch: 020, Train loss: 1.79587, Train Auc: 0.8065, Valid Auc: 0.8054\n",
            "Epoch: 021, Train loss: 1.78820, Train Auc: 0.8061, Valid Auc: 0.8061\n",
            "Epoch: 022, Train loss: 1.78085, Train Auc: 0.8095, Valid Auc: 0.8092\n",
            "Epoch: 023, Train loss: 1.77971, Train Auc: 0.8078, Valid Auc: 0.8083\n",
            "Epoch: 024, Train loss: 1.77548, Train Auc: 0.8074, Valid Auc: 0.8071\n",
            "Epoch: 025, Train loss: 1.77400, Train Auc: 0.8101, Valid Auc: 0.8095\n",
            "Epoch: 026, Train loss: 1.76507, Train Auc: 0.8121, Valid Auc: 0.8117\n",
            "Epoch: 027, Train loss: 1.76638, Train Auc: 0.8143, Valid Auc: 0.8136\n",
            "Epoch: 028, Train loss: 1.75416, Train Auc: 0.8128, Valid Auc: 0.8139\n",
            "Epoch: 029, Train loss: 1.75091, Train Auc: 0.8151, Valid Auc: 0.8136\n"
          ]
        }
      ],
      "source": [
        "from IPython.display import Javascript\n",
        "display(Javascript('''google.colab.output.setIframeHeight(0, true, {maxHeight: 300})'''))\n",
        "\n",
        "epoch_num = 30\n",
        "learning_rate = 1e-2\n",
        "\n",
        "optimizer = torch.optim.Adam(model.parameters(), lr=learning_rate)\n",
        "\n",
        "\n",
        "for epoch in range(epoch_num):\n",
        "    train_loss = train()\n",
        "    train_auroc = graph_test(model, loss_fn, train_loader, device)\n",
        "    valid_auroc = graph_test(model, loss_fn, valid_loader, device)\n",
        "    print(f'Epoch: {epoch:03d}, Train loss: {train_loss:.5f}, Train Auc: {train_auroc:.4f}, Valid Auc: {valid_auroc:.4f}')"
      ]
    },
    {
      "cell_type": "code",
      "execution_count": 36,
      "metadata": {
        "id": "gREo4cNXF_2B",
        "colab": {
          "base_uri": "https://localhost:8080/"
        },
        "outputId": "64ee279e-341f-48cf-dd8f-2e8e33ff5eb0"
      },
      "outputs": [
        {
          "output_type": "stream",
          "name": "stdout",
          "text": [
            "Saved PyTorch Model State to graph_gnn.pth\n"
          ]
        }
      ],
      "source": [
        "torch.save(model.state_dict(), \"graph_gnn.pth\")\n",
        "print(\"Saved PyTorch Model State to graph_gnn.pth\")"
      ]
    },
    {
      "cell_type": "code",
      "execution_count": 37,
      "metadata": {
        "id": "NXS4kLL3F_2B",
        "colab": {
          "base_uri": "https://localhost:8080/"
        },
        "outputId": "f9373890-19f1-41ed-b76a-3d05e0b4c466"
      },
      "outputs": [
        {
          "output_type": "execute_result",
          "data": {
            "text/plain": [
              "tensor(0.8136, device='cuda:0')"
            ]
          },
          "metadata": {},
          "execution_count": 37
        }
      ],
      "source": [
        "model = GNN().to(device)\n",
        "model.load_state_dict(torch.load(\"graph_gnn.pth\"))\n",
        "graph_test(model, loss_fn, valid_loader, device)"
      ]
    },
    {
      "cell_type": "code",
      "source": [
        "files.download('graph_gnn.pth')"
      ],
      "metadata": {
        "colab": {
          "base_uri": "https://localhost:8080/",
          "height": 16
        },
        "id": "dch358jTX5Ub",
        "outputId": "72b0e333-e8ad-4938-e954-6fb5b10dab68"
      },
      "execution_count": 38,
      "outputs": [
        {
          "output_type": "display_data",
          "data": {
            "text/plain": [
              "<IPython.core.display.Javascript object>"
            ],
            "application/javascript": [
              "\n",
              "    async function download(id, filename, size) {\n",
              "      if (!google.colab.kernel.accessAllowed) {\n",
              "        return;\n",
              "      }\n",
              "      const div = document.createElement('div');\n",
              "      const label = document.createElement('label');\n",
              "      label.textContent = `Downloading \"${filename}\": `;\n",
              "      div.appendChild(label);\n",
              "      const progress = document.createElement('progress');\n",
              "      progress.max = size;\n",
              "      div.appendChild(progress);\n",
              "      document.body.appendChild(div);\n",
              "\n",
              "      const buffers = [];\n",
              "      let downloaded = 0;\n",
              "\n",
              "      const channel = await google.colab.kernel.comms.open(id);\n",
              "      // Send a message to notify the kernel that we're ready.\n",
              "      channel.send({})\n",
              "\n",
              "      for await (const message of channel.messages) {\n",
              "        // Send a message to notify the kernel that we're ready.\n",
              "        channel.send({})\n",
              "        if (message.buffers) {\n",
              "          for (const buffer of message.buffers) {\n",
              "            buffers.push(buffer);\n",
              "            downloaded += buffer.byteLength;\n",
              "            progress.value = downloaded;\n",
              "          }\n",
              "        }\n",
              "      }\n",
              "      const blob = new Blob(buffers, {type: 'application/binary'});\n",
              "      const a = document.createElement('a');\n",
              "      a.href = window.URL.createObjectURL(blob);\n",
              "      a.download = filename;\n",
              "      div.appendChild(a);\n",
              "      a.click();\n",
              "      div.remove();\n",
              "    }\n",
              "  "
            ]
          },
          "metadata": {}
        },
        {
          "output_type": "display_data",
          "data": {
            "text/plain": [
              "<IPython.core.display.Javascript object>"
            ],
            "application/javascript": [
              "download(\"download_668c0a41-06cd-4bee-928d-f89baafc11dc\", \"graph_gnn.pth\", 23576)"
            ]
          },
          "metadata": {}
        }
      ]
    },
    {
      "cell_type": "markdown",
      "metadata": {
        "id": "lC0F8LhLF_2C"
      },
      "source": [
        "## Submission Guidelines\n",
        "\n",
        "Ensure you've thoroughly tested your code locally before submitting it for evaluation. Your submission to Gradescope should be a zip file containing specific files related to your solution and the trained models.\n",
        "\n",
        "### Submission Checklist:\n",
        "\n",
        "Ensure your zip file contains the following items:\n",
        "\n",
        "1. **Notebook File**:\n",
        "   - `hw3_gnn.ipynb`: This Jupyter notebook containing all your code and answers.\n",
        "   - `hw3_VAE.ipynb`\n",
        "\n",
        "2. **Model Files**:\n",
        "   - `node_gcn.pth`: The saved model file for the Node GCN model.\n",
        "   - `graph_gcn.pth`: The saved model file for the Graph GCN model.\n",
        "   - `graph_gnn.pth`: The saved model file for the Graph GNN model.\n",
        "3. **Other Files**:\n",
        "   - `weights.txt`: The weights file requried in the Q2 of pdf.\n",
        "\n",
        "All model files should adhere to the structure defined within your notebook.\n",
        "\n",
        "### Submission Instructions:\n",
        "\n",
        "- **File Format**: Submit all your files in a **ZIP** format.\n",
        "- **File Structure**: Avoid including a root directory in the zip file. Ensure all your files are compressed directly without a containing folder.\n",
        "- **Validation**: Before submitting, verify your code runs as expected and all outputs align with anticipated results.\n",
        "  \n",
        "### Additional Notes:\n",
        "\n",
        "- Ensure your models maintain the same structure as defined within your notebook.\n",
        "- Be mindful of ensuring all necessary components are included to avoid discrepancies during the evaluation process.\n",
        "\n",
        "**CRUCIAL**: It's paramount to test your zip file in a fresh environment to confirm it runs seamlessly and to verify all essential components are included.\n",
        "\n",
        "Best of luck with your submission!\n"
      ]
    }
  ],
  "metadata": {
    "accelerator": "GPU",
    "colab": {
      "provenance": [],
      "collapsed_sections": [
        "qEQGBENFF_17",
        "pDLIpomCF_18",
        "msgkx7EQF_19",
        "PYnjPPDPF_2A",
        "a4d4izufF_2B"
      ],
      "machine_shape": "hm",
      "gpuType": "A100"
    },
    "kernelspec": {
      "display_name": "Python 3",
      "name": "python3"
    },
    "language_info": {
      "codemirror_mode": {
        "name": "ipython",
        "version": 3
      },
      "file_extension": ".py",
      "mimetype": "text/x-python",
      "name": "python",
      "nbconvert_exporter": "python",
      "pygments_lexer": "ipython3",
      "version": "3.11.4"
    },
    "orig_nbformat": 4
  },
  "nbformat": 4,
  "nbformat_minor": 0
}