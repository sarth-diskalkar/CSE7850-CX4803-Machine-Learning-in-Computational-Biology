{
  "cells": [
    {
      "cell_type": "markdown",
      "metadata": {
        "id": "slTL-QG0YXCo"
      },
      "source": [
        "# Homework2 Neural Network Classification"
      ]
    },
    {
      "cell_type": "markdown",
      "metadata": {
        "id": "_3YRmCuvYXCp"
      },
      "source": [
        "Welcome to this assignment on implementing Neural Networks (NN) using PyTorch! In this notebook, we will be exploring the implementation of Multilayer Perceptron (MLP) and Convolutional Neural Network (CNN) for classification tasks. MLP and CNN are fundamental neural network architectures that have been extensively used in various fields such as computer vision, natural language processing, and many others. The primary objective of this assignment is to gain a practical understanding of implementing and training NNs using PyTorch, a popular open-source machine learning library. By the end of this assignment, you will have a good grasp of the essential concepts and practical aspects of MLP/CNN and PyTorch, which can be further applied to a variety of machine learning tasks. So, let's get started and dive into the world of NN and PyTorch!"
      ]
    },
    {
      "cell_type": "markdown",
      "metadata": {
        "id": "ZukGjsNqYXCq"
      },
      "source": [
        "## Environment\n",
        "To running this code, you have to prepare a python environment. We recommend python version >= 3.8. You will need to install `torch`, `numpy` and `jupyter` packages. And in order to run the tests locally, you also need to install `matplotlib`."
      ]
    },
    {
      "cell_type": "code",
      "execution_count": 1,
      "metadata": {
        "id": "nA0S3CAnYXCq"
      },
      "outputs": [],
      "source": [
        "import torch\n",
        "from torch.utils.data import DataLoader\n",
        "from torchvision import datasets\n",
        "from torchvision.transforms import ToTensor\n",
        "import torchvision.transforms as transforms\n",
        "import numpy as np\n",
        "import math"
      ]
    },
    {
      "cell_type": "markdown",
      "metadata": {
        "id": "PXgsKtyqYXCr"
      },
      "source": [
        "## Basics\n",
        "\n",
        "In this part, we will be focusing on the classification task using the PCAM(PatchCamelyon) dataset. PCAM containing images of 3x96x96 pixels (3 channels). The PCAM dataset is a widely-used histopathology image dataset that contains a large number of high-resolution images of lymph node sections. In this dataset, each image is labelled with a binary classification label indicating the presence or absence of metastatic tissue.\n",
        "\n",
        "In this section, you will learn how to preprocess the dataset, implement and train an MLP model using PyTorch, and evaluate the model's performance on a validation set. By the end of this section, you will have a good understanding of how to implement and train an MLP model for a classification task, and be able to apply this knowledge to other classification problems in your future work. So, let's dive into the world of fashion and machine learning!\n",
        "\n",
        "We will start by introducing the implementation of MLP without using the `torch.nn.module` class. This approach will help you to understand the basic mechanics of implementing an MLP from scratch and to gain a deeper understanding of the concepts involved. We will then move on to introduce the usage of the `torch.nn.module`, which provides a more convenient and efficient way to build neural networks using PyTorch. By the end of this section, you will have a clear understanding of both approaches to building an MLP in PyTorch, and be able to use these techniques to create more complex neural networks for a variety of machine learning tasks. So, let's dive in and start building our first MLP!"
      ]
    },
    {
      "cell_type": "markdown",
      "metadata": {
        "id": "4xPuIaFdYXCr"
      },
      "source": [
        "### Load Data\n",
        "First, let's load the PCAM data. You will a subset of the original dataset to train and test locally (because the whole dataset is quite large) and evaluate your model on the test set in gradescope online."
      ]
    },
    {
      "cell_type": "code",
      "source": [
        "# alternative way to download the dataset from the mirror if the next cell fails to download\n",
        "import os\n",
        "os.makedirs('data', exist_ok=True)\n",
        "os.makedirs(os.path.join('data', 'pcam'), exist_ok=True)\n",
        "!wget https://zenodo.org/record/2546921/files/camelyonpatch_level_2_split_valid_x.h5.gz?download=1 -O data/pcam/camelyonpatch_level_2_split_valid_x.h5.gz\n",
        "!gzip -d data/pcam/camelyonpatch_level_2_split_valid_x.h5.gz\n",
        "!wget https://zenodo.org/record/2546921/files/camelyonpatch_level_2_split_valid_y.h5.gz?download=1 -O data/pcam/camelyonpatch_level_2_split_valid_y.h5.gz\n",
        "!gzip -d data/pcam/camelyonpatch_level_2_split_valid_y.h5.gz"
      ],
      "metadata": {
        "id": "T8jG_6iLn-Iv",
        "colab": {
          "base_uri": "https://localhost:8080/"
        },
        "outputId": "daf76860-1b09-43ae-d0b1-61846c48107c"
      },
      "execution_count": 2,
      "outputs": [
        {
          "output_type": "stream",
          "name": "stdout",
          "text": [
            "--2024-03-07 03:20:34--  https://zenodo.org/record/2546921/files/camelyonpatch_level_2_split_valid_x.h5.gz?download=1\n",
            "Resolving zenodo.org (zenodo.org)... 188.184.103.159, 188.184.98.238, 188.185.79.172, ...\n",
            "Connecting to zenodo.org (zenodo.org)|188.184.103.159|:443... connected.\n",
            "HTTP request sent, awaiting response... 301 MOVED PERMANENTLY\n",
            "Location: /records/2546921/files/camelyonpatch_level_2_split_valid_x.h5.gz [following]\n",
            "--2024-03-07 03:20:35--  https://zenodo.org/records/2546921/files/camelyonpatch_level_2_split_valid_x.h5.gz\n",
            "Reusing existing connection to zenodo.org:443.\n",
            "HTTP request sent, awaiting response... 200 OK\n",
            "Length: 805965320 (769M) [application/octet-stream]\n",
            "Saving to: ‘data/pcam/camelyonpatch_level_2_split_valid_x.h5.gz’\n",
            "\n",
            "data/pcam/camelyonp 100%[===================>] 768.63M  18.4MB/s    in 45s     \n",
            "\n",
            "2024-03-07 03:21:20 (17.2 MB/s) - ‘data/pcam/camelyonpatch_level_2_split_valid_x.h5.gz’ saved [805965320/805965320]\n",
            "\n",
            "--2024-03-07 03:21:30--  https://zenodo.org/record/2546921/files/camelyonpatch_level_2_split_valid_y.h5.gz?download=1\n",
            "Resolving zenodo.org (zenodo.org)... 188.184.103.159, 188.184.98.238, 188.185.79.172, ...\n",
            "Connecting to zenodo.org (zenodo.org)|188.184.103.159|:443... connected.\n",
            "HTTP request sent, awaiting response... 301 MOVED PERMANENTLY\n",
            "Location: /records/2546921/files/camelyonpatch_level_2_split_valid_y.h5.gz [following]\n",
            "--2024-03-07 03:21:31--  https://zenodo.org/records/2546921/files/camelyonpatch_level_2_split_valid_y.h5.gz\n",
            "Reusing existing connection to zenodo.org:443.\n",
            "HTTP request sent, awaiting response... 200 OK\n",
            "Length: 3038 (3.0K) [application/octet-stream]\n",
            "Saving to: ‘data/pcam/camelyonpatch_level_2_split_valid_y.h5.gz’\n",
            "\n",
            "data/pcam/camelyonp 100%[===================>]   2.97K  --.-KB/s    in 0s      \n",
            "\n",
            "2024-03-07 03:21:31 (967 MB/s) - ‘data/pcam/camelyonpatch_level_2_split_valid_y.h5.gz’ saved [3038/3038]\n",
            "\n"
          ]
        }
      ]
    },
    {
      "cell_type": "code",
      "execution_count": 3,
      "metadata": {
        "id": "GZyzOfc_YXCr"
      },
      "outputs": [],
      "source": [
        "transform = transforms.Compose([\n",
        "    transforms.ToTensor(),\n",
        "])\n",
        "\n",
        "# Download data from open datasets. We only use a subset of the original dataset\n",
        "use_dataset = datasets.PCAM(\n",
        "    root=\"data\",\n",
        "    split='val',\n",
        "    download=True,\n",
        "    transform=transform\n",
        ")"
      ]
    },
    {
      "cell_type": "code",
      "execution_count": 4,
      "metadata": {
        "colab": {
          "base_uri": "https://localhost:8080/"
        },
        "id": "4xjXstl1YXCr",
        "outputId": "9dcf6e2f-0435-42bb-bb05-12b449897e04"
      },
      "outputs": [
        {
          "output_type": "stream",
          "name": "stdout",
          "text": [
            "torch.Size([27306, 3, 96, 96])\n",
            "torch.Size([27306])\n",
            "torch.Size([5462, 3, 96, 96])\n",
            "torch.Size([5462])\n"
          ]
        }
      ],
      "source": [
        "# This step may take some time to complete (Dozens of seconds to minutes, depending on your memory)\n",
        "images_list = []\n",
        "labels_list = []\n",
        "data_point_n = len(use_dataset)\n",
        "train_ratio = 5 / 6\n",
        "train_num = int(data_point_n * train_ratio)\n",
        "\n",
        "for i in range(train_num):\n",
        "    images_list.append(use_dataset[i][0])\n",
        "    labels_list.append(use_dataset[i][1])\n",
        "x_train = torch.stack(images_list)\n",
        "y_train = torch.tensor(labels_list)\n",
        "\n",
        "images_list = []\n",
        "labels_list = []\n",
        "for i in range(train_num, data_point_n):\n",
        "    images_list.append(use_dataset[i][0])\n",
        "    labels_list.append(use_dataset[i][1])\n",
        "x_valid = torch.stack(images_list)\n",
        "y_valid = torch.tensor(labels_list)\n",
        "\n",
        "# Delete the temporary variables to save some memory\n",
        "del images_list\n",
        "del labels_list\n",
        "\n",
        "print(x_train.shape)\n",
        "print(y_train.shape)\n",
        "print(x_valid.shape)\n",
        "print(y_valid.shape)\n"
      ]
    },
    {
      "cell_type": "markdown",
      "metadata": {
        "id": "ZmgQJpTFsoYv"
      },
      "source": [
        "Here we can show the image"
      ]
    },
    {
      "cell_type": "code",
      "execution_count": 5,
      "metadata": {
        "id": "PQebE5DJYXCs",
        "outputId": "6faf8957-f60d-4004-dd0a-fcdb936c5e6c",
        "colab": {
          "base_uri": "https://localhost:8080/",
          "height": 451
        }
      },
      "outputs": [
        {
          "output_type": "execute_result",
          "data": {
            "text/plain": [
              "<matplotlib.image.AxesImage at 0x7826bc5c0f40>"
            ]
          },
          "metadata": {},
          "execution_count": 5
        },
        {
          "output_type": "display_data",
          "data": {
            "text/plain": [
              "<Figure size 640x480 with 1 Axes>"
            ],
            "image/png": "[encoded data removed]"
          },
          "metadata": {}
        }
      ],
      "source": [
        "from matplotlib import pyplot\n",
        "rgb_copy = x_train[0].clone()\n",
        "permuted_image = rgb_copy.reshape(3, 96, 96).permute(1, 2, 0)\n",
        "pyplot.imshow(permuted_image)"
      ]
    },
    {
      "cell_type": "code",
      "execution_count": 6,
      "metadata": {
        "colab": {
          "base_uri": "https://localhost:8080/"
        },
        "id": "mhSc8jcHYXCt",
        "outputId": "af35103b-8502-4fe6-96be-afa1dbe014f3"
      },
      "outputs": [
        {
          "output_type": "stream",
          "name": "stdout",
          "text": [
            "torch.Size([27306, 3, 96, 96])\n"
          ]
        }
      ],
      "source": [
        "n, channels, h, w = x_train.shape\n",
        "# print(x_train, y_train)\n",
        "print(x_train.shape)"
      ]
    },
    {
      "cell_type": "markdown",
      "metadata": {
        "id": "iHOW5fIYYXCt"
      },
      "source": [
        "### Build the model\n",
        "PyTorch's built-in automatic gradient calculation feature allows us to use any regular Python function (or callable object) as a model. In this section, we will create a simple linear model by implementing plain matrix multiplication and broadcasted addition. We will also add an activation function using the log_softmax function. It is important to note that while PyTorch offers pre-built loss and activation functions, it is possible to create your own using standard Python code. PyTorch will automatically generate optimized GPU or vectorized CPU code for your custom function, resulting in faster processing times."
      ]
    },
    {
      "cell_type": "code",
      "execution_count": 7,
      "metadata": {
        "id": "O95j61dIYXCt"
      },
      "outputs": [],
      "source": [
        "weights = torch.randn(3 * 96 * 96, 2) / math.sqrt(3 * 96 * 96)\n",
        "weights.requires_grad_()\n",
        "bias = torch.zeros(2, requires_grad=True)"
      ]
    },
    {
      "cell_type": "code",
      "execution_count": 8,
      "metadata": {
        "id": "g6wZU-TsYXCu"
      },
      "outputs": [],
      "source": [
        "def log_softmax(x):\n",
        "    return x - x.exp().sum(-1).log().unsqueeze(-1)\n",
        "\n",
        "def model(xb):\n",
        "    return log_softmax(xb.reshape(-1, 3*96*96) @ weights + bias)"
      ]
    },
    {
      "cell_type": "code",
      "execution_count": 9,
      "metadata": {
        "id": "pkuyp6HYYXCu",
        "colab": {
          "base_uri": "https://localhost:8080/"
        },
        "outputId": "516d36a2-100d-42be-f4c3-332fdae2e820"
      },
      "outputs": [
        {
          "output_type": "stream",
          "name": "stdout",
          "text": [
            "tensor([-1.4189, -0.2770], grad_fn=<SelectBackward0>) torch.Size([64, 2])\n"
          ]
        }
      ],
      "source": [
        "batch_size = 64\n",
        "\n",
        "xb = x_train[0: batch_size]\n",
        "preds = model(xb)\n",
        "preds[0], preds.shape\n",
        "print(preds[0], preds.shape)"
      ]
    },
    {
      "cell_type": "code",
      "execution_count": 10,
      "metadata": {
        "id": "6t5SxLxKYXCu"
      },
      "outputs": [],
      "source": [
        "def nega_log_likehood(input, target):\n",
        "    return -input[range(target.shape[0]), target].mean()\n",
        "\n",
        "# Use negative log-likehood as the loss function\n",
        "loss_func = nega_log_likehood"
      ]
    },
    {
      "cell_type": "code",
      "execution_count": 11,
      "metadata": {
        "id": "qBU-j_7XYXCu",
        "colab": {
          "base_uri": "https://localhost:8080/"
        },
        "outputId": "3dccc20a-6cea-426e-d353-3ccd97ad436e"
      },
      "outputs": [
        {
          "output_type": "stream",
          "name": "stdout",
          "text": [
            "tensor(0.6044, grad_fn=<NegBackward0>)\n"
          ]
        }
      ],
      "source": [
        "yb = y_train[0:batch_size]\n",
        "print(loss_func(preds, yb))"
      ]
    },
    {
      "cell_type": "markdown",
      "metadata": {
        "id": "SPkKiWNwYXCu"
      },
      "source": [
        "### Task 1: Implement accuracy function (5 points)\n",
        "Accuracy is a commonly used metric for evaluating the performance of classification models. It is defined as the ratio of correctly classified samples to the total number of samples in the dataset. In this part of the assignment, we will be using accuracy as the evaluation metric for our MLP and CNN models on the PCAM dataset. The advantage of using accuracy is that it provides a simple and easy-to-understand measure of model performance. However, it does have some limitations, such as not accounting for class imbalance and not providing information about the types of errors made by the model. As the PCAM dataset is quite balanced, accuracy is an appropriate metric to use for this task. In this part of the assignment, you will be implementing a function to compute accuracy using PyTorch, which will allow you to evaluate the performance of your MLP and CNN models on the PCAM dataset.\n",
        "\n",
        "Please calcualte the accuracy of the outputs.\n",
        "\n",
        "$$\n",
        "Accuracy = \\frac{Number\\ of\\ correct\\ predictions}{Total\\ number\\ of\\ predictions}\n",
        "$$"
      ]
    },
    {
      "cell_type": "code",
      "execution_count": 12,
      "metadata": {
        "id": "vJSZh3M1YXCu"
      },
      "outputs": [],
      "source": [
        "#export\n",
        "import torch\n",
        "### DO NOT CHANGE ANY CODE ABOVE THIS LINE IN THIS CELL ###\n",
        "def accuracy(out, target):\n",
        "    \"\"\"\n",
        "    out: tensor with shape (n, k), where k is the number of classes and n is the number of data points. This is the output of the model.\n",
        "    target: tensor with shape (n)\n",
        "    \"\"\"\n",
        "    # TODO: implement the accuracy function\n",
        "    acc = 0.0\n",
        "    preds = torch.argmax(out, dim=1)\n",
        "    correct = torch.sum(preds == target).item()\n",
        "    acc = correct / target.size(0)\n",
        "    return acc"
      ]
    },
    {
      "cell_type": "code",
      "execution_count": 13,
      "metadata": {
        "id": "yHUhF47gYXCv",
        "colab": {
          "base_uri": "https://localhost:8080/"
        },
        "outputId": "71829ffd-f6a4-4b91-b4b4-5aee404d5362"
      },
      "outputs": [
        {
          "output_type": "stream",
          "name": "stdout",
          "text": [
            "0.75\n"
          ]
        }
      ],
      "source": [
        "print(accuracy(preds, yb))"
      ]
    },
    {
      "cell_type": "markdown",
      "metadata": {
        "id": "EwDjX5GpYXCv"
      },
      "source": [
        "After calculating the gradients, we apply them to update the weights and bias of our model. To prevent these actions from being included in the next gradient calculation, we perform this step within the torch.no_grad() context manager. For further details about how PyTorch's Autograd records operations, please refer to the relevant documentation. Subsequently, we reset the gradients to zero, which is necessary to ensure that we begin each loop with a fresh set of gradients. Otherwise, the gradients would accumulate over the duration of our training and produce erroneous results. It is important to note that loss.backward() adds the gradients to the existing values rather than replacing them, which further underscores the necessity of resetting them to zero after each iteration."
      ]
    },
    {
      "cell_type": "code",
      "execution_count": 14,
      "metadata": {
        "id": "2-SJ7TSfYXCv"
      },
      "outputs": [],
      "source": [
        "lr = 0.001  # learning rate\n",
        "epochs = 3 # number of epochs to train the model, you can change this parameter if you want\n",
        "\n",
        "for epoch in range(epochs):\n",
        "    for i in range((n - 1) // batch_size + 1):\n",
        "        start_i = i * batch_size\n",
        "        end_i = start_i + batch_size\n",
        "        xb = x_train[start_i:end_i]\n",
        "        yb = y_train[start_i:end_i]\n",
        "        pred = model(xb)\n",
        "        loss = loss_func(pred, yb)\n",
        "\n",
        "        loss.backward()\n",
        "        with torch.no_grad():\n",
        "            weights -= weights.grad * lr\n",
        "            bias -= bias.grad * lr\n",
        "            weights.grad.zero_()\n",
        "            bias.grad.zero_()"
      ]
    },
    {
      "cell_type": "markdown",
      "metadata": {
        "id": "SL_voDkKYXCv"
      },
      "source": [
        "We have successfully developed and trained a basic neural network (in this instance, a logistic regression) entirely from the ground up! Since we have not included any hidden layers, this model is straightforward in its design. Our next step is to verify its performance by evaluating its loss and accuracy, and comparing them with our previous results. It is reasonable to assume that the loss would decrease while the accuracy would increase with each iteration, and our expectations have been met in this regard."
      ]
    },
    {
      "cell_type": "code",
      "execution_count": 15,
      "metadata": {
        "id": "Yc-_rG5fYXCv",
        "colab": {
          "base_uri": "https://localhost:8080/"
        },
        "outputId": "ba031827-fc27-4769-f710-10365dca6877"
      },
      "outputs": [
        {
          "output_type": "stream",
          "name": "stdout",
          "text": [
            "tensor(0.0228, grad_fn=<NegBackward0>) 1.0\n"
          ]
        }
      ],
      "source": [
        "print(loss_func(model(xb), yb), accuracy(model(xb), yb))"
      ]
    },
    {
      "cell_type": "markdown",
      "metadata": {
        "id": "KJvWAYbRYXCv"
      },
      "source": [
        "Our next course of action involves refactoring our existing code to take full advantage of PyTorch's nn classes, thereby enhancing its conciseness and flexibility without sacrificing functionality. Each subsequent step should aim to improve the code in one or more of the following ways: shorten it, enhance its clarity, or increase its flexibility. To begin with, we can employ the functions from torch.nn.functional to replace our hand-written activation and loss functions, making our code more compact. This module includes a wide range of activation and loss functions, as well as several functions for constructing neural networks, such as pooling functions. Although other parts of the library contain classes for implementing linear layers, convolutions, etc., we will explore these aspects further later on. Additionally, PyTorch provides a single function cross_entropy, which combines negative log likelihood loss and log softmax activation, thus enabling us to remove the activation function from our model."
      ]
    },
    {
      "cell_type": "code",
      "execution_count": 16,
      "metadata": {
        "id": "7pG1rHN8YXCv"
      },
      "outputs": [],
      "source": [
        "loss_func = torch.nn.functional.cross_entropy\n",
        "\n",
        "def model(xb):\n",
        "    return xb.reshape(-1, 3*96*96) @ weights + bias"
      ]
    },
    {
      "cell_type": "code",
      "execution_count": 17,
      "metadata": {
        "id": "IVXCfIZ-YXCv",
        "colab": {
          "base_uri": "https://localhost:8080/"
        },
        "outputId": "707a3c60-c58f-4380-f264-ec4ff971b2ed"
      },
      "outputs": [
        {
          "output_type": "stream",
          "name": "stdout",
          "text": [
            "tensor(0.0228, grad_fn=<NllLossBackward0>) 1.0\n"
          ]
        }
      ],
      "source": [
        "print(loss_func(model(xb), yb), accuracy(model(xb), yb))"
      ]
    },
    {
      "cell_type": "markdown",
      "metadata": {
        "id": "WUdH9DXdYXCw"
      },
      "source": [
        "Our next step is to enhance the clarity and brevity of our training loop by using nn.Module and nn.Parameter. We can achieve this by creating a subclass of nn.Module, which is itself a class that is capable of maintaining state information. This class will hold the weights, bias, and forward method. nn.Module offers several useful methods and attributes (including .parameters() and .zero_grad()) that we can leverage in our implementation."
      ]
    },
    {
      "cell_type": "code",
      "execution_count": 18,
      "metadata": {
        "id": "X2mwWN4EYXCw"
      },
      "outputs": [],
      "source": [
        "from torch import nn\n",
        "\n",
        "class MLP(nn.Module):\n",
        "    def __init__(self):\n",
        "        super().__init__()\n",
        "        self.weights = nn.Parameter(torch.randn(96 * 96 * 3, 2) / math.sqrt(96 * 96 * 3))\n",
        "        self.bias = nn.Parameter(torch.zeros(2))\n",
        "\n",
        "    def forward(self, xb):\n",
        "        return xb.reshape(-1, 3*96*96) @ self.weights + self.bias"
      ]
    },
    {
      "cell_type": "code",
      "execution_count": 19,
      "metadata": {
        "id": "aj0CMhoqYXCw"
      },
      "outputs": [],
      "source": [
        "model = MLP()"
      ]
    },
    {
      "cell_type": "code",
      "execution_count": 20,
      "metadata": {
        "id": "Vk7vdHPZYXCw",
        "colab": {
          "base_uri": "https://localhost:8080/"
        },
        "outputId": "7c8e4d4c-f581-44ad-9504-b2913be262ed"
      },
      "outputs": [
        {
          "output_type": "stream",
          "name": "stdout",
          "text": [
            "tensor(1.8654, grad_fn=<NllLossBackward0>)\n"
          ]
        }
      ],
      "source": [
        "print(loss_func(model(xb), yb))"
      ]
    },
    {
      "cell_type": "markdown",
      "metadata": {
        "id": "1HnrXj7pYXCx"
      },
      "source": [
        "In the previous version of our training loop, we had to manually update the parameter values by their respective names, as well as zero out the gradients for each parameter individually. However, with the help of the built-in functions of PyTorch's nn.Module, namely model.parameters() and model.zero_grad(), we can significantly simplify these steps, reducing the likelihood of accidentally forgetting to update some parameters, especially in a more complex model. In addition, we'll encapsulate our training loop in a `train` function, enabling us to rerun it with ease in the future."
      ]
    },
    {
      "cell_type": "code",
      "execution_count": 21,
      "metadata": {
        "id": "8CLJic2HYXCx"
      },
      "outputs": [],
      "source": [
        "def train():\n",
        "    for epoch in range(epochs):\n",
        "        for i in range((n - 1) // batch_size + 1):\n",
        "            start_i = i * batch_size\n",
        "            end_i = start_i + batch_size\n",
        "            xb = x_train[start_i:end_i]\n",
        "            yb = y_train[start_i:end_i]\n",
        "            pred = model(xb)\n",
        "            loss = loss_func(pred, yb)\n",
        "\n",
        "            loss.backward()\n",
        "            with torch.no_grad():\n",
        "                for p in model.parameters():\n",
        "                    p -= p.grad * lr\n",
        "                model.zero_grad()\n",
        "\n",
        "train()"
      ]
    },
    {
      "cell_type": "code",
      "execution_count": 22,
      "metadata": {
        "id": "Q8MoaMRnYXCx",
        "colab": {
          "base_uri": "https://localhost:8080/"
        },
        "outputId": "2d544995-4f30-466c-c5ff-78600361d221"
      },
      "outputs": [
        {
          "output_type": "stream",
          "name": "stdout",
          "text": [
            "tensor(0.0235, grad_fn=<NllLossBackward0>)\n"
          ]
        }
      ],
      "source": [
        "print(loss_func(model(xb), yb))"
      ]
    },
    {
      "cell_type": "markdown",
      "metadata": {
        "id": "Be_k8ACcYXCx"
      },
      "source": [
        "As we proceed to improve our code, we will replace the manual definition and initialization of self.weights and self.bias, as well as the calculation of xb @ self.weights + self.bias, with the PyTorch class nn.Linear, which already handles these processes for us. PyTorch provides various pre-defined layers that can significantly streamline our code, while also improving its speed."
      ]
    },
    {
      "cell_type": "code",
      "execution_count": 23,
      "metadata": {
        "id": "gPnS72A2YXCx"
      },
      "outputs": [],
      "source": [
        "class MLP(nn.Module):\n",
        "    def __init__(self):\n",
        "        super().__init__()\n",
        "        self.flatten = nn.Flatten()\n",
        "        self.lin = nn.Linear(96 * 96 * 3, 2)\n",
        "\n",
        "    def forward(self, xb):\n",
        "        xb = self.flatten(xb)\n",
        "        return self.lin(xb)"
      ]
    },
    {
      "cell_type": "code",
      "execution_count": 24,
      "metadata": {
        "id": "3bwl30UXYXCx",
        "colab": {
          "base_uri": "https://localhost:8080/"
        },
        "outputId": "da357c1b-0a4c-4d8b-8e83-ef5fc2b44c24"
      },
      "outputs": [
        {
          "output_type": "stream",
          "name": "stdout",
          "text": [
            "tensor(0.7851, grad_fn=<NllLossBackward0>)\n"
          ]
        }
      ],
      "source": [
        "model = MLP()\n",
        "print(loss_func(model(xb), yb))"
      ]
    },
    {
      "cell_type": "code",
      "execution_count": 25,
      "metadata": {
        "id": "1aweiL7uYXCx",
        "colab": {
          "base_uri": "https://localhost:8080/"
        },
        "outputId": "a34cce53-ad2a-44e5-c650-7d4d7e166c48"
      },
      "outputs": [
        {
          "output_type": "stream",
          "name": "stdout",
          "text": [
            "tensor(0.0229, grad_fn=<NllLossBackward0>)\n"
          ]
        }
      ],
      "source": [
        "train()\n",
        "\n",
        "print(loss_func(model(xb), yb))"
      ]
    },
    {
      "cell_type": "markdown",
      "metadata": {
        "id": "8G7GLi21YXCy"
      },
      "source": [
        "PyTorch provides a package called torch.optim, which includes a variety of optimization algorithms. We can utilize the step() method from our optimizer to take a forward step, rather than updating each parameter manually. By doing so, we can replace our previous optimization step, which was manually coded."
      ]
    },
    {
      "cell_type": "code",
      "execution_count": 26,
      "metadata": {
        "id": "BoIN_oK3YXCy",
        "colab": {
          "base_uri": "https://localhost:8080/"
        },
        "outputId": "d8081104-c012-4c5b-f8b6-6958309dcf9a"
      },
      "outputs": [
        {
          "output_type": "stream",
          "name": "stdout",
          "text": [
            "tensor(0.7963, grad_fn=<NllLossBackward0>)\n",
            "tensor(0.0213, grad_fn=<NllLossBackward0>)\n"
          ]
        }
      ],
      "source": [
        "from torch import optim\n",
        "def get_model():\n",
        "    model = MLP()\n",
        "    return model, optim.SGD(model.parameters(), lr=lr)\n",
        "\n",
        "model, opt = get_model()\n",
        "print(loss_func(model(xb), yb))\n",
        "\n",
        "for epoch in range(epochs):\n",
        "    for i in range((n - 1) // batch_size + 1):\n",
        "        start_i = i * batch_size\n",
        "        end_i = start_i + batch_size\n",
        "        xb = x_train[start_i:end_i]\n",
        "        yb = y_train[start_i:end_i]\n",
        "        pred = model(xb)\n",
        "        loss = loss_func(pred, yb)\n",
        "\n",
        "        loss.backward()\n",
        "        opt.step()\n",
        "        opt.zero_grad()\n",
        "\n",
        "print(loss_func(model(xb), yb))"
      ]
    },
    {
      "cell_type": "markdown",
      "metadata": {
        "id": "JYBsg3fTYXCy"
      },
      "source": [
        "PyTorch provides an abstract class called Dataset, which can represent any data with a length and a way of indexing. This is done by implementing the len function, which is used by Python's built-in `__len__` function, and the `__getitem__` function, which allows indexing into the data. In this tutorial, we will create a custom FacialLandmarkDataset class that inherits from Dataset.\n",
        "\n",
        "PyTorch also provides a TensorDataset class, which is a Dataset that wraps tensors. By defining a length and indexing method, it allows us to easily iterate, index, and slice along the first dimension of a tensor. This makes it simpler to access both the independent and dependent variables in a single line during training."
      ]
    },
    {
      "cell_type": "code",
      "execution_count": 27,
      "metadata": {
        "id": "5QJfVk5MYXCy"
      },
      "outputs": [],
      "source": [
        "from torch.utils.data import TensorDataset"
      ]
    },
    {
      "cell_type": "code",
      "execution_count": 28,
      "metadata": {
        "id": "bf-5LGJvYXCy"
      },
      "outputs": [],
      "source": [
        "train_ds = TensorDataset(x_train, y_train)"
      ]
    },
    {
      "cell_type": "code",
      "execution_count": 29,
      "metadata": {
        "id": "WLwArOkdYXCy",
        "colab": {
          "base_uri": "https://localhost:8080/"
        },
        "outputId": "833b3350-5bcd-4795-998e-1d4fdd030737"
      },
      "outputs": [
        {
          "output_type": "stream",
          "name": "stdout",
          "text": [
            "tensor(0.0228, grad_fn=<NllLossBackward0>)\n"
          ]
        }
      ],
      "source": [
        "model, opt = get_model()\n",
        "\n",
        "for epoch in range(epochs):\n",
        "    for i in range((n - 1) // batch_size + 1):\n",
        "        xb, yb = train_ds[i * batch_size: i * batch_size + batch_size]\n",
        "        pred = model(xb)\n",
        "        loss = loss_func(pred, yb)\n",
        "\n",
        "        loss.backward()\n",
        "        opt.step()\n",
        "        opt.zero_grad()\n",
        "\n",
        "print(loss_func(model(xb), yb))"
      ]
    },
    {
      "cell_type": "markdown",
      "metadata": {
        "id": "hOKchhVyYXCy"
      },
      "source": [
        "The task of managing batches is handled by PyTorch's DataLoader. Given any Dataset, a DataLoader can be created. The DataLoader simplifies the iteration over batches. Instead of manually slicing the data into batches, the DataLoader automatically provides each mini-batch."
      ]
    },
    {
      "cell_type": "code",
      "execution_count": 30,
      "metadata": {
        "id": "yxBbd2mHYXCy"
      },
      "outputs": [],
      "source": [
        "train_dl = DataLoader(train_ds, batch_size=batch_size)"
      ]
    },
    {
      "cell_type": "code",
      "execution_count": 31,
      "metadata": {
        "id": "I7SY07CKYXCy",
        "colab": {
          "base_uri": "https://localhost:8080/"
        },
        "outputId": "a9376600-b049-4f9b-e4ce-9afd0958dda6"
      },
      "outputs": [
        {
          "output_type": "stream",
          "name": "stdout",
          "text": [
            "tensor(0.0221, grad_fn=<NllLossBackward0>)\n"
          ]
        }
      ],
      "source": [
        "model, opt = get_model()\n",
        "\n",
        "for epoch in range(epochs):\n",
        "    for xb, yb in train_dl:\n",
        "        pred = model(xb)\n",
        "        loss = loss_func(pred, yb)\n",
        "\n",
        "        loss.backward()\n",
        "        opt.step()\n",
        "        opt.zero_grad()\n",
        "\n",
        "print(loss_func(model(xb), yb))"
      ]
    },
    {
      "cell_type": "markdown",
      "metadata": {
        "id": "CpasSeq6YXCz"
      },
      "source": [
        "In the previous section, we focused on setting up a functional training loop for our training data. However, it's important to have a validation set to ensure that we're not overfitting. Shuffling the training data is essential to prevent correlation between batches and overfitting. Conversely, shuffling the validation set is unnecessary because the validation loss will be the same whether or not the data is shuffled. Because the validation set doesn't require backpropagation, it takes up less memory than the training set, which allows us to use a larger batch size and compute the loss more quickly. For this reason, we'll use a batch size for the validation set that is twice as large as the training set's batch size."
      ]
    },
    {
      "cell_type": "code",
      "execution_count": 32,
      "metadata": {
        "id": "7_Uz4Ad1YXCz"
      },
      "outputs": [],
      "source": [
        "train_ds = TensorDataset(x_train, y_train)\n",
        "train_dl = DataLoader(train_ds, batch_size=batch_size, shuffle=True)\n",
        "\n",
        "valid_ds = TensorDataset(x_valid, y_valid)\n",
        "valid_dl = DataLoader(valid_ds, batch_size=batch_size * 2)"
      ]
    },
    {
      "cell_type": "code",
      "execution_count": 33,
      "metadata": {
        "id": "kFivyPraYXCz",
        "colab": {
          "base_uri": "https://localhost:8080/"
        },
        "outputId": "bf22055c-7828-46bd-cbdf-cd34f3b7b6bb"
      },
      "outputs": [
        {
          "output_type": "stream",
          "name": "stdout",
          "text": [
            "0 tensor(1.2198)\n",
            "1 tensor(1.8803)\n",
            "2 tensor(1.2779)\n"
          ]
        }
      ],
      "source": [
        "model, opt = get_model()\n",
        "\n",
        "for epoch in range(epochs):\n",
        "    model.train()\n",
        "    for xb, yb in train_dl:\n",
        "        pred = model(xb)\n",
        "        loss = loss_func(pred, yb)\n",
        "\n",
        "        loss.backward()\n",
        "        opt.step()\n",
        "        opt.zero_grad()\n",
        "\n",
        "    model.eval()\n",
        "    with torch.no_grad():\n",
        "        valid_loss = sum(loss_func(model(xb), yb) for xb, yb in valid_dl)\n",
        "\n",
        "    print(epoch, valid_loss / len(valid_dl))"
      ]
    },
    {
      "cell_type": "markdown",
      "metadata": {
        "id": "ceoKap3MYXCz"
      },
      "source": [
        "Great! It's time for you to get hands-on experience with implementing a Multi-Layer Perceptron (MLP) model using PyTorch. You will be building a fully connected neural network with multiple hidden layers to classify a given dataset. The MLP model is a fundamental and widely used deep learning model, so this is a great opportunity for you to learn by doing."
      ]
    },
    {
      "cell_type": "code",
      "execution_count": 34,
      "metadata": {
        "id": "8Z8vex66YXCz",
        "colab": {
          "base_uri": "https://localhost:8080/"
        },
        "outputId": "37cf0040-34ff-421a-dc58-4f61a1baeaeb"
      },
      "outputs": [
        {
          "output_type": "stream",
          "name": "stdout",
          "text": [
            "Shape of X [N, C, H, W]: torch.Size([256, 3, 96, 96])\n",
            "Shape of y: torch.Size([256]) torch.int64\n"
          ]
        }
      ],
      "source": [
        "# You can change this batch size\n",
        "batch_size = 128\n",
        "\n",
        "# Create data loaders.\n",
        "train_dataloader = DataLoader(train_ds, batch_size=batch_size)\n",
        "valid_dataloader = DataLoader(valid_ds, batch_size=batch_size * 2)\n",
        "\n",
        "for X, y in valid_dataloader:\n",
        "    print(f\"Shape of X [N, C, H, W]: {X.shape}\")\n",
        "    print(f\"Shape of y: {y.shape} {y.dtype}\")\n",
        "    break"
      ]
    },
    {
      "cell_type": "markdown",
      "metadata": {
        "id": "UHj8vM4psoY7"
      },
      "source": [
        "### Task2: Design the MLP model (8 points)\n",
        "\n",
        "In this section of the assignment, you will be designing an MLP model to perform classification on the PCAM dataset. The MLP model class has been provided to you with some blank parts that you need to complete in order to implement the model.\n",
        "\n",
        "You need to get 60% accuracy in the test set to get full scores."
      ]
    },
    {
      "cell_type": "code",
      "execution_count": 56,
      "metadata": {
        "id": "MDa4WQWRYXCz"
      },
      "outputs": [],
      "source": [
        "#export\n",
        "from torch import nn\n",
        "### DO NOT CHANGE ANY CODE ABOVE THIS LINE IN THIS CELL ###\n",
        "\n",
        "# Define model\n",
        "class MLP(nn.Module):\n",
        "    def __init__(self):\n",
        "        super().__init__()\n",
        "\n",
        "        self.flatten = nn.Flatten()\n",
        "        # TODO: Please design your MLP layers\n",
        "        self.fc1 = nn.Linear(3*96*96, 512)\n",
        "        self.relu1 = nn.ReLU()\n",
        "\n",
        "        # Define the second hidden layer\n",
        "        self.fc2 = nn.Linear(512, 256)\n",
        "        self.relu2 = nn.ReLU()\n",
        "\n",
        "        # Define the output layer\n",
        "        self.fc3 = nn.Linear(256, 2)\n",
        "\n",
        "    def forward(self, x):\n",
        "        x = self.flatten(x)\n",
        "        # TODO: Finish this function\n",
        "        # Apply layers in sequence\n",
        "        x = self.flatten(x)\n",
        "        x = self.relu1(self.fc1(x))\n",
        "        x = self.relu2(self.fc2(x))\n",
        "        x = self.fc3(x)\n",
        "        return x\n",
        "\n",
        "######################################################################\n",
        "########## DON'T WRITE ANY CODE OUTSIDE THE CLASS! ###################\n",
        "######## IF YOU WANT TO CALL OR TEST IT CREATE A NEW CELL ############\n",
        "######################################################################"
      ]
    },
    {
      "cell_type": "markdown",
      "metadata": {
        "id": "iBGvo33CsoY7"
      },
      "source": [
        "### Use CPU/GPU\n",
        "PyTorch is a powerful deep learning library that supports GPU acceleration for faster training of neural networks. GPUs have been found to be particularly effective for deep learning tasks due to their ability to perform large-scale parallel computations. In this assignment, students have the option to use a GPU if it is available to them. If your computer has a compatible GPU and the necessary drivers installed, PyTorch will automatically detect and use it for training your models. Using a GPU can significantly speed up the training process, which can be particularly useful for larger datasets or more complex models. However, if you do not have access to a GPU, PyTorch will still be able to run on a CPU. Regardless of whether you choose to use a GPU or not, PyTorch provides a user-friendly and efficient platform for implementing and training neural networks for classification tasks."
      ]
    },
    {
      "cell_type": "code",
      "execution_count": 57,
      "metadata": {
        "id": "1w-cELSfsoY7",
        "colab": {
          "base_uri": "https://localhost:8080/"
        },
        "outputId": "36864c4f-6965-424e-f529-6898181352b4"
      },
      "outputs": [
        {
          "output_type": "stream",
          "name": "stdout",
          "text": [
            "Using cuda device\n"
          ]
        }
      ],
      "source": [
        "# Get cpu or gpu device for training. mps for mac\n",
        "device = \"cuda\" if torch.cuda.is_available() else \"mps\" if torch.backends.mps.is_available() else \"cpu\"\n",
        "print(f\"Using {device} device\")"
      ]
    },
    {
      "cell_type": "code",
      "execution_count": 58,
      "metadata": {
        "id": "9UBiAyOjYXCz",
        "colab": {
          "base_uri": "https://localhost:8080/"
        },
        "outputId": "4748b6e3-af5d-4042-df24-f86563b24e19"
      },
      "outputs": [
        {
          "output_type": "stream",
          "name": "stdout",
          "text": [
            "MLP(\n",
            "  (flatten): Flatten(start_dim=1, end_dim=-1)\n",
            "  (fc1): Linear(in_features=27648, out_features=512, bias=True)\n",
            "  (relu1): ReLU()\n",
            "  (fc2): Linear(in_features=512, out_features=256, bias=True)\n",
            "  (relu2): ReLU()\n",
            "  (fc3): Linear(in_features=256, out_features=2, bias=True)\n",
            ")\n"
          ]
        }
      ],
      "source": [
        "# bind the model to the device\n",
        "model = MLP().to(device)\n",
        "print(model)"
      ]
    },
    {
      "cell_type": "code",
      "execution_count": 59,
      "metadata": {
        "id": "LCuojJ6UYXCz"
      },
      "outputs": [],
      "source": [
        "loss_fn = nn.CrossEntropyLoss()\n",
        "# Try different learning rate\n",
        "learning_rate = 0.001\n",
        "\n",
        "# Try different optimizer\n",
        "# optimizer = torch.optim.SGD(model.parameters(), lr=learning_rate)\n",
        "optimizer = torch.optim.Adam(model.parameters(), lr=learning_rate)"
      ]
    },
    {
      "cell_type": "code",
      "execution_count": 60,
      "metadata": {
        "id": "2LdUSjOYYXCz"
      },
      "outputs": [],
      "source": [
        "def train(dataloader, model, loss_fn, optimizer):\n",
        "    size = len(dataloader.dataset)\n",
        "    model.train()\n",
        "    for batch, (X, y) in enumerate(dataloader):\n",
        "        X, y = X.to(device), y.to(device)\n",
        "\n",
        "        # Compute prediction error\n",
        "        pred = model(X)\n",
        "        loss = loss_fn(pred, y)\n",
        "\n",
        "        # Backpropagation\n",
        "        optimizer.zero_grad()\n",
        "        loss.backward()\n",
        "        optimizer.step()\n",
        "\n",
        "        if batch % 100 == 0:\n",
        "            loss, current = loss.item(), batch * len(X)\n",
        "            print(f\"loss: {loss:>7f}  [{current:>5d}/{size:>5d}]\")"
      ]
    },
    {
      "cell_type": "code",
      "execution_count": 61,
      "metadata": {
        "id": "kCuN5r0vYXCz"
      },
      "outputs": [],
      "source": [
        "def test(dataloader, model, loss_fn):\n",
        "    size = len(dataloader.dataset)\n",
        "    num_batches = len(dataloader)\n",
        "    model.eval()\n",
        "    test_loss, correct = 0, 0\n",
        "    with torch.no_grad():\n",
        "        for X, y in dataloader:\n",
        "            X, y = X.to(device), y.to(device)\n",
        "            pred = model(X)\n",
        "            test_loss += loss_fn(pred, y).item()\n",
        "            correct += (pred.argmax(1) == y).type(torch.float).sum().item()\n",
        "    test_loss /= num_batches\n",
        "    correct /= size\n",
        "    print(f\"Valid Error: \\n Accuracy: {(100*correct):>0.1f}%, Avg loss: {test_loss:>8f} \\n\")"
      ]
    },
    {
      "cell_type": "code",
      "execution_count": 62,
      "metadata": {
        "id": "W10ACsU9YXC0",
        "colab": {
          "base_uri": "https://localhost:8080/"
        },
        "outputId": "ab560f87-ed2d-454a-c9c6-aa9a275c4aa3"
      },
      "outputs": [
        {
          "output_type": "stream",
          "name": "stdout",
          "text": [
            "Epoch 1\n",
            "-------------------------------\n",
            "loss: 0.703257  [    0/27306]\n",
            "loss: 0.891801  [12800/27306]\n",
            "loss: 0.710492  [25600/27306]\n",
            "Valid Error: \n",
            " Accuracy: 62.2%, Avg loss: 0.622530 \n",
            "\n",
            "Epoch 2\n",
            "-------------------------------\n",
            "loss: 0.585126  [    0/27306]\n",
            "loss: 0.684920  [12800/27306]\n",
            "loss: 0.680378  [25600/27306]\n",
            "Valid Error: \n",
            " Accuracy: 63.0%, Avg loss: 0.602721 \n",
            "\n",
            "Epoch 3\n",
            "-------------------------------\n",
            "loss: 0.565509  [    0/27306]\n",
            "loss: 0.736262  [12800/27306]\n",
            "loss: 0.672568  [25600/27306]\n",
            "Valid Error: \n",
            " Accuracy: 63.2%, Avg loss: 0.593139 \n",
            "\n",
            "Epoch 4\n",
            "-------------------------------\n",
            "loss: 0.552287  [    0/27306]\n",
            "loss: 0.737576  [12800/27306]\n",
            "loss: 0.667546  [25600/27306]\n",
            "Valid Error: \n",
            " Accuracy: 63.9%, Avg loss: 0.586340 \n",
            "\n",
            "Epoch 5\n",
            "-------------------------------\n",
            "loss: 0.546318  [    0/27306]\n",
            "loss: 0.740185  [12800/27306]\n",
            "loss: 0.675019  [25600/27306]\n",
            "Valid Error: \n",
            " Accuracy: 64.5%, Avg loss: 0.582709 \n",
            "\n",
            "Epoch 6\n",
            "-------------------------------\n",
            "loss: 0.544002  [    0/27306]\n",
            "loss: 0.753342  [12800/27306]\n",
            "loss: 0.666546  [25600/27306]\n",
            "Valid Error: \n",
            " Accuracy: 64.6%, Avg loss: 0.578794 \n",
            "\n",
            "Epoch 7\n",
            "-------------------------------\n",
            "loss: 0.534700  [    0/27306]\n",
            "loss: 0.729325  [12800/27306]\n",
            "loss: 0.660979  [25600/27306]\n",
            "Valid Error: \n",
            " Accuracy: 65.5%, Avg loss: 0.574003 \n",
            "\n",
            "Epoch 8\n",
            "-------------------------------\n",
            "loss: 0.531910  [    0/27306]\n",
            "loss: 0.692947  [12800/27306]\n",
            "loss: 0.668605  [25600/27306]\n",
            "Valid Error: \n",
            " Accuracy: 64.9%, Avg loss: 0.579211 \n",
            "\n",
            "Epoch 9\n",
            "-------------------------------\n",
            "loss: 0.540966  [    0/27306]\n",
            "loss: 0.696675  [12800/27306]\n",
            "loss: 0.674474  [25600/27306]\n",
            "Valid Error: \n",
            " Accuracy: 64.7%, Avg loss: 0.575076 \n",
            "\n",
            "Epoch 10\n",
            "-------------------------------\n",
            "loss: 0.532536  [    0/27306]\n",
            "loss: 0.681895  [12800/27306]\n",
            "loss: 0.641979  [25600/27306]\n",
            "Valid Error: \n",
            " Accuracy: 66.3%, Avg loss: 0.564410 \n",
            "\n",
            "Done!\n"
          ]
        }
      ],
      "source": [
        "epochs = 10\n",
        "for t in range(epochs):\n",
        "    print(f\"Epoch {t+1}\\n-------------------------------\")\n",
        "    train(train_dataloader, model, loss_fn, optimizer)\n",
        "    test(valid_dataloader, model, loss_fn)\n",
        "print(\"Done!\")"
      ]
    },
    {
      "cell_type": "markdown",
      "metadata": {
        "id": "ctD5T7BlsoY8"
      },
      "source": [
        "### Save the model\n",
        "You can save the model you have trained and load it when you need. When you have finished this assignment, you need to upload both this notebook and the models you trained to gradescope. And please note that gradescope has a size limit for the uploaded file of 100 MB. Do not define models with a large param size."
      ]
    },
    {
      "cell_type": "code",
      "execution_count": 65,
      "metadata": {
        "id": "NEcTMXOjsoY8",
        "colab": {
          "base_uri": "https://localhost:8080/"
        },
        "outputId": "fea9d4fd-9c8c-4d4d-cd39-602046475f27"
      },
      "outputs": [
        {
          "output_type": "stream",
          "name": "stdout",
          "text": [
            "Saved PyTorch Model State to mlp.pth\n"
          ]
        }
      ],
      "source": [
        "torch.save(model.state_dict(), \"mlp.pth\")\n",
        "print(\"Saved PyTorch Model State to mlp.pth\")"
      ]
    },
    {
      "cell_type": "code",
      "execution_count": 64,
      "metadata": {
        "id": "MDJE8_VxsoY8",
        "colab": {
          "base_uri": "https://localhost:8080/"
        },
        "outputId": "4240fd53-2bcd-4a77-b706-ffa49b56e915"
      },
      "outputs": [
        {
          "output_type": "stream",
          "name": "stdout",
          "text": [
            "Valid Error: \n",
            " Accuracy: 66.3%, Avg loss: 0.564410 \n",
            "\n"
          ]
        }
      ],
      "source": [
        "model = MLP()\n",
        "model.load_state_dict(torch.load(\"mlp.pth\"))\n",
        "model = model.to(device)\n",
        "model.eval()\n",
        "test(valid_dataloader, model, loss_fn)"
      ]
    },
    {
      "cell_type": "code",
      "source": [
        "from google.colab import files\n",
        "files.download('mlp.pth')"
      ],
      "metadata": {
        "colab": {
          "base_uri": "https://localhost:8080/",
          "height": 17
        },
        "id": "UzRWPSM9ICsE",
        "outputId": "82568b32-8eb9-4d61-c6d8-a97c5e780367"
      },
      "execution_count": 66,
      "outputs": [
        {
          "output_type": "display_data",
          "data": {
            "text/plain": [
              "<IPython.core.display.Javascript object>"
            ],
            "application/javascript": [
              "\n",
              "    async function download(id, filename, size) {\n",
              "      if (!google.colab.kernel.accessAllowed) {\n",
              "        return;\n",
              "      }\n",
              "      const div = document.createElement('div');\n",
              "      const label = document.createElement('label');\n",
              "      label.textContent = `Downloading \"${filename}\": `;\n",
              "      div.appendChild(label);\n",
              "      const progress = document.createElement('progress');\n",
              "      progress.max = size;\n",
              "      div.appendChild(progress);\n",
              "      document.body.appendChild(div);\n",
              "\n",
              "      const buffers = [];\n",
              "      let downloaded = 0;\n",
              "\n",
              "      const channel = await google.colab.kernel.comms.open(id);\n",
              "      // Send a message to notify the kernel that we're ready.\n",
              "      channel.send({})\n",
              "\n",
              "      for await (const message of channel.messages) {\n",
              "        // Send a message to notify the kernel that we're ready.\n",
              "        channel.send({})\n",
              "        if (message.buffers) {\n",
              "          for (const buffer of message.buffers) {\n",
              "            buffers.push(buffer);\n",
              "            downloaded += buffer.byteLength;\n",
              "            progress.value = downloaded;\n",
              "          }\n",
              "        }\n",
              "      }\n",
              "      const blob = new Blob(buffers, {type: 'application/binary'});\n",
              "      const a = document.createElement('a');\n",
              "      a.href = window.URL.createObjectURL(blob);\n",
              "      a.download = filename;\n",
              "      div.appendChild(a);\n",
              "      a.click();\n",
              "      div.remove();\n",
              "    }\n",
              "  "
            ]
          },
          "metadata": {}
        },
        {
          "output_type": "display_data",
          "data": {
            "text/plain": [
              "<IPython.core.display.Javascript object>"
            ],
            "application/javascript": [
              "download(\"download_927b6dbb-5ce7-4f7a-a26f-b2cddbfd8358\", \"mlp.pth\", 57154848)"
            ]
          },
          "metadata": {}
        }
      ]
    },
    {
      "cell_type": "markdown",
      "metadata": {
        "id": "Z4tjmTeJsoY8"
      },
      "source": [
        "## CNN\n",
        "In this section of the assignment, we will be using Convolutional Neural Networks (CNNs) to perform classification on the PCAM dataset. CNNs are a type of neural network that are specifically designed for image classification tasks. The main idea behind CNNs is to use convolutional layers to extract spatial features from the input image, followed by pooling layers to reduce the spatial dimensions of the features. The extracted features are then flattened and passed through one or more fully connected layers to perform the final classification."
      ]
    },
    {
      "cell_type": "markdown",
      "metadata": {
        "id": "IiS2_mpcsoY8"
      },
      "source": [
        "### Task 3: Design the CNN model (12 points)\n",
        "In this assignment, we have provided a CNN model class for you to use as a starting point. However, you will need to complete some blank parts of the class in order to implement the model. You will be using PyTorch to design and train your CNN model. During the training process, your model will learn to automatically extract relevant features from the input images, which can significantly improve classification accuracy compared to traditional machine learning algorithms. By the end of this section, you will have gained hands-on experience in designing a CNN model using PyTorch and trained it to classify images with high accuracy.\n",
        "\n",
        "You can take a look at the \"Deep Learning\" slides if you do not know where to start.\n",
        "\n",
        "You will get 8 points if get 68% accuracy and full scores for 72% accuracy."
      ]
    },
    {
      "cell_type": "code",
      "execution_count": 67,
      "metadata": {
        "id": "W8nJYWG2soY8"
      },
      "outputs": [],
      "source": [
        "#export\n",
        "### DO NOT CHANGE ANY CODE ABOVE THIS LINE IN THIS CELL ###\n",
        "\n",
        "class CNN(nn.Module):\n",
        "    def __init__(self):\n",
        "        super().__init__()\n",
        "\n",
        "        # TODO: Please design your CNN layers. They are typically made of some Conv2d layers and pool layers\n",
        "        self.conv1 = nn.Conv2d(in_channels=3, out_channels=32, kernel_size=3, padding=1)\n",
        "        self.conv2 = nn.Conv2d(in_channels=32, out_channels=64, kernel_size=3, padding=1)\n",
        "        self.pool = nn.MaxPool2d(kernel_size=2, stride=2)\n",
        "        self.fc1 = nn.Linear(64 * 24 * 24, 500)\n",
        "        self.fc2 = nn.Linear(500, 2)\n",
        "        self.dropout = nn.Dropout(0.5)\n",
        "        self.relu = nn.ReLU()\n",
        "\n",
        "    def forward(self, x):\n",
        "        # TODO: Finish it\n",
        "        x = self.pool(self.relu(self.conv1(x)))\n",
        "        x = self.pool(self.relu(self.conv2(x)))\n",
        "        x = x.view(-1, 64 * 24 * 24)\n",
        "        x = self.dropout(x)\n",
        "        x = self.relu(self.fc1(x))\n",
        "        x = self.dropout(x)\n",
        "        x = self.fc2(x)\n",
        "        return x\n",
        "\n",
        "######################################################################\n",
        "########## DON'T WRITE ANY CODE OUTSIDE THE CLASS! ###################\n",
        "######## IF YOU WANT TO CALL OR TEST IT CREATE A NEW CELL ############\n",
        "######################################################################"
      ]
    },
    {
      "cell_type": "code",
      "execution_count": 68,
      "metadata": {
        "id": "DVCOSm5fsoY8",
        "colab": {
          "base_uri": "https://localhost:8080/"
        },
        "outputId": "9f4b6319-87e6-463a-cfa1-aecfcfef38b4"
      },
      "outputs": [
        {
          "output_type": "stream",
          "name": "stdout",
          "text": [
            "CNN(\n",
            "  (conv1): Conv2d(3, 32, kernel_size=(3, 3), stride=(1, 1), padding=(1, 1))\n",
            "  (conv2): Conv2d(32, 64, kernel_size=(3, 3), stride=(1, 1), padding=(1, 1))\n",
            "  (pool): MaxPool2d(kernel_size=2, stride=2, padding=0, dilation=1, ceil_mode=False)\n",
            "  (fc1): Linear(in_features=36864, out_features=500, bias=True)\n",
            "  (fc2): Linear(in_features=500, out_features=2, bias=True)\n",
            "  (dropout): Dropout(p=0.5, inplace=False)\n",
            "  (relu): ReLU()\n",
            ")\n"
          ]
        }
      ],
      "source": [
        "model = CNN().to(device)\n",
        "print(model)"
      ]
    },
    {
      "cell_type": "code",
      "execution_count": 69,
      "metadata": {
        "id": "NJBd_en7soY8"
      },
      "outputs": [],
      "source": [
        "loss_fn = nn.CrossEntropyLoss()\n",
        "# Try different learning rate\n",
        "learning_rate = 0.001\n",
        "# optimizer = torch.optim.SGD(model.parameters(), lr=learning_rate)\n",
        "optimizer = torch.optim.Adam(model.parameters(), lr=learning_rate)"
      ]
    },
    {
      "cell_type": "code",
      "execution_count": 70,
      "metadata": {
        "id": "RU48Wt8hsoY9",
        "colab": {
          "base_uri": "https://localhost:8080/"
        },
        "outputId": "4083b9e4-eaaf-4cdb-84ef-8e2fee8d28ec"
      },
      "outputs": [
        {
          "output_type": "stream",
          "name": "stdout",
          "text": [
            "Epoch 1\n",
            "-------------------------------\n",
            "loss: 0.704031  [    0/27306]\n",
            "loss: 0.565580  [12800/27306]\n",
            "loss: 0.568493  [25600/27306]\n",
            "Valid Error: \n",
            " Accuracy: 70.6%, Avg loss: 0.565703 \n",
            "\n",
            "Epoch 2\n",
            "-------------------------------\n",
            "loss: 0.598230  [    0/27306]\n",
            "loss: 0.434315  [12800/27306]\n",
            "loss: 0.611598  [25600/27306]\n",
            "Valid Error: \n",
            " Accuracy: 78.7%, Avg loss: 0.463866 \n",
            "\n",
            "Epoch 3\n",
            "-------------------------------\n",
            "loss: 0.460705  [    0/27306]\n",
            "loss: 0.397146  [12800/27306]\n",
            "loss: 0.533098  [25600/27306]\n",
            "Valid Error: \n",
            " Accuracy: 79.0%, Avg loss: 0.429406 \n",
            "\n",
            "Epoch 4\n",
            "-------------------------------\n",
            "loss: 0.443045  [    0/27306]\n",
            "loss: 0.374684  [12800/27306]\n",
            "loss: 0.487901  [25600/27306]\n",
            "Valid Error: \n",
            " Accuracy: 81.0%, Avg loss: 0.400161 \n",
            "\n",
            "Epoch 5\n",
            "-------------------------------\n",
            "loss: 0.385994  [    0/27306]\n",
            "loss: 0.355114  [12800/27306]\n",
            "loss: 0.503627  [25600/27306]\n",
            "Valid Error: \n",
            " Accuracy: 83.8%, Avg loss: 0.362686 \n",
            "\n",
            "Epoch 6\n",
            "-------------------------------\n",
            "loss: 0.350627  [    0/27306]\n",
            "loss: 0.372092  [12800/27306]\n",
            "loss: 0.404214  [25600/27306]\n",
            "Valid Error: \n",
            " Accuracy: 84.3%, Avg loss: 0.352891 \n",
            "\n",
            "Epoch 7\n",
            "-------------------------------\n",
            "loss: 0.377835  [    0/27306]\n",
            "loss: 0.254176  [12800/27306]\n",
            "loss: 0.313524  [25600/27306]\n",
            "Valid Error: \n",
            " Accuracy: 85.0%, Avg loss: 0.343760 \n",
            "\n",
            "Epoch 8\n",
            "-------------------------------\n",
            "loss: 0.349357  [    0/27306]\n",
            "loss: 0.264666  [12800/27306]\n",
            "loss: 0.319963  [25600/27306]\n",
            "Valid Error: \n",
            " Accuracy: 86.0%, Avg loss: 0.323262 \n",
            "\n",
            "Epoch 9\n",
            "-------------------------------\n",
            "loss: 0.316325  [    0/27306]\n",
            "loss: 0.275624  [12800/27306]\n",
            "loss: 0.291097  [25600/27306]\n",
            "Valid Error: \n",
            " Accuracy: 85.9%, Avg loss: 0.333678 \n",
            "\n",
            "Epoch 10\n",
            "-------------------------------\n",
            "loss: 0.298680  [    0/27306]\n",
            "loss: 0.289526  [12800/27306]\n",
            "loss: 0.265921  [25600/27306]\n",
            "Valid Error: \n",
            " Accuracy: 86.3%, Avg loss: 0.327053 \n",
            "\n",
            "Done!\n"
          ]
        }
      ],
      "source": [
        "epochs = 10\n",
        "for t in range(epochs):\n",
        "    print(f\"Epoch {t+1}\\n-------------------------------\")\n",
        "    train(train_dataloader, model, loss_fn, optimizer)\n",
        "    test(valid_dataloader, model, loss_fn)\n",
        "print(\"Done!\")"
      ]
    },
    {
      "cell_type": "code",
      "execution_count": 71,
      "metadata": {
        "id": "N5ZRdgpwsoY9",
        "colab": {
          "base_uri": "https://localhost:8080/"
        },
        "outputId": "197e005b-d903-497e-c47c-44ea9219b4e2"
      },
      "outputs": [
        {
          "output_type": "stream",
          "name": "stdout",
          "text": [
            "Saved PyTorch Model State to cnn.pth\n"
          ]
        }
      ],
      "source": [
        "torch.save(model.state_dict(), \"cnn.pth\")\n",
        "print(\"Saved PyTorch Model State to cnn.pth\")"
      ]
    },
    {
      "cell_type": "code",
      "execution_count": 72,
      "metadata": {
        "id": "_r-S7ZawsoY9",
        "colab": {
          "base_uri": "https://localhost:8080/"
        },
        "outputId": "b31a6b96-2757-4575-b800-c27d2e98d0ee"
      },
      "outputs": [
        {
          "output_type": "stream",
          "name": "stdout",
          "text": [
            "Valid Error: \n",
            " Accuracy: 86.3%, Avg loss: 0.327053 \n",
            "\n"
          ]
        }
      ],
      "source": [
        "model = CNN()\n",
        "model.load_state_dict(torch.load(\"cnn.pth\"))\n",
        "model = model.to(device)\n",
        "model.eval()\n",
        "test(valid_dataloader, model, loss_fn)"
      ]
    },
    {
      "cell_type": "code",
      "source": [
        "from google.colab import files\n",
        "files.download(\"cnn.pth\")"
      ],
      "metadata": {
        "colab": {
          "base_uri": "https://localhost:8080/",
          "height": 17
        },
        "id": "FMKu3-06IyaU",
        "outputId": "d253ef1f-36c1-4c86-b079-3fb43fed2c96"
      },
      "execution_count": 73,
      "outputs": [
        {
          "output_type": "display_data",
          "data": {
            "text/plain": [
              "<IPython.core.display.Javascript object>"
            ],
            "application/javascript": [
              "\n",
              "    async function download(id, filename, size) {\n",
              "      if (!google.colab.kernel.accessAllowed) {\n",
              "        return;\n",
              "      }\n",
              "      const div = document.createElement('div');\n",
              "      const label = document.createElement('label');\n",
              "      label.textContent = `Downloading \"${filename}\": `;\n",
              "      div.appendChild(label);\n",
              "      const progress = document.createElement('progress');\n",
              "      progress.max = size;\n",
              "      div.appendChild(progress);\n",
              "      document.body.appendChild(div);\n",
              "\n",
              "      const buffers = [];\n",
              "      let downloaded = 0;\n",
              "\n",
              "      const channel = await google.colab.kernel.comms.open(id);\n",
              "      // Send a message to notify the kernel that we're ready.\n",
              "      channel.send({})\n",
              "\n",
              "      for await (const message of channel.messages) {\n",
              "        // Send a message to notify the kernel that we're ready.\n",
              "        channel.send({})\n",
              "        if (message.buffers) {\n",
              "          for (const buffer of message.buffers) {\n",
              "            buffers.push(buffer);\n",
              "            downloaded += buffer.byteLength;\n",
              "            progress.value = downloaded;\n",
              "          }\n",
              "        }\n",
              "      }\n",
              "      const blob = new Blob(buffers, {type: 'application/binary'});\n",
              "      const a = document.createElement('a');\n",
              "      a.href = window.URL.createObjectURL(blob);\n",
              "      a.download = filename;\n",
              "      div.appendChild(a);\n",
              "      a.click();\n",
              "      div.remove();\n",
              "    }\n",
              "  "
            ]
          },
          "metadata": {}
        },
        {
          "output_type": "display_data",
          "data": {
            "text/plain": [
              "<IPython.core.display.Javascript object>"
            ],
            "application/javascript": [
              "download(\"download_03466cfe-4531-4f0b-a9a6-36c5312fd100\", \"cnn.pth\", 73814416)"
            ]
          },
          "metadata": {}
        }
      ]
    },
    {
      "cell_type": "markdown",
      "metadata": {
        "id": "AM-XLUbhsoY9"
      },
      "source": [
        "## Submission\n",
        "\n",
        "When you have tested your code locally, you can upload your notebook with the saved model files to gradescope to get evaluated.\n",
        "\n",
        "Please submit a zip file to Gradescope that includes the following:\n",
        "\n",
        "1. The `hw2_nn.ipynb` notebook file.\n",
        "2. The `mlp.pth` MLP saved model file.\n",
        "3. The `cnn.path` CNN saved model file.\n",
        "4. The `weights.txt` file in Q1.\n",
        "5. The `hw2_clf.ipynb` notebook file.\n",
        "\n",
        "These saved models should have the same structure as the class of model in your notebook.\n",
        "\n",
        "Please make sure that your code runs correctly and that you have included all necessary files in the zip file.\n",
        "Please test your code before submitting to ensure that it runs correctly and all the outputs match the expected results.\n",
        "\n",
        "**IMPORTANT**: Please **do not** include a root directory in the zip file. The three files should be compressed directly."
      ]
    }
  ],
  "metadata": {
    "accelerator": "GPU",
    "colab": {
      "provenance": []
    },
    "gpuClass": "standard",
    "kernelspec": {
      "display_name": "py3_8_env",
      "language": "python",
      "name": "python3"
    },
    "language_info": {
      "codemirror_mode": {
        "name": "ipython",
        "version": 3
      },
      "file_extension": ".py",
      "mimetype": "text/x-python",
      "name": "python",
      "nbconvert_exporter": "python",
      "pygments_lexer": "ipython3",
      "version": "3.8.9"
    },
    "orig_nbformat": 4,
    "vscode": {
      "interpreter": {
        "hash": "62d6956ce3d91f763f1b1cb5000a8130923351a5b73c1bdd976d9a0bfec7bf14"
      }
    }
  },
  "nbformat": 4,
  "nbformat_minor": 0
}